{
 "cells": [
  {
   "cell_type": "code",
   "execution_count": 111,
   "metadata": {},
   "outputs": [],
   "source": [
    "import sys, os, h5py\n",
    "import numpy as np\n",
    "import tensorflow as tf\n",
    "# from rich.console import Console\n",
    "# console = Console()\n",
    "\n",
    "sys.path.append(r\"/Users/sachagreenfield/Desktop/GitHub/\")\n",
    "from qnl_trajectories.analysis import data_analysis\n",
    "from utils import *\n",
    "from vanilla_lstm import *\n",
    "\n",
    "dark_mode_compatible(dark_mode_color=r'#86888A')"
   ]
  },
  {
   "cell_type": "code",
   "execution_count": 306,
   "metadata": {},
   "outputs": [
    {
     "data": {
      "text/plain": [
       "'data_sim/test_data_3X.h5'"
      ]
     },
     "execution_count": 306,
     "metadata": {},
     "output_type": "execute_result"
    }
   ],
   "source": [
    "filepath = \"data_sim\"\n",
    "file_prefix = \"test_data_3\"\n",
    "\n",
    "filepath + \"/\" + file_prefix + \"X\" + \".h5\""
   ]
  },
  {
   "cell_type": "code",
   "execution_count": 307,
   "metadata": {},
   "outputs": [
    {
     "name": "stdout",
     "output_type": "stream",
     "text": [
      "X\n",
      "Y\n",
      "Z\n"
     ]
    }
   ],
   "source": [
    "dX = dict()\n",
    "dY = dict()\n",
    "dZ = dict()\n",
    "\n",
    "for label in [\"X\",\"Y\",\"Z\"]:\n",
    "    d = dict()\n",
    "    f = h5py.File(filepath + \"/\" + file_prefix + label + \".h5\", 'r')\n",
    "\n",
    "    # PARAMETERS    \n",
    "    N_tg = f[\"parameters\"][\"N_time_groups\"][()]\n",
    "    strong_ro_dt = f[\"parameters\"][\"sro_Δt\"][()]\n",
    "    N_reps = f[\"parameters\"][\"N_reps\"][()]\n",
    "    dt = f[\"parameters\"][\"integration_time\"][()]\n",
    "    \n",
    "    for t in range(1,N_tg+1):\n",
    "        d[f't_{t}'] = dict()\n",
    "        \n",
    "        d[f't_{t}']['N_reps'] = N_reps\n",
    "        d[f't_{t}']['integration_time'] = dt\n",
    "        \n",
    "        d[f't_{t}']['Tm'] = f[f't_{t}']['Tm'][()]\n",
    "        d[f't_{t}']['I'] = np.transpose(f[f't_{t}']['I'][()])\n",
    "        d[f't_{t}']['Q'] = np.transpose(f[f't_{t}']['Q'][()])\n",
    "        d[f't_{t}']['strong_ro_classifications'] = f[f't_{t}']['strong_ro_classifications'][()].astype(int)\n",
    "\n",
    "    print(label)\n",
    "    if label==\"X\":\n",
    "        dX = d\n",
    "    elif label==\"Y\":\n",
    "        dY = d\n",
    "    elif label==\"Z\":\n",
    "        dZ = d\n",
    "        \n",
    "    "
   ]
  },
  {
   "cell_type": "code",
   "execution_count": 308,
   "metadata": {},
   "outputs": [
    {
     "data": {
      "text/plain": [
       "array([1, 1, 1, 1, 1, 1, 0, 0, 0, 0, 0, 1, 1, 0, 0, 1, 0, 0, 0, 1, 1, 0,\n",
       "       1, 1, 0, 1, 1, 0, 0, 1, 1, 1, 1, 0, 0, 1, 1, 0, 0, 1, 1, 1, 1, 0,\n",
       "       1, 1, 1, 1, 1, 1])"
      ]
     },
     "execution_count": 308,
     "metadata": {},
     "output_type": "execute_result"
    }
   ],
   "source": [
    "dX['t_1']['strong_ro_classifications']"
   ]
  },
  {
   "cell_type": "code",
   "execution_count": 309,
   "metadata": {},
   "outputs": [],
   "source": [
    "# NOTE: Note that most of the settings below must be equal to the settings in prep.py\n",
    "# Path that contains the training/validation dataset.\n",
    "\n",
    "# last_timestep determines the length of trajectories used for training in units of strong_ro_dt.\n",
    "# Must be <= the last strong readout point\n",
    "last_timestep = N_tg\n",
    "mask_value = -1 # This is the mask value for the data, not the missing labels\n",
    "num_features = 2 # I and Q\n",
    "\n",
    "# console.print(\"Loading data...\", style=\"bold red\")\n",
    "\n",
    "# Load the data from the pickle files.\n",
    "# dX = data_analysis.load_data(os.path.join(filepath, 'meas_X'), last_timestep=last_timestep, qubit='Q6')\n",
    "# dY = data_analysis.load_data(os.path.join(filepath, 'meas_Y'), last_timestep=last_timestep, qubit='Q6')\n",
    "# dZ = data_analysis.load_data(os.path.join(filepath, 'meas_Z'), last_timestep=last_timestep, qubit='Q6')\n"
   ]
  },
  {
   "cell_type": "code",
   "execution_count": 310,
   "metadata": {},
   "outputs": [
    {
     "data": {
      "image/png": "[encoded data removed]",
      "text/plain": [
       "<Figure size 432x288 with 1 Axes>"
      ]
     },
     "metadata": {
      "needs_background": "dark"
     },
     "output_type": "display_data"
    }
   ],
   "source": [
    "# Get the expectation value from the data containers for each measurement axis.\n",
    "Tm, expX, expY, expZ = data_analysis.plot_average_trajectories(dX, dY, dZ,\n",
    "                                                               timesteps=np.arange(1, last_timestep+1),\n",
    "                                                               fit_curves=[],\n",
    "                                                               artificial_detuning=False,\n",
    "                                                               savepath=None)\n"
   ]
  },
  {
   "cell_type": "code",
   "execution_count": 311,
   "metadata": {},
   "outputs": [],
   "source": [
    "expX = np.array(expX)\n",
    "expY = np.array(expY)\n",
    "expZ = np.array(expZ)\n",
    "\n",
    "# dt = f[\"parameters\"][\"integration_time\"][()]\n",
    "timesteps = range(1, last_timestep+1)\n",
    "tfinal = dZ[f't_{timesteps[-1]}']['Tm']"
   ]
  },
  {
   "cell_type": "code",
   "execution_count": 312,
   "metadata": {},
   "outputs": [
    {
     "name": "stdout",
     "output_type": "stream",
     "text": [
      "Loaded data...\n"
     ]
    }
   ],
   "source": [
    "\n",
    "\n",
    "print(\"Loaded data...\")\n",
    "\n",
    "# Extract the I and Q voltage records and apply a scaling\n",
    "scaling = 500\n",
    "rawX_I, rawX_Q, labelsX, reps_per_timestepX = get_data(dX, 'X', timesteps, scaling=scaling)\n",
    "rawY_I, rawY_Q, labelsY, reps_per_timestepY = get_data(dY, 'Y', timesteps, scaling=scaling)\n",
    "rawZ_I, rawZ_Q, labelsZ, reps_per_timestepZ = get_data(dZ, 'Z', timesteps, scaling=scaling)"
   ]
  },
  {
   "cell_type": "code",
   "execution_count": 313,
   "metadata": {},
   "outputs": [],
   "source": [
    "# Append I and Q voltage records from different measurement axes\n",
    "raw_I = rawX_I + rawY_I + rawZ_I\n",
    "raw_Q = rawX_Q + rawY_Q + rawZ_Q\n",
    "reps_per_timestep = reps_per_timestepX + reps_per_timestepY + reps_per_timestepZ\n",
    "labels = np.vstack((np.vstack((labelsX, labelsY)), labelsZ))\n",
    "meas_ax = ['X'] * np.sum(reps_per_timestepX) + ['Y'] * np.sum(reps_per_timestepY) + \\\n",
    "          ['Z'] * np.sum(reps_per_timestepZ)\n"
   ]
  },
  {
   "cell_type": "code",
   "execution_count": 318,
   "metadata": {},
   "outputs": [],
   "source": [
    "\n",
    "# By default, this will pad using 0s; it is configurable via the \"value\" parameter.\n",
    "# Note that you could \"pre\" padding (at the beginning) or \"post\" padding (at the end).\n",
    "# We recommend using \"post\" padding when working with RNN layers (in order to be able to use the\n",
    "# CuDNN implementation of the layers).\n",
    "padded_I = tf.keras.preprocessing.sequence.pad_sequences(raw_I, padding='post',\n",
    "                                                         dtype='float32', value=mask_value)\n",
    "padded_Q = tf.keras.preprocessing.sequence.pad_sequences(raw_Q, padding='post',\n",
    "                                                         dtype='float32', value=mask_value)\n"
   ]
  },
  {
   "cell_type": "code",
   "execution_count": 319,
   "metadata": {},
   "outputs": [],
   "source": [
    "\n",
    "batch_size, sequence_length = np.shape(padded_I)\n",
    "\n",
    "# Pad the labels such that they can be processed by the NN later\n",
    "padded_labels = pad_labels(labels, (int(strong_ro_dt/dt) * np.array(timesteps)).tolist() * 3, reps_per_timestep, mask_value)\n"
   ]
  },
  {
   "cell_type": "code",
   "execution_count": 320,
   "metadata": {},
   "outputs": [
    {
     "name": "stdout",
     "output_type": "stream",
     "text": [
      "Training batch size: 810 (90.0%)\n",
      "Validation batch size: 90 (10.0%)\n"
     ]
    }
   ],
   "source": [
    "\n",
    "# Split validation and data deterministically so we can compare results from run to run\n",
    "train_x, train_y, valid_x, valid_y = split_data_same_each_time(padded_I.astype(np.float32), padded_Q.astype(np.float32),\n",
    "                                                               padded_labels, 0.90, start_idx=0)\n"
   ]
  },
  {
   "cell_type": "code",
   "execution_count": 321,
   "metadata": {},
   "outputs": [
    {
     "name": "stdout",
     "output_type": "stream",
     "text": [
      "Saving processed data to data_sim...\n"
     ]
    }
   ],
   "source": [
    "\n",
    "train_msk = train_x != mask_value\n",
    "valid_msk = valid_x != mask_value\n",
    "all_data_msk = padded_I != mask_value\n",
    "\n",
    "all_time_series_lengths = np.sum(all_data_msk, axis=1)\n",
    "valid_time_series_lengths = np.sum(valid_msk[:, :, 0], axis=1)\n",
    "train_time_series_lengths = np.sum(train_msk[:, :, 0], axis=1)\n",
    "\n",
    "# Save a pre-processed file as an h5 file. Note these files can be quite large, typ. 15 GB.\n",
    "print(f\"Saving processed data to {filepath}...\")\n",
    "with h5py.File(os.path.join(filepath, \"training_validation_split.h5\"), 'w') as f:\n",
    "    f.create_dataset(\"train_x\", data=train_x)\n",
    "    f.create_dataset(\"train_y\", data=train_y)\n",
    "    f.create_dataset(\"valid_x\", data=valid_x)\n",
    "    f.create_dataset(\"valid_y\", data=valid_y)\n",
    "\n",
    "    f.create_dataset(\"Tm\", data=Tm[np.array(timesteps)-1])\n",
    "    f.create_dataset(\"expX\", data=expX[np.array(timesteps)-1])\n",
    "    f.create_dataset(\"expY\", data=expY[np.array(timesteps)-1])\n",
    "    f.create_dataset(\"expZ\", data=expZ[np.array(timesteps)-1])\n",
    "\n",
    "    f.create_dataset(\"all_time_series_lengths\", data=all_time_series_lengths)\n",
    "    f.create_dataset(\"valid_time_series_lengths\", data=valid_time_series_lengths)\n",
    "    f.create_dataset(\"train_time_series_lengths\", data=train_time_series_lengths)\n",
    "\n",
    "    f.create_dataset(\"dt\", data=np.array([dt]))\n",
    "    f.create_dataset(\"tfinal\", data=np.array([tfinal]))"
   ]
  },
  {
   "cell_type": "code",
   "execution_count": null,
   "metadata": {},
   "outputs": [],
   "source": []
  },
  {
   "cell_type": "code",
   "execution_count": null,
   "metadata": {},
   "outputs": [],
   "source": []
  }
 ],
 "metadata": {
  "kernelspec": {
   "display_name": "Python 3",
   "language": "python",
   "name": "python3"
  },
  "language_info": {
   "codemirror_mode": {
    "name": "ipython",
    "version": 3
   },
   "file_extension": ".py",
   "mimetype": "text/x-python",
   "name": "python",
   "nbconvert_exporter": "python",
   "pygments_lexer": "ipython3",
   "version": "3.7.4"
  }
 },
 "nbformat": 4,
 "nbformat_minor": 2
}
