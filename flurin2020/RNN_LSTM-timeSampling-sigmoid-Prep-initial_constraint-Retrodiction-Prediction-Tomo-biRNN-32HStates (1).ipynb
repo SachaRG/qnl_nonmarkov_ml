{
 "cells": [
  {
   "cell_type": "code",
   "execution_count": 1,
   "metadata": {},
   "outputs": [
    {
     "name": "stdout",
     "output_type": "stream",
     "text": [
      "1.4.0-rc1\n"
     ]
    }
   ],
   "source": [
    "import tensorflow as tf\n",
    "from matplotlib.colors import LogNorm\n",
    "from tensorflow.contrib import rnn\n",
    "from tensorflow.python.client import device_lib\n",
    "import numpy as np\n",
    "import matplotlib.pyplot as plt\n",
    "%matplotlib inline\n",
    "import time\n",
    "import os\n",
    "import pickle\n",
    "from IPython import display\n",
    "from matplotlib.patches import Ellipse\n",
    "\n",
    "import h5py\n",
    "os.environ['TZ'] = 'US/Pacific'\n",
    "time.tzset()\n",
    "\n",
    "filename_start=\"data/DurSweepA_\"\n",
    "filename_start=\"data/DurSweep4usNoRabi_\"\n",
    "filename_start=\"data/DurSweep4usRabi_\"\n",
    "filename_start=\"data/LeighisNice/DispNoRabiTestX\"\n",
    "filename_start=\"data/LeighisNice/DispNoRabiTestY\"\n",
    "filename_start=\"data/LeighisNice/DispRabi\"\n",
    "filename_start=\"data/AllPreps/InsaneRabi_Prep\"\n",
    "\n",
    "\n",
    "\n",
    "livestream=False\n",
    "\n",
    "logs_path = 'model/prediction_retrodiction/'\n",
    "model_name=\"prediction_retrodiction_tomo_dropout_32HS_v2\"\n",
    "\n",
    "logs_path = 'model/prediction_retrodiction/'\n",
    "init_model=\"prediction_retrodiction_tomo_dropout_32HS_v1\"\n",
    "\n",
    "\n",
    "\n",
    "\n",
    "print(tf.__version__)\n",
    "#device_lib.list_local_devices()"
   ]
  },
  {
   "cell_type": "code",
   "execution_count": 2,
   "metadata": {},
   "outputs": [
    {
     "data": {
      "text/plain": [
       "[name: \"/device:CPU:0\"\n",
       " device_type: \"CPU\"\n",
       " memory_limit: 268435456\n",
       " locality {\n",
       " }\n",
       " incarnation: 16534110058156657720, name: \"/device:XLA_GPU:0\"\n",
       " device_type: \"XLA_GPU\"\n",
       " memory_limit: 17179869184\n",
       " locality {\n",
       " }\n",
       " incarnation: 13660231205299216859\n",
       " physical_device_desc: \"device: XLA_GPU device\", name: \"/device:XLA_CPU:0\"\n",
       " device_type: \"XLA_CPU\"\n",
       " memory_limit: 17179869184\n",
       " locality {\n",
       " }\n",
       " incarnation: 7971798992946377220\n",
       " physical_device_desc: \"device: XLA_CPU device\"]"
      ]
     },
     "execution_count": 2,
     "metadata": {},
     "output_type": "execute_result"
    }
   ],
   "source": [
    "device_lib.list_local_devices()"
   ]
  },
  {
   "cell_type": "markdown",
   "metadata": {},
   "source": [
    "# Loading functions"
   ]
  },
  {
   "cell_type": "code",
   "execution_count": 3,
   "metadata": {
    "collapsed": true
   },
   "outputs": [],
   "source": [
    "def data_loading(i,filename_start,N_time):\n",
    "        \n",
    "    filename=filename_start+str(i)+\".h5\"\n",
    "\n",
    "    if livestream:        \n",
    "        nextfilename=filename_start+str(i+1)+\".h5\"\n",
    "\n",
    "    else:\n",
    "        nextfilename=filename_start+str(i)+\".h5\"\n",
    "\n",
    "        \n",
    "    Isfile=os.path.isfile(nextfilename)\n",
    "    \n",
    "\n",
    "    \n",
    "    while Isfile==False:\n",
    "        \n",
    "        print(\"waiting for file \"+nextfilename)\n",
    "        time.sleep(1)\n",
    "        Isfile=os.path.isfile(nextfilename)\n",
    "    else:\n",
    "        with h5py.File(filename, 'r') as hf:\n",
    "            HerData = np.array(hf.get('HerData'))\n",
    "            TrajData = np.array(hf.get('TrajData'))\n",
    "            ROData = np.array(hf.get('ROData'))\n",
    "\n",
    "            HerData=HerData.reshape(-1,N_time,7)\n",
    "            ROData=ROData.reshape(-1,N_time,7)\n",
    "            TrajData = TrajData.reshape(-1,N_time,7,TrajData.shape[-1])\n",
    "\n",
    "            print(filename+\" loaded\")\n",
    "\n",
    "    return TrajData, HerData, ROData"
   ]
  },
  {
   "cell_type": "code",
   "execution_count": 4,
   "metadata": {
    "collapsed": true
   },
   "outputs": [],
   "source": [
    "def data_loading_prep(i,filename_start=\"test\",N_time=10):\n",
    "        \n",
    "    filename=filename_start+str(i)+\".h5\"\n",
    "    nextfilename=filename_start+str(i+1)+\".h5\"\n",
    "\n",
    "    Isfile=os.path.isfile(nextfilename)\n",
    "    \n",
    "\n",
    "    \n",
    "    while Isfile==False:\n",
    "        \n",
    "        print(\"waiting for file \"+nextfilename)\n",
    "        time.sleep(1)\n",
    "        Isfile=os.path.isfile(nextfilename)\n",
    "    else:\n",
    "        with h5py.File(filename, 'r') as hf:\n",
    "            HerData = np.array(hf.get('HerData'))\n",
    "            TrajData = np.array(hf.get('TrajData'))\n",
    "            ROData = np.array(hf.get('ROData'))\n",
    "\n",
    "            HerData=HerData.reshape(-1,N_time,7)\n",
    "            ROData=ROData.reshape(-1,N_time,7)\n",
    "            TrajData = TrajData.reshape(-1,N_time,7,TrajData.shape[-1])\n",
    "\n",
    "            print(filename+\" loaded\")\n",
    "\n",
    "    return TrajData, HerData, ROData"
   ]
  },
  {
   "cell_type": "code",
   "execution_count": 5,
   "metadata": {
    "collapsed": true
   },
   "outputs": [],
   "source": [
    "def prepocessing_data(TrajData_raw,HerData,ROData,time_list,thresholds=[-0.005,-0.004,-0.00,0.023],nshift=6,n_wait=0):\n",
    "\n",
    "    \n",
    "    N_points=TrajData_raw.shape[-1]\n",
    "    N_time=time_list.shape[0]\n",
    "    \n",
    "    HeraldThreshold=thresholds[0]\n",
    "    RoGroundThreshold=thresholds[1]\n",
    "    RoExcitedThreshold1=thresholds[2]\n",
    "    RoExcitedThreshold2=thresholds[3]\n",
    "    \n",
    "    traj_var=0.0766908841029\n",
    "    traj_mean=-0.0100334628366\n",
    "\n",
    "    traj_var=0.01335*1.2\n",
    "    traj_mean=-0.07#-0.0207-0.0015*3\n",
    "  \n",
    "    #Tomo=['Z','X','-X','Y','-Y','-Z','-Z']\n",
    "    tomo_table=np.array([[0,0,1],[1,0,0],[-1,0,0],[0,1,0],[0,-1,0],[0,0,-1],[0,0,-1]])\n",
    "    #tomo_table=np.array([[1,0,0],[0,1,0],[0,-1,0],[0,0,1],[0,0,-1],[-1,0,0],[-1,0,0]])\n",
    "\n",
    "    \n",
    "    TrajData=np.zeros(TrajData_raw.shape)\n",
    "    TrajData_retro=np.zeros(TrajData_raw.shape)\n",
    "    \n",
    "    TrajData=TrajData_raw/np.sqrt(traj_var)-traj_mean\n",
    "    TrajData_retro=TrajData_raw/np.sqrt(traj_var)-traj_mean\n",
    "\n",
    "    \n",
    "    #TrajData_retro=np.zeros(TrajData.shape)\n",
    "    \n",
    "    \n",
    "    TrajData[:,:,:,N_points-nshift:]=0\n",
    "    TrajData_retro[:,:,:,N_points-nshift:]=0\n",
    "\n",
    "\n",
    "    for i in np.arange(N_time):\n",
    "        TrajData[:,i,:,:(N_points-nshift-time_list[i])]=0\n",
    "        TrajData[:,i,:,:]=np.roll(TrajData[:,i,:,:],-(N_points-nshift-time_list[i]),axis=-1)\n",
    "\n",
    "        TrajData_retro[:,i,:,:(N_points-nshift-time_list[i])]=0\n",
    "        TrajData_retro[:,i,:,:]=np.flip(np.roll(TrajData_retro[:,i,:,:],nshift),axis=-1)\n",
    "\n",
    "\n",
    "    heralding=HerData<HeraldThreshold\n",
    "    ground=np.logical_and(ROData<RoGroundThreshold,heralding)\n",
    "    excited=np.logical_and(np.logical_and(ROData>RoExcitedThreshold1,ROData<RoExcitedThreshold2),heralding)\n",
    "\n",
    "    onehot=np.array([[0,1],[0,0],[1,0]])\n",
    "\n",
    "    tomo_tile=np.tile(tomo_table,(TrajData.shape[0],N_time,1,1))\n",
    "    label_ground=onehot[1+tomo_tile[ground]]\n",
    "    label_excited=onehot[1-tomo_tile[excited]]\n",
    "    \n",
    "    time_indices=(np.array([time_list+n_wait]*7)).T\n",
    "    time_tile=np.tile([time_indices],(TrajData.shape[0],1,1))\n",
    "    time_ground=time_tile[ground]\n",
    "    time_excited=time_tile[excited]\n",
    "\n",
    "\n",
    "    label=np.concatenate([label_ground,label_excited])\n",
    "    traj=np.concatenate([TrajData[ground],TrajData[excited]])\n",
    "    traj_retro=np.concatenate([TrajData_retro[ground],TrajData_retro[excited]])\n",
    "    sequence_time=np.concatenate([time_ground,time_excited])\n",
    "\n",
    "    index=np.random.permutation(np.arange(traj.shape[0]))\n",
    "\n",
    "    label=label[index]\n",
    "    traj=traj[index]\n",
    "    traj_retro=traj_retro[index]\n",
    "    sequence_time=sequence_time[index]\n",
    "    \n",
    "    \n",
    "    return traj,traj_retro,label,sequence_time"
   ]
  },
  {
   "cell_type": "code",
   "execution_count": 6,
   "metadata": {
    "collapsed": true
   },
   "outputs": [],
   "source": [
    "#Preparations=[\"Ground\",\"Pio4\",\"Pio2\",\"3Pio4\",\"Pi\",\"5Pio4\",\"3Pio2\",\"7Pio4\",\"Pio2ZeroPhase\",\"Pio2PiPhase\"]\n",
    "\n",
    "#Tomo=['Z','X','-X','Y','-Y','-Z','-Z']\n",
    "#tomo_table=np.array([[0,0,1],[1,0,0],[-1,0,0],[0,1,0],[0,-1,0],[0,0,-1],[0,0,-1]])\n",
    "\n",
    "\n",
    "\n",
    "def load_prepdata(i,N_file,time_list,thresholds,n_wait,nshift,shuffledata,filename_start,file_list,plothist,plotgraphs):\n",
    "\n",
    "    N_time=time_list.shape[0]\n",
    "    PreparationClifford=[\"Ground\",\"Pio2\",\"Pi\",\"3Pio2\",\"Pio2ZeroPhase\",\"Pio2PiPhase\"]\n",
    "    prep=(np.array([[0,0,1],[0,-1,0],[0,0,-1],[0,1,0],[-1,0,0],[1,0,0]])+1.)/2.\n",
    "\n",
    "    #PreparationClifford=[\"Ground\",\"Pio4\",\"Pio2\",\"3Pio4\",\"Pi\",\"5Pio4\",\"3Pio2\",\"7Pio4\",\"Pio2ZeroPhase\",\"Pio2PiPhase\"]\n",
    "    #prep=(np.array([[0,0,1],[0,-np.sqrt(2.)/2.,np.sqrt(2.)/2.],[0,-1,0],[0,-np.sqrt(2.)/2.,-np.sqrt(2.)/2.],[0,0,-1],[0,np.sqrt(2.)/2.,-np.sqrt(2.)/2.],[0,1,0],[0,np.sqrt(2.)/2.,np.sqrt(2.)/2.],[-1,0,0],[1,0,0]])+1.)/2.\n",
    "\n",
    "    \n",
    "    #PreparationClifford=[\"Pi\"]\n",
    "    #prep=(np.array([[0,0,1]])+1.)/2.\n",
    "\n",
    "\n",
    "    N_time=20\n",
    "    eval_data=[]\n",
    "    eval_data_retro=[]\n",
    "    eval_labels=[]\n",
    "    eval_time=[]\n",
    "    eval_prep=[]\n",
    "    TrajData=[]\n",
    "    HerData=[]\n",
    "    ROData=[]\n",
    "    \n",
    "    for i in np.arange(i,i+N_file):\n",
    "        for j in np.arange(prep.shape[0]):\n",
    "            TrajData_tmp, HerData_tmp, ROData_tmp=data_loading_prep(file_list[i],filename_start+PreparationClifford[j],N_time=N_time)\n",
    "            eval_data_tmp,eval_data_retro_tmp,eval_labels_tmp,eval_time_tmp = prepocessing_data(TrajData_tmp, HerData_tmp, ROData_tmp,time_list,thresholds,nshift=nshift, n_wait=n_wait)\n",
    "            eval_prep_tmp=np.tile([prep[j]],[eval_data_tmp.shape[0],1])\n",
    "\n",
    "            eval_data.append(eval_data_tmp)\n",
    "            eval_data_retro.append(eval_data_retro_tmp)\n",
    "            eval_labels.append(eval_labels_tmp)\n",
    "            eval_time.append(eval_time_tmp)\n",
    "            eval_prep.append(eval_prep_tmp)\n",
    "\n",
    "            TrajData.append(TrajData_tmp)\n",
    "            HerData.append(HerData_tmp)\n",
    "            ROData.append(ROData_tmp)\n",
    "\n",
    "    TrajData=np.concatenate(TrajData)\n",
    "    HerData=np.concatenate(HerData)\n",
    "    ROData=np.concatenate(ROData)\n",
    "    prep=np.concatenate(prep)\n",
    "        \n",
    "    \n",
    "    eval_data=np.concatenate(eval_data)\n",
    "    eval_data_retro=np.concatenate(eval_data_retro)\n",
    "\n",
    "    eval_labels=np.concatenate(eval_labels)\n",
    "    eval_time=np.concatenate(eval_time)\n",
    "    eval_prep=np.concatenate(eval_prep)\n",
    "    \n",
    "    index=np.random.permutation(np.arange(eval_data.shape[0]))\n",
    "    eval_data=eval_data[index]\n",
    "    eval_data_retro=eval_data_retro[index]\n",
    "    eval_labels=eval_labels[index]\n",
    "    eval_time=eval_time[index]\n",
    "    eval_prep=eval_prep[index]\n",
    "    \n",
    "    \n",
    "    \n",
    "    if plothist:\n",
    "        \n",
    "        plt.figure()\n",
    "        dataH=(HerData.flatten())\n",
    "        plt.hist(dataH, bins=45, range=(-0.4,0.4))\n",
    "        plt.axvline(x=HeraldThreshold, ymin=0, ymax=1)\n",
    "\n",
    "        plt.figure()\n",
    "        dataRO=(ROData.flatten())\n",
    "        plt.hist(dataRO, bins=45, range=(-0.4,0.4))\n",
    "        plt.axvline(x=RoGroundThreshold, ymin=0, ymax=1)\n",
    "        plt.axvline(x=RoExcitedThreshold1, ymin=0, ymax=1)\n",
    "        plt.axvline(x=RoExcitedThreshold2, ymin=0, ymax=1)\n",
    "\n",
    "        \n",
    "    if plotgraphs:\n",
    "\n",
    "        n_steps = eval_data.shape[1]\n",
    "        i=time_list[j]\n",
    "\n",
    "        np.logical_and(eval_labels[:,2,1]==1,eval_time==i)\n",
    "\n",
    "        plt.figure()\n",
    "        \n",
    "        plt.plot(eval_data[np.logical_and(eval_labels[:,2,1]==1,eval_time==i+n_wait)].mean(0))\n",
    "        plt.plot(eval_data[np.logical_and(eval_labels[:,2,0]==1,eval_time==i+n_wait)].mean(0))\n",
    "        plt.plot(eval_data[np.logical_and(eval_labels[:,1,1]==1,eval_time==i+n_wait)].mean(0))\n",
    "        plt.plot(eval_data[np.logical_and(eval_labels[:,1,0]==1,eval_time==i+n_wait)].mean(0))\n",
    "        plt.plot(eval_data[np.logical_and(eval_labels[:,0,1]==1,eval_time==i+n_wait)].mean(0))\n",
    "        plt.plot(eval_data[np.logical_and(eval_labels[:,0,0]==1,eval_time==i+n_wait)].mean(0)) \n",
    "\n",
    "\n",
    "        plot_eval_data=eval_data*np.sqrt(0.07)-0.02\n",
    "        j=0\n",
    "        for j in np.arange(1,N_time,2):\n",
    "            i=time_list[j]\n",
    "            #print(i)\n",
    "            #print(eval_data[eval_time==i].shape)\n",
    "            plt.figure()\n",
    "            plt.plot(plot_eval_data[eval_time==i+n_wait].mean(0))\n",
    "            plt.plot((TrajData[:,j,:,n_steps-6-i:].mean(0)).mean(0))\n",
    "            plt.plot((TrajData[:,j,:,:].mean(0)).mean(0))\n",
    "            plt.axvline(i)\n",
    "            plt.axvline(n_steps-nshift-i)\n",
    "\n",
    "        plt.figure()\n",
    "        for j in np.arange(1,N_time,2):\n",
    "\n",
    "            k=time_list[j]+n_wait\n",
    "            plt.plot(eval_data[eval_time==k].mean(0),'-o')\n",
    "            plt.axvline(k)\n",
    "\n",
    "        plt.figure()\n",
    "        for j in np.arange(1,N_time,2):\n",
    "\n",
    "            k=time_list[j]+n_wait\n",
    "            plt.plot(eval_data[eval_time==k].var(0),'-o')\n",
    "            plt.axvline(k)\n",
    "            #plt.axvline(n_steps-i)\n",
    "    \n",
    "    \n",
    "    return eval_data,eval_data_retro,eval_labels,eval_time,eval_prep"
   ]
  },
  {
   "cell_type": "code",
   "execution_count": 7,
   "metadata": {
    "collapsed": true
   },
   "outputs": [],
   "source": [
    "def loadingsim(numTest=30000):\n",
    "\n",
    "    #lstTrajFileNames='simulatedTraj_RabiDriveV4_2.0MHz_Gamma1.0MHz_eta1.0_run0.0.p'\n",
    "    #lstTrajFileNames='simulatedTraj_RabiDriveV4_2.0MHz_Gamma1.0MHz_eta0.5_run0.0.p'\n",
    "\n",
    "    lstTrajFileNames='simulatedTraj_RabiDriveV4_2.0MHz_Gamma1.0MHz_eta0.5_run0.p'\n",
    "\n",
    "\n",
    "    \n",
    "    #vslot, xlabel, xbloch, ylabel, ybloch, zlabel, zbloch = None, None, None, None, None, None, None\n",
    "    #with open(lstTrajFileNames, 'r') as f: # first file\n",
    "    vslot, xlabel, xbloch, ylabel, ybloch, zlabel, zbloch = pickle.load(open(lstTrajFileNames, \"rb\"))\n",
    "\n",
    "\n",
    "    meas_time=vslot.shape[0]\n",
    "\n",
    "    traj = (vslot.T)[:,:meas_time]\n",
    "    traj=(traj-traj.mean())/np.sqrt(traj.var())\n",
    "    Vm = traj.mean(axis=1)\n",
    "\n",
    "    sequence_length=(np.floor(np.random.uniform(size=(xbloch.shape[1]))*(xbloch.shape[0]-1))+1).astype(int)\n",
    "\n",
    "    measX=np.array([xlabel[sequence_length[i],i] for i in np.arange(xbloch.shape[1])])\n",
    "    measY=np.array([ylabel[sequence_length[i],i] for i in np.arange(xbloch.shape[1])])\n",
    "    measZ=np.array([zlabel[sequence_length[i],i] for i in np.arange(xbloch.shape[1])])\n",
    "\n",
    "    actualX=np.array([xbloch[sequence_length[i],i] for i in np.arange(xbloch.shape[1])])\n",
    "    actualY=np.array([ybloch[sequence_length[i],i] for i in np.arange(xbloch.shape[1])])\n",
    "    actualZ=np.array([zbloch[sequence_length[i],i] for i in np.arange(xbloch.shape[1])])\n",
    "\n",
    "\n",
    "    #split into test and train\n",
    "    Ntot=np.int(traj.shape[0]/3*3)#90000\n",
    "\n",
    "    numTrain=Ntot-numTest\n",
    "\n",
    "    onehot=np.array([[0,1],[1,0]])\n",
    "    index_X=((measX+1)/2).astype(dtype='int')\n",
    "    index_Y=((measY+1)/2).astype(dtype='int')\n",
    "    index_Z=((measZ+1)/2).astype(dtype='int')\n",
    "\n",
    "    labels_X=onehot[index_X].astype(dtype='float32')\n",
    "    labels_Y=onehot[index_Y].astype(dtype='float32')\n",
    "    labels_Z=onehot[index_Z].astype(dtype='float32')\n",
    "\n",
    "    labels_X[1::3]=0*labels_X[1::3]\n",
    "    labels_X[2::3]=0*labels_X[2::3]\n",
    "    labels_Y[0::3]=0*labels_X[0::3]\n",
    "    labels_Y[2::3]=0*labels_X[2::3]\n",
    "    labels_Z[0::3]=0*labels_X[0::3]\n",
    "    labels_Z[1::3]=0*labels_X[1::3]\n",
    "    label_tot=np.stack([labels_X,labels_Y,labels_Z],axis=1)\n",
    "\n",
    "    actual_X=((actualX+1)/2.).astype(dtype='float32')\n",
    "    actual_Y=((actualY+1)/2.).astype(dtype='float32')\n",
    "    actual_Z=((actualZ+1)/2.).astype(dtype='float32')\n",
    "    actual=np.stack([np.stack([actual_X,1-actual_X],axis=1),np.stack([actual_Y,1-actual_Y],axis=1),np.stack([actual_Z,1-actual_Z],axis=1)],axis=1)\n",
    "\n",
    "\n",
    "    train_data=traj[:numTrain]\n",
    "    train_labels=label_tot[:numTrain].astype(dtype='int')\n",
    "    train_actual=actual[:numTrain]\n",
    "    train_time=sequence_length[:numTrain]+1\n",
    "\n",
    "    eval_data=traj[numTrain:]\n",
    "    eval_labels=label_tot[numTrain:].astype(dtype='int')\n",
    "    eval_actual=actual[numTrain:]\n",
    "    eval_time=sequence_length[numTrain:]+1\n",
    "\n",
    "    return train_data,train_labels,train_time,eval_data,eval_labels,eval_time"
   ]
  },
  {
   "cell_type": "code",
   "execution_count": 8,
   "metadata": {
    "collapsed": true
   },
   "outputs": [],
   "source": [
    "def accuracy_retro(traj_t, test_label, N=11):\n",
    "\n",
    "    tx_RO=traj_t[:,0]\n",
    "    ty_RO=traj_t[:,1]\n",
    "    tz_RO=traj_t[:,2]\n",
    "\n",
    "    delta=1./N\n",
    "    target=np.linspace(delta/2.,1.-delta/2.,N)\n",
    "\n",
    "\n",
    "    num_x=np.zeros(N)\n",
    "    num_z=np.zeros(N)\n",
    "    x_tot=np.zeros((N,3))\n",
    "    y_tot=np.zeros((N,3))\n",
    "    z_tot=np.zeros((N,3))\n",
    "\n",
    "    for i in np.arange(N):\n",
    "\n",
    "        mask_array_x=np.logical_and((tx_RO>target[i]-delta/2.),(tx_RO<target[i]+delta/2.))\n",
    "        mask_array_y=np.logical_and((ty_RO>target[i]-delta/2.),(ty_RO<target[i]+delta/2.))\n",
    "        mask_array_z=np.logical_and((tz_RO>target[i]-delta/2.),(tz_RO<target[i]+delta/2.))\n",
    "\n",
    "        labeltest = test_label[:,:,0]\n",
    "\n",
    "        num_x=1.*mask_array_x.sum()\n",
    "        num_y=1.*mask_array_y.sum()\n",
    "        num_z=1.*mask_array_z.sum()\n",
    "\n",
    "        if num_x==0:\n",
    "            num_x=1.\n",
    "        if num_y==0:\n",
    "            num_y=1.\n",
    "        if num_z==0:\n",
    "            num_z=1.\n",
    "        \n",
    "        x_tomo=(1.*labeltest[mask_array_x][:,0]).mean()\n",
    "        y_tomo=(1.*labeltest[mask_array_y][:,1]).mean()\n",
    "        z_tomo=(1.*labeltest[mask_array_z][:,2]).mean()\n",
    "\n",
    "        x_tot[i]=target[i], x_tomo, num_x\n",
    "        y_tot[i]=target[i], y_tomo, num_y\n",
    "        z_tot[i]=target[i], z_tomo, num_z\n",
    "\n",
    "\n",
    "    x_tot=x_tot[x_tot[:,2]>20]\n",
    "    y_tot=y_tot[y_tot[:,2]>20]\n",
    "    z_tot=z_tot[z_tot[:,2]>20]\n",
    "\n",
    "    x_error=np.sqrt(np.sum((x_tot[:,0]-x_tot[:,1])**2*x_tot[:,2])/x_tot[:,2].sum())\n",
    "    y_error=np.sqrt(np.sum((y_tot[:,0]-y_tot[:,1])**2*y_tot[:,2])/y_tot[:,2].sum())\n",
    "    z_error=np.sqrt(np.sum((z_tot[:,0]-z_tot[:,1])**2*z_tot[:,2])/z_tot[:,2].sum())\n",
    "\n",
    "    return np.array([x_error,y_error,z_error]),x_tot,y_tot,z_tot\n"
   ]
  },
  {
   "cell_type": "code",
   "execution_count": 9,
   "metadata": {
    "collapsed": true
   },
   "outputs": [],
   "source": [
    "def accuracy_tomo(traj_t, test_label, N=11):\n",
    "\n",
    "    tx_RO=traj_t[:,0]\n",
    "    ty_RO=traj_t[:,1]\n",
    "    tz_RO=traj_t[:,2]\n",
    "\n",
    "    delta=1./N\n",
    "    target=np.linspace(delta/2.,1.-delta/2.,N)\n",
    "\n",
    "\n",
    "    num_x=np.zeros(N)\n",
    "    num_z=np.zeros(N)\n",
    "    x_tot=np.zeros((N,3))\n",
    "    y_tot=np.zeros((N,3))\n",
    "    z_tot=np.zeros((N,3))\n",
    "\n",
    "    for i in np.arange(N):\n",
    "\n",
    "        mask_array_x=np.logical_and((tx_RO>target[i]-delta/2.),(tx_RO<target[i]+delta/2.))\n",
    "        mask_array_y=np.logical_and((ty_RO>target[i]-delta/2.),(ty_RO<target[i]+delta/2.))\n",
    "        mask_array_z=np.logical_and((tz_RO>target[i]-delta/2.),(tz_RO<target[i]+delta/2.))\n",
    "\n",
    "        labeltest=(test_label[:,:,0]-test_label[:,:,1])\n",
    "\n",
    "        num_x=1.*np.abs(labeltest[mask_array_x][:,0]).sum()\n",
    "        num_y=1.*np.abs(labeltest[mask_array_y][:,1]).sum()\n",
    "        num_z=1.*np.abs(labeltest[mask_array_z][:,2]).sum()\n",
    "\n",
    "        if num_x==0:\n",
    "            num_x=1.\n",
    "        if num_y==0:\n",
    "            num_y=1.\n",
    "        if num_z==0:\n",
    "            num_z=1.\n",
    "        \n",
    "        x_tomo=((1.*labeltest[mask_array_x][:,0]).sum()/num_x+1.)/2.\n",
    "        y_tomo=((1.*labeltest[mask_array_y][:,1]).sum()/num_y+1.)/2.\n",
    "        z_tomo=((1.*labeltest[mask_array_z][:,2]).sum()/num_z+1.)/2.\n",
    "\n",
    "        x_tot[i]=target[i], x_tomo, num_x\n",
    "        y_tot[i]=target[i], y_tomo, num_y\n",
    "        z_tot[i]=target[i], z_tomo, num_z\n",
    "\n",
    "\n",
    "    x_tot=x_tot[x_tot[:,2]>20]\n",
    "    y_tot=y_tot[y_tot[:,2]>20]\n",
    "    z_tot=z_tot[z_tot[:,2]>20]\n",
    "\n",
    "    x_error=np.sqrt(np.sum((x_tot[:,0]-x_tot[:,1])**2*x_tot[:,2])/x_tot[:,2].sum())\n",
    "    y_error=np.sqrt(np.sum((y_tot[:,0]-y_tot[:,1])**2*y_tot[:,2])/y_tot[:,2].sum())\n",
    "    z_error=np.sqrt(np.sum((z_tot[:,0]-z_tot[:,1])**2*z_tot[:,2])/z_tot[:,2].sum())\n",
    "\n",
    "    return np.array([x_error,y_error,z_error]),x_tot,y_tot,z_tot\n"
   ]
  },
  {
   "cell_type": "code",
   "execution_count": 10,
   "metadata": {
    "collapsed": true
   },
   "outputs": [],
   "source": [
    "def accuracy_traj(actualtraj,traj_t, test_label, test_time,  delta):\n",
    "\n",
    "    \n",
    "\n",
    "    \n",
    "    tx_RO=traj_t[:,0]\n",
    "    ty_RO=traj_t[:,1]\n",
    "    tz_RO=traj_t[:,2]\n",
    "\n",
    "\n",
    "    \n",
    "    N=time_list.shape[0]\n",
    "    \n",
    "    num_x=np.zeros(N)\n",
    "    num_z=np.zeros(N)\n",
    "    x_tot=np.zeros((N,3))\n",
    "    y_tot=np.zeros((N,3))\n",
    "    z_tot=np.zeros((N,3))\n",
    "\n",
    "    for i in np.arange(N):\n",
    "\n",
    "        mask_array_x=(tx_RO>actualtraj[i,0]-delta/2.)*(tx_RO<actualtraj[i,0]+delta/2.)*(test_time==time_list[i]+n_wait)\n",
    "\n",
    "        mask_array_y=(ty_RO>actualtraj[i,1]-delta/2.)*(ty_RO<actualtraj[i,1]+delta/2.)*(test_time==time_list[i]+n_wait)\n",
    "        mask_array_z=(tz_RO>actualtraj[i,2]-delta/2.)*(tz_RO<actualtraj[i,2]+delta/2.)*(test_time==time_list[i]+n_wait)\n",
    "\n",
    "        labeltest=(test_label[:,:,0]-test_label[:,:,1])\n",
    "\n",
    "        num_x=1.*np.abs(labeltest[mask_array_x][:,0]).sum()\n",
    "        num_y=1.*np.abs(labeltest[mask_array_y][:,1]).sum()\n",
    "        num_z=1.*np.abs(labeltest[mask_array_z][:,2]).sum()\n",
    "\n",
    "        if num_x==0:\n",
    "            num_x=1.\n",
    "        if num_y==0:\n",
    "            num_y=1.\n",
    "        if num_z==0:\n",
    "            num_z=1.\n",
    "        \n",
    "        x_tomo=((1.*labeltest[mask_array_x][:,0]).sum()/num_x+1.)/2.\n",
    "        y_tomo=((1.*labeltest[mask_array_y][:,1]).sum()/num_y+1.)/2.\n",
    "        z_tomo=((1.*labeltest[mask_array_z][:,2]).sum()/num_z+1.)/2.\n",
    "\n",
    "        x_tot[i]=actualtraj[i,0], x_tomo, num_x\n",
    "        y_tot[i]=actualtraj[i,1], y_tomo, num_y\n",
    "        z_tot[i]=actualtraj[i,2], z_tomo, num_z\n",
    "\n",
    "\n",
    "    x_tot=x_tot[x_tot[:,2]>20]\n",
    "    y_tot=y_tot[y_tot[:,2]>20]\n",
    "    z_tot=z_tot[z_tot[:,2]>20]\n",
    "\n",
    "    x_error=np.sqrt(np.sum((x_tot[:,0]-x_tot[:,1])**2*x_tot[:,2])/x_tot[:,2].sum())\n",
    "    y_error=np.sqrt(np.sum((y_tot[:,0]-y_tot[:,1])**2*y_tot[:,2])/y_tot[:,2].sum())\n",
    "    z_error=np.sqrt(np.sum((z_tot[:,0]-z_tot[:,1])**2*z_tot[:,2])/z_tot[:,2].sum())\n",
    "\n",
    "    return np.array([x_error,y_error,z_error]),x_tot,y_tot,z_tot\n"
   ]
  },
  {
   "cell_type": "code",
   "execution_count": 11,
   "metadata": {
    "collapsed": true
   },
   "outputs": [],
   "source": [
    "def get_traj(test_data,test_label,test_time,test_rho,batch_size):\n",
    "\n",
    "    traj_tomo=[]\n",
    "    loss=[]\n",
    "    step=1\n",
    "    while (step-1) * batch_size < test_data.shape[0]:\n",
    "\n",
    "        if step * batch_size < test_data.shape[0]:\n",
    "            batch_x=test_data[(step-1) * batch_size : step * batch_size]\n",
    "            batch_y=test_label[(step-1) * batch_size : step * batch_size]\n",
    "            batch_t=test_time[(step-1) * batch_size : step * batch_size]\n",
    "            batch_rho=test_rho[(step-1) * batch_size : step * batch_size]\n",
    "        else:\n",
    "            batch_x=test_data[(step-1) * batch_size:]\n",
    "            batch_y=test_label[(step-1) * batch_size:]\n",
    "            batch_t=test_time[(step-1) * batch_size:]\n",
    "            batch_rho=test_rho[(step-1) * batch_size:]\n",
    "        \n",
    "        traj_tomo_tmp,loss_tmp=sess.run([pred,cost_pred],feed_dict={\n",
    "                                                                        x_pred: batch_x,\n",
    "                                                                        y_pred: batch_y,\n",
    "                                                                        t_pred:batch_t,\n",
    "                                                                        rho_pred:batch_rho,\n",
    "                                                                        x_retro: batch_x,\n",
    "                                                                        y_retro: batch_y,\n",
    "                                                                        t_retro:batch_t,\n",
    "                                                                        rho_retro:batch_rho})\n",
    "    \n",
    "    \n",
    "        \n",
    "        traj_tomo.append(traj_tomo_tmp)\n",
    "        loss.append(loss_tmp)\n",
    "        step=step+1\n",
    "\n",
    "    traj_tomo=np.concatenate(traj_tomo)\n",
    "    loss_mean=np.array(loss).mean()\n",
    "    \n",
    "    return traj_tomo, loss_mean\n",
    "    "
   ]
  },
  {
   "cell_type": "code",
   "execution_count": 12,
   "metadata": {
    "collapsed": true
   },
   "outputs": [],
   "source": [
    "def mixed_state_generator(eval_data_retro,eval_labels_retro,eval_time,eval_prep_retro, n_mixed=6):\n",
    "\n",
    "    n_mixed=9\n",
    "\n",
    "    data=[]\n",
    "    prep=[]\n",
    "    time=[]\n",
    "    label=[]\n",
    "    prep_actual=[]\n",
    "\n",
    "    for j in np.arange(3):\n",
    "\n",
    "        mask_up=(eval_prep_retro[:,j]==1)\n",
    "        mask_down=(eval_prep_retro[:,j]==0)\n",
    "\n",
    "        N_traj=min(eval_data_retro[mask_up].shape[0],eval_data_retro[mask_down].shape[0])//n_mixed//(n_mixed-1)*n_mixed*(n_mixed-1)\n",
    "\n",
    "        data_u=np.split(eval_data_retro[mask_up][:N_traj],n_mixed)\n",
    "        data_d=np.split(eval_data_retro[mask_down][:N_traj],n_mixed)\n",
    "\n",
    "        labels_u=np.split(eval_labels_retro[mask_up][:N_traj],n_mixed)\n",
    "        labels_d=np.split(eval_labels_retro[mask_down][:N_traj],n_mixed)\n",
    "\n",
    "        prep_u=np.split(eval_prep_retro[mask_up][:N_traj],n_mixed)\n",
    "        prep_d=np.split(eval_prep_retro[mask_down][:N_traj],n_mixed)\n",
    "\n",
    "        time_u=np.split(eval_time[mask_up][:N_traj],n_mixed)\n",
    "        time_d=np.split(eval_time[mask_down][:N_traj],n_mixed)\n",
    "\n",
    "\n",
    "        Nindex=np.linspace(0,N_traj//n_mixed,n_mixed,dtype=int)\n",
    "\n",
    "        for i in np.arange(n_mixed):\n",
    "\n",
    "\n",
    "            data_mixed_1=np.concatenate([data_u[i][:Nindex[i]],data_d[i][Nindex[i]:]])\n",
    "            data_mixed_2=np.concatenate([data_u[i][Nindex[i]:],data_d[i][:Nindex[i]]])\n",
    "\n",
    "            labels_mixed_1=np.concatenate([labels_u[i][:Nindex[i]],labels_d[i][Nindex[i]:]])\n",
    "            labels_mixed_2=np.concatenate([labels_u[i][Nindex[i]:],labels_d[i][:Nindex[i]]])\n",
    "\n",
    "            time_mixed_1=np.concatenate([time_u[i][:Nindex[i]],time_d[i][Nindex[i]:]])\n",
    "            time_mixed_2=np.concatenate([time_u[i][Nindex[i]:],time_d[i][:Nindex[i]]])\n",
    "\n",
    "            prep_mixed_1=np.concatenate([prep_u[i][:Nindex[i]],prep_d[i][Nindex[i]:]])*0+np.concatenate([prep_u[i][:Nindex[i]],prep_d[i][Nindex[i]:]]).mean(0)\n",
    "            prep_mixed_2=np.concatenate([prep_u[i][Nindex[i]:],prep_d[i][:Nindex[i]]])*0+np.concatenate([prep_u[i][Nindex[i]:],prep_d[i][:Nindex[i]]]).mean(0)\n",
    "\n",
    "            prep_actual_1=np.concatenate([prep_u[i][:Nindex[i]],prep_d[i][Nindex[i]:]])\n",
    "            prep_actual_2=np.concatenate([prep_u[i][Nindex[i]:],prep_d[i][:Nindex[i]]])\n",
    "            \n",
    "            \n",
    "            data.append(data_mixed_1)\n",
    "            data.append(data_mixed_2)\n",
    "\n",
    "            time.append(time_mixed_1)\n",
    "            time.append(time_mixed_2)\n",
    "\n",
    "            prep.append(prep_mixed_1)\n",
    "            prep.append(prep_mixed_2)\n",
    "            \n",
    "            prep_actual.append(prep_actual_1)\n",
    "            prep_actual.append(prep_actual_2)\n",
    "\n",
    "            label.append(labels_mixed_1)\n",
    "            label.append(labels_mixed_2)\n",
    "\n",
    "    data=np.concatenate(data)\n",
    "    time=np.concatenate(time)\n",
    "    prep=np.concatenate(prep)\n",
    "    label=np.concatenate(label)\n",
    "    prep_actual=np.concatenate(prep_actual)\n",
    "\n",
    "    index=np.random.permutation(np.arange(data.shape[0]))\n",
    "\n",
    "    data=data[index]\n",
    "    time=time[index]\n",
    "    label=label[index]\n",
    "    prep=prep[index]\n",
    "\n",
    "    return data,label,time,prep,prep_actual"
   ]
  },
  {
   "cell_type": "code",
   "execution_count": 13,
   "metadata": {
    "collapsed": true
   },
   "outputs": [],
   "source": [
    "def get_traj_pred_retro(data_pred, label_pred, time_pred, data_rho_pred,\n",
    "             data_retro,label_retro,time_retro,data_rho_retro,batch_size):\n",
    "\n",
    "    traj_pred=[]\n",
    "    traj_retro=[]\n",
    "    loss_pred=[]\n",
    "    loss_retro=[]\n",
    "    step=1\n",
    "    while (step-1) * batch_size < min(data_pred.shape[0],data_retro.shape[0]):\n",
    "\n",
    "        if step * batch_size < min(data_pred.shape[0],data_retro.shape[0]):\n",
    "\n",
    "            batch_x_pred=data_pred[(step-1) * batch_size:step * batch_size]\n",
    "            batch_y_pred=label_pred[(step-1) * batch_size:step * batch_size]\n",
    "            batch_t_pred=time_pred[(step-1) * batch_size:step * batch_size]\n",
    "            batch_rho_pred=data_rho_pred[(step-1) * batch_size:step * batch_size]\n",
    "\n",
    "            batch_x_retro=data_retro[(step-1) * batch_size:step * batch_size]\n",
    "            batch_y_retro=label_retro[(step-1) * batch_size:step * batch_size]\n",
    "            batch_t_retro=time_retro[(step-1) * batch_size:step * batch_size]\n",
    "            batch_rho_retro=data_rho_retro[(step-1) * batch_size:step * batch_size]\n",
    "\n",
    "        else:\n",
    "            \n",
    "            batch_x_pred=data_pred[(step-1) * batch_size:]\n",
    "            batch_y_pred=label_pred[(step-1) * batch_size:]\n",
    "            batch_t_pred=time_pred[(step-1) * batch_size:]\n",
    "            batch_rho_pred=data_rho_pred[(step-1) * batch_size:]\n",
    "\n",
    "            batch_x_retro=data_retro[(step-1) * batch_size:]\n",
    "            batch_y_retro=label_retro[(step-1) * batch_size:]\n",
    "            batch_t_retro=time_retro[(step-1) * batch_size:]\n",
    "            batch_rho_retro=data_rho_retro[(step-1) * batch_size:]\n",
    "        \n",
    "        \n",
    "        traj_pred_tmp,traj_retro_tmp,loss_pred_tmp,loss_retro_tmp=sess.run([rho_final_pred,rho_final_retro,cost_pred,cost_retro],feed_dict={\n",
    "                                                                                x: batch_x_pred,\n",
    "                                                                                t: batch_t_pred,\n",
    "                                                                                y_pred: batch_y_pred,\n",
    "                                                                                rho_pred: batch_rho_pred,\n",
    "                                                                                y_retro: batch_y_retro,\n",
    "                                                                                rho_retro: batch_rho_retro,\n",
    "                                                                                dropout: 0.})\n",
    "        \n",
    "        \n",
    "        \n",
    "        \n",
    "        traj_pred.append(traj_pred_tmp)\n",
    "        traj_retro.append(traj_retro_tmp)\n",
    "        loss_pred.append(loss_pred_tmp)\n",
    "        loss_retro.append(loss_retro_tmp)\n",
    "        step=step+1\n",
    "\n",
    "    traj_pred=np.concatenate(traj_pred)\n",
    "    traj_retro=np.concatenate(traj_retro)\n",
    "\n",
    "    loss_pred_mean=np.array(loss_pred).mean()\n",
    "    loss_retro_mean=np.array(loss_retro).mean()\n",
    "    \n",
    "    return traj_pred, traj_retro, loss_pred_mean, loss_retro_mean\n",
    "    #return batch_x_retro,batch_y_retro,batch_t_retro,batch_rho_retro"
   ]
  },
  {
   "cell_type": "code",
   "execution_count": 14,
   "metadata": {
    "collapsed": true
   },
   "outputs": [],
   "source": [
    "def get_traj_op(eval_op,data_pred, label_pred, time_pred, data_rho_pred,\n",
    "             data_retro,label_retro,time_retro,data_rho_retro,batch_size):\n",
    "\n",
    "    traj=[]\n",
    "    \n",
    "    step=1\n",
    "    while (step-1) * batch_size < min(data_pred.shape[0],data_retro.shape[0]):\n",
    "\n",
    "        if step * batch_size < min(data_pred.shape[0],data_retro.shape[0]):\n",
    "\n",
    "            batch_x=data_pred[(step-1) * batch_size:step * batch_size]\n",
    "            batch_t=time_pred[(step-1) * batch_size:step * batch_size]\n",
    "\n",
    "            batch_y_pred=label_pred[(step-1) * batch_size:step * batch_size]\n",
    "            batch_rho_pred=data_rho_pred[(step-1) * batch_size:step * batch_size]\n",
    "\n",
    "            batch_y_retro=label_retro[(step-1) * batch_size:step * batch_size]\n",
    "            batch_rho_retro=data_rho_retro[(step-1) * batch_size:step * batch_size]\n",
    "\n",
    "        else:\n",
    "            \n",
    "            batch_x=data_pred[(step-1) * batch_size:]\n",
    "            batch_t=time_pred[(step-1) * batch_size:]\n",
    "\n",
    "            batch_y_pred=label_pred[(step-1) * batch_size:]\n",
    "            batch_rho_pred=data_rho_pred[(step-1) * batch_size:]\n",
    "\n",
    "            batch_y_retro=label_retro[(step-1) * batch_size:]\n",
    "            batch_rho_retro=data_rho_retro[(step-1) * batch_size:]\n",
    "        \n",
    "        \n",
    "        traj_tmp=sess.run(eval_op,feed_dict={\n",
    "                                                                                x: batch_x,\n",
    "                                                                                t: batch_t,\n",
    "                                                                                y_pred: batch_y_pred,\n",
    "                                                                                rho_pred: batch_rho_pred,\n",
    "                                                                                y_retro: batch_y_retro,\n",
    "                                                                                rho_retro: batch_rho_retro,\n",
    "                                                                                dropout:0.})\n",
    "        \n",
    "        \n",
    "        \n",
    "        \n",
    "        traj.append(traj_tmp)\n",
    "        \n",
    "        step=step+1\n",
    "        #print(traj_tmp.shape)\n",
    "\n",
    "\n",
    "    traj=np.concatenate(traj)\n",
    "    return traj\n",
    "    #return batch_x_retro,batch_y_retro,batch_t_retro,batch_rho_retro"
   ]
  },
  {
   "cell_type": "code",
   "execution_count": 15,
   "metadata": {
    "collapsed": true
   },
   "outputs": [],
   "source": [
    "def last_relevant(output, length):\n",
    "    batch_size = tf.shape(output)[0]\n",
    "    max_length = tf.shape(output)[1]\n",
    "    out_size = int(output.get_shape()[2])\n",
    "    index = tf.range(0, batch_size) * max_length + (length - 1)\n",
    "    flat = tf.reshape(output, [-1, out_size])\n",
    "    relevant = tf.gather(flat, index)\n",
    "    return relevant"
   ]
  },
  {
   "cell_type": "code",
   "execution_count": 16,
   "metadata": {
    "collapsed": true
   },
   "outputs": [],
   "source": [
    "def convert_retro(eval_labels,eval_prep):\n",
    "\n",
    "    eval_prep_retro=((eval_labels[:,:,0]+eval_labels[:,:,1])==0)*0.5+eval_labels[:,:,0]\n",
    "    #eval_labels_retro=np.stack([(eval_prep*2-1>0)*eval_prep,(eval_prep*2-1<0)*eval_prep],axis=-1)\n",
    "    eval_labels_retro=np.stack([(eval_prep!=0.5)*eval_prep,(eval_prep!=0.5)*(1-eval_prep)],axis=-1)\n",
    "\n",
    "    return eval_labels_retro,eval_prep_retro"
   ]
  },
  {
   "cell_type": "code",
   "execution_count": 17,
   "metadata": {
    "collapsed": true
   },
   "outputs": [],
   "source": [
    "def plot_report(iter_tot,x_tot,y_tot,z_tot,error_tot,error_totX,error_totY,error_totZ,\n",
    "               traj_tomo,\n",
    "               loss_tot,loss_training_tot,entropy):\n",
    "\n",
    "    fig = plt.figure(figsize=(15, 8))\n",
    "    ax1 = fig.add_subplot(2,4,1)\n",
    "    ax1.errorbar(x_tot[:,0], x_tot[:,1], yerr=np.sqrt(x_tot[:,1]*(1.-x_tot[:,1])/x_tot[:,2]), xerr=None, fmt='o')\n",
    "    ax1.plot(np.linspace(0,1,10),np.linspace(0,1,10))\n",
    "    ax1.set_aspect('equal')\n",
    "    ax2 = fig.add_subplot(2,4,2)\n",
    "    ax2.errorbar(y_tot[:,0], y_tot[:,1], yerr=np.sqrt(y_tot[:,1]*(1.-y_tot[:,1])/y_tot[:,2]), xerr=None, fmt='o')\n",
    "    ax2.plot(np.linspace(0,1,10),np.linspace(0,1,10))\n",
    "    ax2.set_aspect('equal')\n",
    "    ax3 = fig.add_subplot(2,4,3)\n",
    "    ax3.errorbar(z_tot[:,0], z_tot[:,1], yerr=np.sqrt(z_tot[:,1]*(1.-z_tot[:,1])/z_tot[:,2]), xerr=None, fmt='o')\n",
    "    ax3.plot(np.linspace(0,1,10),np.linspace(0,1,10))\n",
    "    ax3.set_aspect('equal')\n",
    "    ax4 = fig.add_subplot(2,4,4)\n",
    "    ax4.semilogy(iter_tot,error_tot)\n",
    "    ax4.semilogy(iter_tot,error_totX)\n",
    "    ax4.semilogy(iter_tot,error_totY)\n",
    "    ax4.semilogy(iter_tot,error_totZ)\n",
    "    ax4.semilogy(iter_tot,LR_tot,color='black')\n",
    "    ax4.set_ylim([0.001,0.5])\n",
    "\n",
    "    Nbin=31\n",
    "    ax = fig.add_subplot(2,4,5)\n",
    "    ax.add_artist(plt.Circle((0.5, 0.5), 0.5, color='red', fill=False))\n",
    "    plt.hist2d(traj_tomo[:,1], traj_tomo[:,2],bins=np.linspace(0,1,Nbin),norm=LogNorm())\n",
    "    ax.set_aspect('equal')\n",
    "\n",
    "    ax = fig.add_subplot(2,4,6)\n",
    "    ax.add_artist(plt.Circle((0.5, 0.5), 0.5, color='red', fill=False))\n",
    "    plt.hist2d(traj_tomo[:,0], traj_tomo[:,2],bins=np.linspace(0,1,Nbin),norm=LogNorm())\n",
    "    ax.set_aspect('equal')\n",
    "\n",
    "    ax = fig.add_subplot(2,4,7)\n",
    "    ax.add_artist(plt.Circle((0.5, 0.5), 0.5, color='red', fill=False))\n",
    "    plt.hist2d(traj_tomo[:,0], traj_tomo[:,1],bins=np.linspace(0,1,Nbin),norm=LogNorm())\n",
    "    ax.set_aspect('equal')\n",
    "\n",
    "\n",
    "    ax4 = fig.add_subplot(2,4,8)\n",
    "    plt.plot(iter_tot,loss_tot,color='black')\n",
    "    plt.plot(iter_tot,loss_training_tot,color='blue')\n",
    "    plt.plot(iter_tot,entropy,color='green')"
   ]
  },
  {
   "cell_type": "markdown",
   "metadata": {},
   "source": [
    "# Loading evaluation data"
   ]
  },
  {
   "cell_type": "code",
   "execution_count": 18,
   "metadata": {
    "scrolled": false
   },
   "outputs": [
    {
     "name": "stdout",
     "output_type": "stream",
     "text": [
      "data/AllPreps/InsaneRabi_PrepGround0.h5 loaded\n",
      "data/AllPreps/InsaneRabi_PrepPio20.h5 loaded\n",
      "data/AllPreps/InsaneRabi_PrepPi0.h5 loaded\n",
      "data/AllPreps/InsaneRabi_Prep3Pio20.h5 loaded\n",
      "data/AllPreps/InsaneRabi_PrepPio2ZeroPhase0.h5 loaded\n",
      "data/AllPreps/InsaneRabi_PrepPio2PiPhase0.h5 loaded\n",
      "data/AllPreps/InsaneRabi_PrepGround1.h5 loaded\n",
      "data/AllPreps/InsaneRabi_PrepPio21.h5 loaded\n",
      "data/AllPreps/InsaneRabi_PrepPi1.h5 loaded\n",
      "data/AllPreps/InsaneRabi_Prep3Pio21.h5 loaded\n",
      "data/AllPreps/InsaneRabi_PrepPio2ZeroPhase1.h5 loaded\n",
      "data/AllPreps/InsaneRabi_PrepPio2PiPhase1.h5 loaded\n"
     ]
    },
    {
     "data": {
      "image/png": "[encoded data removed]",
      "text/plain": [
       "<matplotlib.figure.Figure at 0x7fe2e4401b00>"
      ]
     },
     "metadata": {},
     "output_type": "display_data"
    },
    {
     "data": {
      "image/png": "[encoded data removed]",
      "text/plain": [
       "<matplotlib.figure.Figure at 0x7fe2e4034ef0>"
      ]
     },
     "metadata": {},
     "output_type": "display_data"
    },
    {
     "data": {
      "image/png": "[encoded data removed]",
      "text/plain": [
       "<matplotlib.figure.Figure at 0x7fe2dced7828>"
      ]
     },
     "metadata": {},
     "output_type": "display_data"
    },
    {
     "data": {
      "image/png": "[encoded data removed]",
      "text/plain": [
       "<matplotlib.figure.Figure at 0x7fe2dce75cc0>"
      ]
     },
     "metadata": {},
     "output_type": "display_data"
    },
    {
     "data": {
      "image/png": "[encoded data removed]",
      "text/plain": [
       "<matplotlib.figure.Figure at 0x7fe2dcdf48d0>"
      ]
     },
     "metadata": {},
     "output_type": "display_data"
    },
    {
     "data": {
      "image/png": "[encoded data removed]",
      "text/plain": [
       "<matplotlib.figure.Figure at 0x7fe2dcd6d908>"
      ]
     },
     "metadata": {},
     "output_type": "display_data"
    },
    {
     "data": {
      "image/png": "[encoded data removed]",
      "text/plain": [
       "<matplotlib.figure.Figure at 0x7fe2dcc82a90>"
      ]
     },
     "metadata": {},
     "output_type": "display_data"
    },
    {
     "data": {
      "image/png": "[encoded data removed]",
      "text/plain": [
       "<matplotlib.figure.Figure at 0x7fe2dcc017b8>"
      ]
     },
     "metadata": {},
     "output_type": "display_data"
    },
    {
     "data": {
      "image/png": "[encoded data removed]",
      "text/plain": [
       "<matplotlib.figure.Figure at 0x7fe2dcb7b668>"
      ]
     },
     "metadata": {},
     "output_type": "display_data"
    },
    {
     "data": {
      "image/png": "[encoded data removed]",
      "text/plain": [
       "<matplotlib.figure.Figure at 0x7fe2dcb107f0>"
      ]
     },
     "metadata": {},
     "output_type": "display_data"
    },
    {
     "data": {
      "image/png": "[encoded data removed]",
      "text/plain": [
       "<matplotlib.figure.Figure at 0x7fe2dca8f518>"
      ]
     },
     "metadata": {},
     "output_type": "display_data"
    },
    {
     "data": {
      "image/png": "[encoded data removed]",
      "text/plain": [
       "<matplotlib.figure.Figure at 0x7fe2dca083c8>"
      ]
     },
     "metadata": {},
     "output_type": "display_data"
    },
    {
     "data": {
      "image/png": "[encoded data removed]",
      "text/plain": [
       "<matplotlib.figure.Figure at 0x7fe2dc99d550>"
      ]
     },
     "metadata": {},
     "output_type": "display_data"
    },
    {
     "data": {
      "image/png": "[encoded data removed]",
      "text/plain": [
       "<matplotlib.figure.Figure at 0x7fe2dce75668>"
      ]
     },
     "metadata": {},
     "output_type": "display_data"
    },
    {
     "data": {
      "image/png": "[encoded data removed]",
      "text/plain": [
       "<matplotlib.figure.Figure at 0x7fe2dc91eb00>"
      ]
     },
     "metadata": {},
     "output_type": "display_data"
    }
   ],
   "source": [
    "experimental_data=True\n",
    "\n",
    "if experimental_data:\n",
    "\n",
    "    \n",
    "    n_offset=4\n",
    "\n",
    "    \n",
    "    Nfile_tot=49\n",
    "    N_time=20\n",
    "    time_list=(np.linspace(200,4000,N_time)/40-2).astype(int)\n",
    "    time_list=(np.linspace(200,4000,N_time)/40+n_offset).astype(int)\n",
    "\n",
    "    display_file=2\n",
    "    \n",
    "    n_wait=-1\n",
    "    nshift=2\n",
    "    nshift=1\n",
    "\n",
    "    file_list=np.arange(0,Nfile_tot)\n",
    "\n",
    "    \n",
    "    shuffledata=True\n",
    "    Neval=2\n",
    "    HeraldThreshold=0.0\n",
    "    RoGroundThreshold=-0.02\n",
    "    RoExcitedThreshold1=-0.02\n",
    "    RoExcitedThreshold2=0.23\n",
    "    thresholds=[HeraldThreshold,RoGroundThreshold,RoExcitedThreshold1,RoExcitedThreshold2]\n",
    "\n",
    "    #eval_data,eval_labels,eval_time,TrajData,file_list=load_evaldata(time_list,thresholds,Neval,n_wait,nshift,shuffledata,filename_start,file_list)\n",
    "    plothist=True\n",
    "    plotgraphs=True\n",
    "    eval_data,eval_data_retro,eval_labels,eval_time,eval_prep = load_prepdata(0,Neval,time_list,thresholds,n_wait,nshift,shuffledata,filename_start,file_list,plothist,plotgraphs)\n",
    "    eval_labels_retro,eval_prep_retro=convert_retro(eval_labels,eval_prep)\n",
    "    \n",
    "\n",
    "else:\n",
    "    train_data,train_labels,train_time,eval_data,eval_labels,eval_time=loadingsim()\n",
    "    time_list=np.arange(np.min(eval_time),np.max(eval_time)+1)\n",
    "    n_wait=0\n",
    "    N_time=time_list.shape[0]\n",
    "    TrajData=eval_data\n",
    "    n_steps=eval_data.shape[1]\n",
    "    Neval=49\n"
   ]
  },
  {
   "cell_type": "markdown",
   "metadata": {
    "collapsed": true
   },
   "source": [
    "# Define Neural Network and PlaceHolder"
   ]
  },
  {
   "cell_type": "code",
   "execution_count": 19,
   "metadata": {
    "collapsed": true
   },
   "outputs": [],
   "source": [
    "# Network Parameters\n",
    "n_hidden = 32 #64 #32 # hidden layer num of features\n",
    "n_layer = 1 #3\n",
    "\n",
    "n_input = 1 # MNIST data input (img shape: 28*28)\n",
    "n_steps = eval_data.shape[1]#112 #58 #traj.shape[1] # timesteps\n",
    "n_classes = 2 # Z_class (0-9 digits)\n",
    "n_axis = 3 # Z_class (0-9 digits)\n",
    "\n",
    "\n",
    "#training_iters = numTrain\n",
    "training_epochs=3 \n",
    "batch_size = 1024 #512 #1024 #256\n",
    "\n",
    "\n",
    "# tf Graph input\n",
    "\n",
    "x=tf.placeholder(\"float32\", [None, n_steps,1])\n",
    "\n",
    "y_pred = tf.placeholder(\"float32\", [None, n_axis,n_classes])\n",
    "rho_pred=tf.placeholder(\"float32\", [None, n_axis])\n",
    "\n",
    "y_retro = tf.placeholder(\"float32\", [None, n_axis,n_classes])\n",
    "rho_retro=tf.placeholder(\"float32\", [None, n_axis])\n",
    "\n",
    "t = tf.placeholder(\"int32\", [None])\n",
    "\n",
    "dropout=tf.placeholder(\"float32\")\n",
    "\n",
    "\n",
    "\n",
    "with tf.variable_scope(\"bi_rnn\") as scope:\n",
    "\n",
    "    intial_state_variable_c_fw = tf.get_variable(\"initial_state_retro_c_fw\",[n_layer, 1 ,1, n_hidden], initializer=tf.zeros_initializer())\n",
    "    intial_state_variable_h_fw = tf.get_variable(\"initial_state_retro_h_fw\",[n_layer, 1 ,1, n_hidden-n_axis], initializer=tf.zeros_initializer())\n",
    "     \n",
    "    h_rho_fw=tf.tile(tf.reshape(rho_pred,[1,1,-1,n_axis]),[n_layer,1,1,1])\n",
    "    h_var_fw=tf.tile(intial_state_variable_h_fw,[1,1,tf.shape(x)[0],1])\n",
    "    h_fw=tf.concat([h_rho_fw,h_var_fw],axis=3)\n",
    "    c_fw=tf.tile(intial_state_variable_c_fw,[1,1,tf.shape(x)[0],1])\n",
    "    intial_state_variable_fw_batch=tf.concat([c_fw,h_fw],axis=1)\n",
    "    l_fw = tf.unstack(intial_state_variable_fw_batch, axis=0)\n",
    "    rnn_tuple_state_fw = tuple(\n",
    "     [tf.contrib.rnn.LSTMStateTuple(l_fw[idx][0],l_fw[idx][1])\n",
    "      for idx in range(n_layer)])\n",
    "\n",
    "    \n",
    "    intial_state_variable_c_bw = tf.get_variable(\"initial_state_retro_c_bw\",[n_layer, 1 ,1, n_hidden], initializer=tf.zeros_initializer())\n",
    "    intial_state_variable_h_bw = tf.get_variable(\"initial_state_retro_h_bw\",[n_layer, 1 ,1, n_hidden-n_axis], initializer=tf.zeros_initializer())\n",
    "    \n",
    "    h_rho_bw=tf.tile(tf.reshape(rho_retro,[1,1,-1,n_axis]),[n_layer,1,1,1])\n",
    "    h_var_bw=tf.tile(intial_state_variable_h_bw,[1,1,tf.shape(x)[0],1])\n",
    "    h_bw=tf.concat([h_rho_bw,h_var_bw],axis=3)\n",
    "    c_bw=tf.tile(intial_state_variable_c_bw,[1,1,tf.shape(x)[0],1])\n",
    "    intial_state_variable_bw_batch=tf.concat([c_bw,h_bw],axis=1)\n",
    "    l_bw = tf.unstack(intial_state_variable_bw_batch, axis=0)\n",
    "    rnn_tuple_state_bw = tuple(\n",
    "     [tf.contrib.rnn.LSTMStateTuple(l_bw[idx][0],l_bw[idx][1])\n",
    "      for idx in range(n_layer)])\n",
    "\n",
    "    \n",
    "    cell_bw = tf.contrib.rnn.MultiRNNCell(\n",
    "    [rnn.BasicLSTMCell(n_hidden, state_is_tuple=True) for _ in range(n_layer)],\n",
    "    state_is_tuple=True)\n",
    "    cell_bw = tf.contrib.rnn.DropoutWrapper(cell_bw, input_keep_prob=1.0, output_keep_prob=1.0, state_keep_prob=1.-dropout)\n",
    "\n",
    "    \n",
    "    cell_fw = tf.contrib.rnn.MultiRNNCell(\n",
    "    [rnn.BasicLSTMCell(n_hidden, state_is_tuple=True) for _ in range(n_layer)],\n",
    "    state_is_tuple=True)\n",
    "    cell_fw = tf.contrib.rnn.DropoutWrapper(cell_fw, input_keep_prob=1.0, output_keep_prob=1.0, state_keep_prob=1.-dropout)\n",
    "\n",
    "\n",
    "\n",
    "    outputs, states = tf.nn.bidirectional_dynamic_rnn(\n",
    "                                                        cell_fw=cell_fw,\n",
    "                                                        cell_bw=cell_bw,\n",
    "                                                        inputs=x,\n",
    "                                                        sequence_length=t,\n",
    "                                                        initial_state_fw=rnn_tuple_state_fw,\n",
    "                                                        initial_state_bw=rnn_tuple_state_bw,\n",
    "                                                        dtype=tf.float32\n",
    "                                                        )\n",
    "\n",
    "\n",
    "    # Define weights\n",
    "    weights_bw = tf.get_variable(\"weights_retro\", [n_hidden, n_axis],\n",
    "        initializer=tf.random_normal_initializer())\n",
    "\n",
    "    biases_bw = tf.get_variable(\"biases_retro\", [n_axis],\n",
    "        initializer=tf.random_normal_initializer())\n",
    "\n",
    "    # Define weights\n",
    "    weights_fw = tf.get_variable(\"weights_pred\", [n_hidden, n_axis],\n",
    "        initializer=tf.random_normal_initializer())\n",
    "\n",
    "    biases_fw = tf.get_variable(\"biases_pred\", [n_axis],\n",
    "        initializer=tf.random_normal_initializer())\n",
    "    \n",
    "    \n",
    "    \n",
    "    rho_final_pred=tf.nn.sigmoid(tf.matmul(last_relevant(outputs[0],t), weights_fw) + biases_fw)\n",
    "    rho_init_pred =tf.nn.sigmoid(tf.matmul(outputs[0][:,n_offset], weights_fw) + biases_fw)\n",
    "\n",
    "    identity_t=tf.ones([tf.shape(x)[0]],dtype=\"int32\")\n",
    "\n",
    "    #output_retro=tf.reverse_sequence(outputs[1],t)\n",
    "    \n",
    "    rho_init_retro =tf.nn.sigmoid(tf.matmul(last_relevant(outputs[1],t-n_offset*identity_t), weights_bw) + biases_bw)\n",
    "    rho_final_retro=tf.nn.sigmoid(tf.matmul(outputs[1][:,0], weights_bw) + biases_bw)\n",
    "    \n",
    "    rho_traj_pred =tf.stack([tf.nn.sigmoid(tf.matmul(outputs[0][:,i], weights_fw) + biases_fw) for i in np.arange(n_offset,n_steps)],axis=1)\n",
    "    \n",
    "    output_retro=tf.reverse_sequence(outputs[1],t,batch_dim = 0,seq_dim = 1)\n",
    "    rho_traj_retro_tmp=tf.stack([tf.nn.sigmoid(tf.matmul(output_retro[:,i], weights_bw) + biases_bw) for i in np.arange(n_offset,n_steps)],axis=1)\n",
    "    rho_traj_retro=tf.reverse_sequence(rho_traj_retro_tmp,t-n_offset*identity_t,batch_dim = 0,seq_dim = 1)\n",
    "\n",
    "    \n",
    "    cost_init_pred=tf.reduce_mean(tf.square(rho_init_pred-rho_pred))\n",
    "    cost_init_retro=tf.reduce_mean(tf.square(rho_init_retro-rho_retro))    \n",
    "    \n",
    "    #rho_traj_retro=tf.stack([tf.nn.sigmoid(tf.matmul(outputs[:,i], weights_fw) + biases) for i in np.arange(n_steps)],axis=1)"
   ]
  },
  {
   "cell_type": "code",
   "execution_count": 20,
   "metadata": {
    "collapsed": true
   },
   "outputs": [],
   "source": [
    "#rho_traj_retro=tf.reverse_sequence(rho_traj_retro_tmp,t-n_offset*identity_t,batch_dim = 0,seq_dim = 1)\n"
   ]
  },
  {
   "cell_type": "markdown",
   "metadata": {},
   "source": [
    "# Define Tomography gradient search"
   ]
  },
  {
   "cell_type": "code",
   "execution_count": 20,
   "metadata": {
    "collapsed": true
   },
   "outputs": [],
   "source": [
    "identity=tf.ones([tf.shape(x)[0],n_axis])\n",
    "  \n",
    "#alpha_tomo = tf.Variable(tf.ones([1,n_axis]), trainable=True)\n",
    "theta = tf.Variable(0., trainable=True)\n",
    "phi= tf.Variable(0., trainable=True)\n",
    "radius = tf.Variable(0., trainable=True)\n",
    "purity_tomo=tf.tanh(radius)\n",
    "\n",
    "#rho_init=tf.stack([[purity_tomo*tf.cos(theta)*tf.sin(phi),purity_tomo*tf.sin(theta)*tf.cos(phi),purity_tomo*tf.sin(phi)]])\n",
    "\n",
    "rho_init=tf.stack([[purity_tomo*tf.cos(theta),purity_tomo*tf.sin(theta)*tf.cos(phi),purity_tomo*tf.sin(theta)*tf.sin(phi)]])\n",
    "\n",
    "\n",
    "rho_tile=tf.tile(rho_init,[tf.shape(x)[0],1])\n",
    "                              \n",
    "cost_tomo=tf.reduce_mean(-tf.log(1/2.+1/2.*tf.reduce_sum((2*rho_final_retro-identity)*rho_tile,reduction_indices=[1])))\n",
    "\n",
    "\n"
   ]
  },
  {
   "cell_type": "markdown",
   "metadata": {},
   "source": [
    "# Define loss and optimizer"
   ]
  },
  {
   "cell_type": "code",
   "execution_count": 21,
   "metadata": {},
   "outputs": [
    {
     "name": "stderr",
     "output_type": "stream",
     "text": [
      "/home/qnl/miniconda3/envs/idp/lib/python3.6/site-packages/tensorflow/python/ops/gradients_impl.py:96: UserWarning: Converting sparse IndexedSlices to a dense Tensor of unknown shape. This may consume a large amount of memory.\n",
      "  \"Converting sparse IndexedSlices to a dense Tensor of unknown shape. \"\n"
     ]
    }
   ],
   "source": [
    "# Define loss and optimizer\n",
    "\n",
    "expdecay=False\n",
    "powerdecay=False\n",
    "\n",
    "identity=tf.ones([tf.shape(x)[0],n_axis])\n",
    "\n",
    "regularization = tf.Variable(1., trainable=False)\n",
    "\n",
    "cross_entropy_pred=tf.reduce_mean(-y_pred[:,:,0]*tf.log(rho_final_pred)-y_pred[:,:,1]*tf.log(identity-rho_final_pred))\n",
    "cost_pred=cross_entropy_pred+regularization*cost_init_pred\n",
    "\n",
    "cross_entropy_retro=tf.reduce_mean(-y_retro[:,:,0]*tf.log(rho_final_retro)-y_retro[:,:,1]*tf.log(identity-rho_final_retro))\n",
    "cost_retro=cross_entropy_retro+regularization*cost_init_retro\n",
    "\n",
    "\n",
    "\n",
    "iteration = tf.Variable(0, trainable=False)\n",
    "\n",
    "if expdecay:\n",
    "    \n",
    "    learning_rate = tf.train.exponential_decay(0.02, iteration, 1, 1-0.5*10**(-5) )\n",
    "\n",
    "    optimizer_pred = tf.train.AdamOptimizer(learning_rate=learning_rate).minimize(cost_pred, global_step=iteration)\n",
    "    optimizer_retro = tf.train.AdamOptimizer(learning_rate=learning_rate).minimize(cost_retro, global_step=iteration)\n",
    "\n",
    "else:\n",
    "    #LR_init=0.002\n",
    "    #LR_schedule=[0.001,0.0003,0.0001]\n",
    "    LR_schedule=[0.01,0.003,0.001,0.0003,0.0001]\n",
    "\n",
    "    learning_rate = tf.Variable(LR_schedule[0], trainable=False)\n",
    "    optimizer_pred = tf.train.AdamOptimizer(learning_rate=learning_rate).minimize(cost_pred, global_step=iteration)\n",
    "    optimizer_retro = tf.train.AdamOptimizer(learning_rate=learning_rate).minimize(cost_retro, global_step=iteration)\n",
    "\n",
    "    optimizer_tomo = tf.train.AdamOptimizer(learning_rate=learning_rate).minimize(cost_tomo, var_list=[theta,phi,radius], global_step=iteration)\n",
    "\n",
    "# Evaluate model\n",
    "accuracy=tf.Variable(0.0,trainable=False)\n",
    "\n",
    "# Initializing the variables\n",
    "init = tf.global_variables_initializer()\n",
    "\n",
    "\n",
    "tf.summary.scalar(\"loss\", cost_pred)\n",
    "tf.summary.scalar(\"accuracy\", accuracy)\n",
    "\n",
    "merged_summary_op = tf.summary.merge_all()"
   ]
  },
  {
   "cell_type": "markdown",
   "metadata": {},
   "source": [
    "# Run RNN training for prediction and retrodiction"
   ]
  },
  {
   "cell_type": "code",
   "execution_count": 22,
   "metadata": {
    "scrolled": false
   },
   "outputs": [
    {
     "data": {
      "image/png": "[encoded data removed]",
      "text/plain": [
       "<matplotlib.figure.Figure at 0x7fe294123b00>"
      ]
     },
     "metadata": {},
     "output_type": "display_data"
    },
    {
     "data": {
      "image/png": "[encoded data removed]",
      "text/plain": [
       "<matplotlib.figure.Figure at 0x7fe229c45c18>"
      ]
     },
     "metadata": {},
     "output_type": "display_data"
    },
    {
     "name": "stdout",
     "output_type": "stream",
     "text": [
      "train time 324.960 eval time 105.170\n",
      "time per iter 4.408 ms\n",
      "Iter 5160962, Minibatch Loss= 0.195836, Training Accuracy= 0.048792\n",
      "[ 0.01700456  0.01930811  0.01247911]\n",
      "Learning Rate 0.001\n",
      "46 loaded files on 47 - epoch 2\n",
      "model_saved at iter 5087234\n",
      "Model saved in file: model/prediction_retrodiction/prediction_retrodiction_tomo_dropout_32HS_v2\n",
      "Model saved in file: model/prediction_retrodiction/prediction_retrodiction_tomo_dropout_32HS_v2\n",
      "Optimization Finished!\n"
     ]
    },
    {
     "data": {
      "text/plain": [
       "<matplotlib.figure.Figure at 0x7fe295439198>"
      ]
     },
     "metadata": {},
     "output_type": "display_data"
    },
    {
     "data": {
      "text/plain": [
       "<matplotlib.figure.Figure at 0x7fe27c0b8208>"
      ]
     },
     "metadata": {},
     "output_type": "display_data"
    },
    {
     "data": {
      "text/plain": [
       "<matplotlib.figure.Figure at 0x7fe273dea5c0>"
      ]
     },
     "metadata": {},
     "output_type": "display_data"
    },
    {
     "data": {
      "text/plain": [
       "<matplotlib.figure.Figure at 0x7fe2941be358>"
      ]
     },
     "metadata": {},
     "output_type": "display_data"
    },
    {
     "data": {
      "text/plain": [
       "<matplotlib.figure.Figure at 0x7fe27398f9b0>"
      ]
     },
     "metadata": {},
     "output_type": "display_data"
    },
    {
     "data": {
      "text/plain": [
       "<matplotlib.figure.Figure at 0x7fe2707da6d8>"
      ]
     },
     "metadata": {},
     "output_type": "display_data"
    },
    {
     "data": {
      "text/plain": [
       "<matplotlib.figure.Figure at 0x7fe273fa6240>"
      ]
     },
     "metadata": {},
     "output_type": "display_data"
    },
    {
     "data": {
      "text/plain": [
       "<matplotlib.figure.Figure at 0x7fe273d6ab00>"
      ]
     },
     "metadata": {},
     "output_type": "display_data"
    },
    {
     "data": {
      "text/plain": [
       "<matplotlib.figure.Figure at 0x7fe2dc8c1fd0>"
      ]
     },
     "metadata": {},
     "output_type": "display_data"
    },
    {
     "data": {
      "text/plain": [
       "<matplotlib.figure.Figure at 0x7fe2942fd978>"
      ]
     },
     "metadata": {},
     "output_type": "display_data"
    },
    {
     "data": {
      "text/plain": [
       "<matplotlib.figure.Figure at 0x7fe273e20710>"
      ]
     },
     "metadata": {},
     "output_type": "display_data"
    },
    {
     "data": {
      "text/plain": [
       "<matplotlib.figure.Figure at 0x7fe273b7b7f0>"
      ]
     },
     "metadata": {},
     "output_type": "display_data"
    },
    {
     "data": {
      "text/plain": [
       "<matplotlib.figure.Figure at 0x7fe29421a6a0>"
      ]
     },
     "metadata": {},
     "output_type": "display_data"
    },
    {
     "data": {
      "text/plain": [
       "<matplotlib.figure.Figure at 0x7fe29423c278>"
      ]
     },
     "metadata": {},
     "output_type": "display_data"
    },
    {
     "data": {
      "text/plain": [
       "<matplotlib.figure.Figure at 0x7fe273e50b70>"
      ]
     },
     "metadata": {},
     "output_type": "display_data"
    },
    {
     "data": {
      "text/plain": [
       "<matplotlib.figure.Figure at 0x7fe2707f7ef0>"
      ]
     },
     "metadata": {},
     "output_type": "display_data"
    },
    {
     "data": {
      "text/plain": [
       "<matplotlib.figure.Figure at 0x7fe273d17cf8>"
      ]
     },
     "metadata": {},
     "output_type": "display_data"
    },
    {
     "data": {
      "text/plain": [
       "<matplotlib.figure.Figure at 0x7fe2705d9d30>"
      ]
     },
     "metadata": {},
     "output_type": "display_data"
    },
    {
     "data": {
      "text/plain": [
       "<matplotlib.figure.Figure at 0x7fe2705d98d0>"
      ]
     },
     "metadata": {},
     "output_type": "display_data"
    },
    {
     "data": {
      "text/plain": [
       "<matplotlib.figure.Figure at 0x7fe2703a6320>"
      ]
     },
     "metadata": {},
     "output_type": "display_data"
    },
    {
     "data": {
      "text/plain": [
       "<matplotlib.figure.Figure at 0x7fe2704a59b0>"
      ]
     },
     "metadata": {},
     "output_type": "display_data"
    },
    {
     "data": {
      "text/plain": [
       "<matplotlib.figure.Figure at 0x7fe270601b38>"
      ]
     },
     "metadata": {},
     "output_type": "display_data"
    },
    {
     "data": {
      "text/plain": [
       "<matplotlib.figure.Figure at 0x7fe2705b8198>"
      ]
     },
     "metadata": {},
     "output_type": "display_data"
    },
    {
     "data": {
      "text/plain": [
       "<matplotlib.figure.Figure at 0x7fe2941fe5f8>"
      ]
     },
     "metadata": {},
     "output_type": "display_data"
    },
    {
     "data": {
      "text/plain": [
       "<matplotlib.figure.Figure at 0x7fe269d03978>"
      ]
     },
     "metadata": {},
     "output_type": "display_data"
    },
    {
     "data": {
      "text/plain": [
       "<matplotlib.figure.Figure at 0x7fe2699f0ef0>"
      ]
     },
     "metadata": {},
     "output_type": "display_data"
    },
    {
     "data": {
      "text/plain": [
       "<matplotlib.figure.Figure at 0x7fe269b94a58>"
      ]
     },
     "metadata": {},
     "output_type": "display_data"
    },
    {
     "data": {
      "text/plain": [
       "<matplotlib.figure.Figure at 0x7fe269cf3e80>"
      ]
     },
     "metadata": {},
     "output_type": "display_data"
    },
    {
     "data": {
      "text/plain": [
       "<matplotlib.figure.Figure at 0x7fe27004e8d0>"
      ]
     },
     "metadata": {},
     "output_type": "display_data"
    },
    {
     "data": {
      "text/plain": [
       "<matplotlib.figure.Figure at 0x7fe269192b70>"
      ]
     },
     "metadata": {},
     "output_type": "display_data"
    },
    {
     "data": {
      "text/plain": [
       "<matplotlib.figure.Figure at 0x7fe27057ee48>"
      ]
     },
     "metadata": {},
     "output_type": "display_data"
    },
    {
     "data": {
      "text/plain": [
       "<matplotlib.figure.Figure at 0x7fe269efb278>"
      ]
     },
     "metadata": {},
     "output_type": "display_data"
    },
    {
     "data": {
      "text/plain": [
       "<matplotlib.figure.Figure at 0x7fe270628b70>"
      ]
     },
     "metadata": {},
     "output_type": "display_data"
    },
    {
     "data": {
      "text/plain": [
       "<matplotlib.figure.Figure at 0x7fe295436b70>"
      ]
     },
     "metadata": {},
     "output_type": "display_data"
    },
    {
     "data": {
      "text/plain": [
       "<matplotlib.figure.Figure at 0x7fe268d0d908>"
      ]
     },
     "metadata": {},
     "output_type": "display_data"
    },
    {
     "data": {
      "text/plain": [
       "<matplotlib.figure.Figure at 0x7fe268d19240>"
      ]
     },
     "metadata": {},
     "output_type": "display_data"
    },
    {
     "data": {
      "text/plain": [
       "<matplotlib.figure.Figure at 0x7fe2707f7320>"
      ]
     },
     "metadata": {},
     "output_type": "display_data"
    },
    {
     "data": {
      "text/plain": [
       "<matplotlib.figure.Figure at 0x7fe2704167f0>"
      ]
     },
     "metadata": {},
     "output_type": "display_data"
    },
    {
     "data": {
      "text/plain": [
       "<matplotlib.figure.Figure at 0x7fe26990e278>"
      ]
     },
     "metadata": {},
     "output_type": "display_data"
    },
    {
     "data": {
      "text/plain": [
       "<matplotlib.figure.Figure at 0x7fe269a97550>"
      ]
     },
     "metadata": {},
     "output_type": "display_data"
    },
    {
     "data": {
      "text/plain": [
       "<matplotlib.figure.Figure at 0x7fe269911cc0>"
      ]
     },
     "metadata": {},
     "output_type": "display_data"
    },
    {
     "data": {
      "text/plain": [
       "<matplotlib.figure.Figure at 0x7fe268fbb940>"
      ]
     },
     "metadata": {},
     "output_type": "display_data"
    },
    {
     "data": {
      "text/plain": [
       "<matplotlib.figure.Figure at 0x7fe26954ee80>"
      ]
     },
     "metadata": {},
     "output_type": "display_data"
    },
    {
     "data": {
      "text/plain": [
       "<matplotlib.figure.Figure at 0x7fe269b449b0>"
      ]
     },
     "metadata": {},
     "output_type": "display_data"
    },
    {
     "data": {
      "text/plain": [
       "<matplotlib.figure.Figure at 0x7fe2707942b0>"
      ]
     },
     "metadata": {},
     "output_type": "display_data"
    },
    {
     "data": {
      "text/plain": [
       "<matplotlib.figure.Figure at 0x7fe269ddc860>"
      ]
     },
     "metadata": {},
     "output_type": "display_data"
    },
    {
     "data": {
      "text/plain": [
       "<matplotlib.figure.Figure at 0x7fe26898cf98>"
      ]
     },
     "metadata": {},
     "output_type": "display_data"
    },
    {
     "data": {
      "text/plain": [
       "<matplotlib.figure.Figure at 0x7fe2689a4a90>"
      ]
     },
     "metadata": {},
     "output_type": "display_data"
    },
    {
     "data": {
      "text/plain": [
       "<matplotlib.figure.Figure at 0x7fe269e15828>"
      ]
     },
     "metadata": {},
     "output_type": "display_data"
    },
    {
     "data": {
      "text/plain": [
       "<matplotlib.figure.Figure at 0x7fe2690c8668>"
      ]
     },
     "metadata": {},
     "output_type": "display_data"
    },
    {
     "data": {
      "text/plain": [
       "<matplotlib.figure.Figure at 0x7fe269e01cf8>"
      ]
     },
     "metadata": {},
     "output_type": "display_data"
    },
    {
     "data": {
      "text/plain": [
       "<matplotlib.figure.Figure at 0x7fe26941bcc0>"
      ]
     },
     "metadata": {},
     "output_type": "display_data"
    },
    {
     "data": {
      "text/plain": [
       "<matplotlib.figure.Figure at 0x7fe268a6ffd0>"
      ]
     },
     "metadata": {},
     "output_type": "display_data"
    },
    {
     "data": {
      "text/plain": [
       "<matplotlib.figure.Figure at 0x7fe268a605f8>"
      ]
     },
     "metadata": {},
     "output_type": "display_data"
    },
    {
     "data": {
      "text/plain": [
       "<matplotlib.figure.Figure at 0x7fe2690324a8>"
      ]
     },
     "metadata": {},
     "output_type": "display_data"
    },
    {
     "data": {
      "text/plain": [
       "<matplotlib.figure.Figure at 0x7fe2695adf60>"
      ]
     },
     "metadata": {},
     "output_type": "display_data"
    },
    {
     "data": {
      "text/plain": [
       "<matplotlib.figure.Figure at 0x7fe26977f438>"
      ]
     },
     "metadata": {},
     "output_type": "display_data"
    },
    {
     "data": {
      "text/plain": [
       "<matplotlib.figure.Figure at 0x7fe2700ffbe0>"
      ]
     },
     "metadata": {},
     "output_type": "display_data"
    },
    {
     "data": {
      "text/plain": [
       "<matplotlib.figure.Figure at 0x7fe26992bfd0>"
      ]
     },
     "metadata": {},
     "output_type": "display_data"
    },
    {
     "data": {
      "text/plain": [
       "<matplotlib.figure.Figure at 0x7fe27c13cda0>"
      ]
     },
     "metadata": {},
     "output_type": "display_data"
    },
    {
     "data": {
      "text/plain": [
       "<matplotlib.figure.Figure at 0x7fe270086518>"
      ]
     },
     "metadata": {},
     "output_type": "display_data"
    },
    {
     "data": {
      "text/plain": [
       "<matplotlib.figure.Figure at 0x7fe268c1e390>"
      ]
     },
     "metadata": {},
     "output_type": "display_data"
    },
    {
     "data": {
      "text/plain": [
       "<matplotlib.figure.Figure at 0x7fe273f728d0>"
      ]
     },
     "metadata": {},
     "output_type": "display_data"
    },
    {
     "data": {
      "text/plain": [
       "<matplotlib.figure.Figure at 0x7fe2684d3ba8>"
      ]
     },
     "metadata": {},
     "output_type": "display_data"
    },
    {
     "data": {
      "text/plain": [
       "<matplotlib.figure.Figure at 0x7fe269bc54e0>"
      ]
     },
     "metadata": {},
     "output_type": "display_data"
    },
    {
     "data": {
      "text/plain": [
       "<matplotlib.figure.Figure at 0x7fe2705effd0>"
      ]
     },
     "metadata": {},
     "output_type": "display_data"
    },
    {
     "data": {
      "text/plain": [
       "<matplotlib.figure.Figure at 0x7fe26828b780>"
      ]
     },
     "metadata": {},
     "output_type": "display_data"
    },
    {
     "data": {
      "text/plain": [
       "<matplotlib.figure.Figure at 0x7fe268593e80>"
      ]
     },
     "metadata": {},
     "output_type": "display_data"
    },
    {
     "data": {
      "text/plain": [
       "<matplotlib.figure.Figure at 0x7fe26845ce80>"
      ]
     },
     "metadata": {},
     "output_type": "display_data"
    },
    {
     "data": {
      "text/plain": [
       "<matplotlib.figure.Figure at 0x7fe269c50080>"
      ]
     },
     "metadata": {},
     "output_type": "display_data"
    },
    {
     "data": {
      "text/plain": [
       "<matplotlib.figure.Figure at 0x7fe22bddbb70>"
      ]
     },
     "metadata": {},
     "output_type": "display_data"
    },
    {
     "data": {
      "text/plain": [
       "<matplotlib.figure.Figure at 0x7fe268efc240>"
      ]
     },
     "metadata": {},
     "output_type": "display_data"
    },
    {
     "data": {
      "text/plain": [
       "<matplotlib.figure.Figure at 0x7fe22bcb3eb8>"
      ]
     },
     "metadata": {},
     "output_type": "display_data"
    },
    {
     "data": {
      "text/plain": [
       "<matplotlib.figure.Figure at 0x7fe2693bd048>"
      ]
     },
     "metadata": {},
     "output_type": "display_data"
    },
    {
     "data": {
      "text/plain": [
       "<matplotlib.figure.Figure at 0x7fe268df5160>"
      ]
     },
     "metadata": {},
     "output_type": "display_data"
    },
    {
     "data": {
      "text/plain": [
       "<matplotlib.figure.Figure at 0x7fe270300c50>"
      ]
     },
     "metadata": {},
     "output_type": "display_data"
    },
    {
     "data": {
      "text/plain": [
       "<matplotlib.figure.Figure at 0x7fe22bc522b0>"
      ]
     },
     "metadata": {},
     "output_type": "display_data"
    },
    {
     "data": {
      "text/plain": [
       "<matplotlib.figure.Figure at 0x7fe22ba03a58>"
      ]
     },
     "metadata": {},
     "output_type": "display_data"
    },
    {
     "data": {
      "text/plain": [
       "<matplotlib.figure.Figure at 0x7fe22b7df518>"
      ]
     },
     "metadata": {},
     "output_type": "display_data"
    },
    {
     "data": {
      "text/plain": [
       "<matplotlib.figure.Figure at 0x7fe2682d3518>"
      ]
     },
     "metadata": {},
     "output_type": "display_data"
    },
    {
     "data": {
      "text/plain": [
       "<matplotlib.figure.Figure at 0x7fe268f83668>"
      ]
     },
     "metadata": {},
     "output_type": "display_data"
    },
    {
     "data": {
      "text/plain": [
       "<matplotlib.figure.Figure at 0x7fe22b865be0>"
      ]
     },
     "metadata": {},
     "output_type": "display_data"
    },
    {
     "data": {
      "text/plain": [
       "<matplotlib.figure.Figure at 0x7fe2695a4160>"
      ]
     },
     "metadata": {},
     "output_type": "display_data"
    },
    {
     "data": {
      "text/plain": [
       "<matplotlib.figure.Figure at 0x7fe269dd9eb8>"
      ]
     },
     "metadata": {},
     "output_type": "display_data"
    },
    {
     "data": {
      "text/plain": [
       "<matplotlib.figure.Figure at 0x7fe22b7ebfd0>"
      ]
     },
     "metadata": {},
     "output_type": "display_data"
    },
    {
     "data": {
      "text/plain": [
       "<matplotlib.figure.Figure at 0x7fe268b50eb8>"
      ]
     },
     "metadata": {},
     "output_type": "display_data"
    },
    {
     "data": {
      "text/plain": [
       "<matplotlib.figure.Figure at 0x7fe27c1a0160>"
      ]
     },
     "metadata": {},
     "output_type": "display_data"
    },
    {
     "data": {
      "text/plain": [
       "<matplotlib.figure.Figure at 0x7fe268847470>"
      ]
     },
     "metadata": {},
     "output_type": "display_data"
    },
    {
     "data": {
      "text/plain": [
       "<matplotlib.figure.Figure at 0x7fe268d5aeb8>"
      ]
     },
     "metadata": {},
     "output_type": "display_data"
    },
    {
     "data": {
      "text/plain": [
       "<matplotlib.figure.Figure at 0x7fe22ad53b00>"
      ]
     },
     "metadata": {},
     "output_type": "display_data"
    },
    {
     "data": {
      "text/plain": [
       "<matplotlib.figure.Figure at 0x7fe2689ebfd0>"
      ]
     },
     "metadata": {},
     "output_type": "display_data"
    },
    {
     "data": {
      "text/plain": [
       "<matplotlib.figure.Figure at 0x7fe22ac58978>"
      ]
     },
     "metadata": {},
     "output_type": "display_data"
    },
    {
     "data": {
      "text/plain": [
       "<matplotlib.figure.Figure at 0x7fe268e95ac8>"
      ]
     },
     "metadata": {},
     "output_type": "display_data"
    },
    {
     "data": {
      "text/plain": [
       "<matplotlib.figure.Figure at 0x7fe268ab9f28>"
      ]
     },
     "metadata": {},
     "output_type": "display_data"
    },
    {
     "data": {
      "text/plain": [
       "<matplotlib.figure.Figure at 0x7fe22b742eb8>"
      ]
     },
     "metadata": {},
     "output_type": "display_data"
    },
    {
     "data": {
      "text/plain": [
       "<matplotlib.figure.Figure at 0x7fe268af2550>"
      ]
     },
     "metadata": {},
     "output_type": "display_data"
    },
    {
     "data": {
      "text/plain": [
       "<matplotlib.figure.Figure at 0x7fe268666ef0>"
      ]
     },
     "metadata": {},
     "output_type": "display_data"
    },
    {
     "data": {
      "text/plain": [
       "<matplotlib.figure.Figure at 0x7fe22bb55ac8>"
      ]
     },
     "metadata": {},
     "output_type": "display_data"
    },
    {
     "data": {
      "text/plain": [
       "<matplotlib.figure.Figure at 0x7fe22aa80e80>"
      ]
     },
     "metadata": {},
     "output_type": "display_data"
    },
    {
     "data": {
      "text/plain": [
       "<matplotlib.figure.Figure at 0x7fe22b0281d0>"
      ]
     },
     "metadata": {},
     "output_type": "display_data"
    },
    {
     "data": {
      "text/plain": [
       "<matplotlib.figure.Figure at 0x7fe268fcf320>"
      ]
     },
     "metadata": {},
     "output_type": "display_data"
    },
    {
     "data": {
      "text/plain": [
       "<matplotlib.figure.Figure at 0x7fe270405c88>"
      ]
     },
     "metadata": {},
     "output_type": "display_data"
    },
    {
     "data": {
      "text/plain": [
       "<matplotlib.figure.Figure at 0x7fe22af6b4e0>"
      ]
     },
     "metadata": {},
     "output_type": "display_data"
    },
    {
     "data": {
      "text/plain": [
       "<matplotlib.figure.Figure at 0x7fe22be4c128>"
      ]
     },
     "metadata": {},
     "output_type": "display_data"
    },
    {
     "data": {
      "text/plain": [
       "<matplotlib.figure.Figure at 0x7fe268e71a90>"
      ]
     },
     "metadata": {},
     "output_type": "display_data"
    },
    {
     "data": {
      "text/plain": [
       "<matplotlib.figure.Figure at 0x7fe2681f26a0>"
      ]
     },
     "metadata": {},
     "output_type": "display_data"
    },
    {
     "data": {
      "text/plain": [
       "<matplotlib.figure.Figure at 0x7fe2690e95f8>"
      ]
     },
     "metadata": {},
     "output_type": "display_data"
    },
    {
     "data": {
      "text/plain": [
       "<matplotlib.figure.Figure at 0x7fe26938e278>"
      ]
     },
     "metadata": {},
     "output_type": "display_data"
    },
    {
     "data": {
      "text/plain": [
       "<matplotlib.figure.Figure at 0x7fe294241c18>"
      ]
     },
     "metadata": {},
     "output_type": "display_data"
    },
    {
     "data": {
      "text/plain": [
       "<matplotlib.figure.Figure at 0x7fe269fecd68>"
      ]
     },
     "metadata": {},
     "output_type": "display_data"
    },
    {
     "data": {
      "text/plain": [
       "<matplotlib.figure.Figure at 0x7fe22ba75fd0>"
      ]
     },
     "metadata": {},
     "output_type": "display_data"
    },
    {
     "data": {
      "text/plain": [
       "<matplotlib.figure.Figure at 0x7fe2701798d0>"
      ]
     },
     "metadata": {},
     "output_type": "display_data"
    },
    {
     "data": {
      "text/plain": [
       "<matplotlib.figure.Figure at 0x7fe268f85668>"
      ]
     },
     "metadata": {},
     "output_type": "display_data"
    },
    {
     "data": {
      "text/plain": [
       "<matplotlib.figure.Figure at 0x7fe268ab9828>"
      ]
     },
     "metadata": {},
     "output_type": "display_data"
    },
    {
     "data": {
      "text/plain": [
       "<matplotlib.figure.Figure at 0x7fe2685ace48>"
      ]
     },
     "metadata": {},
     "output_type": "display_data"
    },
    {
     "data": {
      "text/plain": [
       "<matplotlib.figure.Figure at 0x7fe22bc65ef0>"
      ]
     },
     "metadata": {},
     "output_type": "display_data"
    },
    {
     "data": {
      "text/plain": [
       "<matplotlib.figure.Figure at 0x7fe22a91bdd8>"
      ]
     },
     "metadata": {},
     "output_type": "display_data"
    },
    {
     "data": {
      "text/plain": [
       "<matplotlib.figure.Figure at 0x7fe22aa856a0>"
      ]
     },
     "metadata": {},
     "output_type": "display_data"
    },
    {
     "data": {
      "text/plain": [
       "<matplotlib.figure.Figure at 0x7fe229c8afd0>"
      ]
     },
     "metadata": {},
     "output_type": "display_data"
    },
    {
     "data": {
      "text/plain": [
       "<matplotlib.figure.Figure at 0x7fe229cbe438>"
      ]
     },
     "metadata": {},
     "output_type": "display_data"
    },
    {
     "data": {
      "text/plain": [
       "<matplotlib.figure.Figure at 0x7fe22a1459e8>"
      ]
     },
     "metadata": {},
     "output_type": "display_data"
    },
    {
     "data": {
      "text/plain": [
       "<matplotlib.figure.Figure at 0x7fe22a0c5ba8>"
      ]
     },
     "metadata": {},
     "output_type": "display_data"
    },
    {
     "data": {
      "text/plain": [
       "<matplotlib.figure.Figure at 0x7fe26938e8d0>"
      ]
     },
     "metadata": {},
     "output_type": "display_data"
    },
    {
     "data": {
      "text/plain": [
       "<matplotlib.figure.Figure at 0x7fe27394ce80>"
      ]
     },
     "metadata": {},
     "output_type": "display_data"
    },
    {
     "data": {
      "text/plain": [
       "<matplotlib.figure.Figure at 0x7fe269797390>"
      ]
     },
     "metadata": {},
     "output_type": "display_data"
    },
    {
     "data": {
      "text/plain": [
       "<matplotlib.figure.Figure at 0x7fe2941e7ef0>"
      ]
     },
     "metadata": {},
     "output_type": "display_data"
    },
    {
     "data": {
      "text/plain": [
       "<matplotlib.figure.Figure at 0x7fe2297595c0>"
      ]
     },
     "metadata": {},
     "output_type": "display_data"
    },
    {
     "data": {
      "text/plain": [
       "<matplotlib.figure.Figure at 0x7fe22b166588>"
      ]
     },
     "metadata": {},
     "output_type": "display_data"
    },
    {
     "data": {
      "text/plain": [
       "<matplotlib.figure.Figure at 0x7fe27009d320>"
      ]
     },
     "metadata": {},
     "output_type": "display_data"
    },
    {
     "data": {
      "text/plain": [
       "<matplotlib.figure.Figure at 0x7fe22b650a58>"
      ]
     },
     "metadata": {},
     "output_type": "display_data"
    },
    {
     "data": {
      "text/plain": [
       "<matplotlib.figure.Figure at 0x7fe22bddb390>"
      ]
     },
     "metadata": {},
     "output_type": "display_data"
    },
    {
     "data": {
      "text/plain": [
       "<matplotlib.figure.Figure at 0x7fe22b5e8358>"
      ]
     },
     "metadata": {},
     "output_type": "display_data"
    },
    {
     "data": {
      "text/plain": [
       "<matplotlib.figure.Figure at 0x7fe22b15ec88>"
      ]
     },
     "metadata": {},
     "output_type": "display_data"
    },
    {
     "data": {
      "text/plain": [
       "<matplotlib.figure.Figure at 0x7fe268a82f28>"
      ]
     },
     "metadata": {},
     "output_type": "display_data"
    },
    {
     "data": {
      "text/plain": [
       "<matplotlib.figure.Figure at 0x7fe2290202b0>"
      ]
     },
     "metadata": {},
     "output_type": "display_data"
    },
    {
     "data": {
      "text/plain": [
       "<matplotlib.figure.Figure at 0x7fe229f914a8>"
      ]
     },
     "metadata": {},
     "output_type": "display_data"
    },
    {
     "data": {
      "text/plain": [
       "<matplotlib.figure.Figure at 0x7fe269b944a8>"
      ]
     },
     "metadata": {},
     "output_type": "display_data"
    },
    {
     "data": {
      "text/plain": [
       "<matplotlib.figure.Figure at 0x7fe273a6df60>"
      ]
     },
     "metadata": {},
     "output_type": "display_data"
    },
    {
     "data": {
      "text/plain": [
       "<matplotlib.figure.Figure at 0x7fe2295f6fd0>"
      ]
     },
     "metadata": {},
     "output_type": "display_data"
    },
    {
     "data": {
      "text/plain": [
       "<matplotlib.figure.Figure at 0x7fe229cc2438>"
      ]
     },
     "metadata": {},
     "output_type": "display_data"
    },
    {
     "data": {
      "text/plain": [
       "<matplotlib.figure.Figure at 0x7fe22a520f28>"
      ]
     },
     "metadata": {},
     "output_type": "display_data"
    },
    {
     "data": {
      "text/plain": [
       "<matplotlib.figure.Figure at 0x7fe229874c50>"
      ]
     },
     "metadata": {},
     "output_type": "display_data"
    },
    {
     "data": {
      "text/plain": [
       "<matplotlib.figure.Figure at 0x7fe294123b00>"
      ]
     },
     "metadata": {},
     "output_type": "display_data"
    },
    {
     "data": {
      "text/plain": [
       "<matplotlib.figure.Figure at 0x7fe229c45c18>"
      ]
     },
     "metadata": {},
     "output_type": "display_data"
    }
   ],
   "source": [
    "# Launch the graph\n",
    "saver = tf.train.Saver()\n",
    "run=time.strftime(\"%Y%m%d\") + '_' + time.strftime(\"%H%M%S\")\n",
    "\n",
    "start1 = time.clock()\n",
    "training_iters=0\n",
    "training_iters_timing=0\n",
    "saving_iter=0\n",
    "\n",
    "# Calculate accuracy for 128 mnist test images\n",
    "\n",
    "#eval_labels,eval_prep = convert_retro(eval_labels,eval_prep)\n",
    "\n",
    "test_data = eval_data.reshape((-1, n_steps, n_input))\n",
    "test_label = eval_labels\n",
    "test_time=eval_time\n",
    "test_rho=eval_prep\n",
    "\n",
    "test_data_retro = eval_data_retro.reshape((-1, n_steps, n_input))\n",
    "test_time_retro=eval_time\n",
    "test_label_retro,test_rho_retro = convert_retro(test_label,test_rho)\n",
    "\n",
    "\n",
    "dropout_batch=0.3\n",
    "\n",
    "#sess = tf.Session(config=tf.ConfigProto(log_device_placement=True))\n",
    "error_tot=[]\n",
    "error_totX=[]\n",
    "error_totY=[]\n",
    "error_totZ=[]\n",
    "loss_tot=[]\n",
    "loss_regul_tot=[]\n",
    "loss_cross_entropy_tot=[]\n",
    "entropy=[]\n",
    "\n",
    "error_tot_retro=[]\n",
    "error_totX_retro=[]\n",
    "error_totY_retro=[]\n",
    "error_totZ_retro=[]\n",
    "loss_tot_retro=[]\n",
    "entropy_retro=[]\n",
    "\n",
    "iter_tot=[]\n",
    "LR_tot=[]\n",
    "loss_training=[]\n",
    "loss_training_tot=[]\n",
    "loss_training_retro=[]\n",
    "loss_training_retro_tot=[]\n",
    "\n",
    "#LR_schedule=[0.01,0.003,0.001,0.001,0.0003,0.0003,0.0001]\n",
    "#regularization_schedule=[1.,1.,1.,1.,0.5,0.00,0.00]\n",
    "\n",
    "R_schedule=[0.001,0.0003,0.0001]\n",
    "Dropout_schedule=[0.3,0.3,0.3]\n",
    "regularization_schedule=[1.,.5,0.]\n",
    "\n",
    "\n",
    "#LR_schedule=[0.001,0.001]\n",
    "#Dropout_schedule=[0.3,0.00]\n",
    "\n",
    "\n",
    "starting_model=False\n",
    "restore_previous_model=False\n",
    "shuffledata=True\n",
    "generate_mixedstates_pred=False\n",
    "generate_mixedstates_retro=False\n",
    "loading_retro_pred=False\n",
    "\n",
    "\n",
    "with tf.Session() as sess:\n",
    "    \n",
    "    sess.run(init)\n",
    "    \n",
    "    if loading_retro_pred:\n",
    "        var_list= tf.get_collection(tf.GraphKeys.GLOBAL_VARIABLES, scope=\"rnn_prediction\")\n",
    "        saver_prediction = tf.train.Saver(var_list)\n",
    "\n",
    "        var_list= tf.get_collection(tf.GraphKeys.GLOBAL_VARIABLES, scope=\"rnn_retrodiction\")\n",
    "        saver_retrodiction = tf.train.Saver(var_list)\n",
    "\n",
    "        saver_prediction.restore(sess, logs_path+init_model)\n",
    "        saver_retrodiction.restore(sess, logs_path+init_model)\n",
    "    elif starting_model:\n",
    "        saver.restore(sess, logs_path+init_model)\n",
    "        print(\"Starting Model restored.\")\n",
    "    elif restore_previous_model:\n",
    "        saver.restore(sess, logs_path+model_name)\n",
    "        print(\"Model restored.\")\n",
    "    \n",
    "    summary_writer = tf.summary.FileWriter('%s_James_is_nice_%s' % (logs_path, run), graph=tf.get_default_graph())\n",
    "    \n",
    "    # Keep training until reach max iterations\n",
    "    \n",
    "    for epoch in np.arange(training_epochs):\n",
    "        \n",
    "        dropout_batch=Dropout_schedule[epoch]\n",
    "        sess.run(learning_rate.assign(LR_schedule[epoch]))\n",
    "        sess.run(regularization.assign(regularization_schedule[epoch]))\n",
    "        \n",
    "        #if epoch%5==0:\n",
    "        #    training_iters=0\n",
    "        if shuffledata:\n",
    "            file_list=np.random.permutation(file_list)\n",
    "    \n",
    "\n",
    "        for n_file in np.arange(Neval,Nfile_tot):\n",
    "\n",
    "            step = 1\n",
    "\n",
    "            train_data,_,train_labels,train_time,train_prep = load_prepdata(file_list[n_file],1,time_list,thresholds,n_wait,nshift,shuffledata,filename_start,file_list,plothist=False,plotgraphs=False)\n",
    "            #train_time_retro=train_time\n",
    "            train_labels_retro,train_prep_retro = convert_retro(train_labels,train_prep)\n",
    "\n",
    "            if generate_mixedstates_pred:\n",
    "                #train_data_retro,train_labels_retro,train_time_retro,train_prep_retro = mixed_state_generator(train_data_retro,train_labels_retro,train_time,train_prep_retro)\n",
    "                \n",
    "                train_data,train_labels,train_time,train_prep,train_prep_actual = mixed_state_generator(train_data,train_labels,train_time,train_prep)\n",
    "                train_labels_retro,train_prep_retro = convert_retro(train_labels,train_prep_actual)\n",
    "                \n",
    "            if generate_mixedstates_retro:\n",
    "                train_labels_retro,train_prep_retro = convert_retro(train_labels,train_prep_actual)\n",
    "                train_data,train_labels_retro,train_time,train_prep_retro,train_prep_retro_actual = mixed_state_generator(train_data,train_labels_retro,train_time,train_prep_retro)\n",
    "                train_labels,train_prep = convert_retro(train_labels_retro,train_prep_retro_actual)\n",
    "\n",
    "\n",
    "            while step * batch_size < train_data.shape[0]:\n",
    "\n",
    "                batch_x=train_data[(step-1) * batch_size:step * batch_size]\n",
    "                batch_t=train_time[(step-1) * batch_size:step * batch_size]\n",
    "\n",
    "                batch_y_pred=train_labels[(step-1) * batch_size:step * batch_size]\n",
    "                batch_rho_pred=train_prep[(step-1) * batch_size:step * batch_size]\n",
    "                \n",
    "                batch_y_retro=train_labels_retro[(step-1) * batch_size:step * batch_size]\n",
    "                batch_rho_retro=train_prep_retro[(step-1) * batch_size:step * batch_size]*0.+0.5\n",
    "\n",
    "                #batch_t_retro=train_time_retro[(step-1) * batch_size:step * batch_size]\n",
    "\n",
    "                \n",
    "                training_iters += batch_x.shape[0]\n",
    "\n",
    "                sess.run(iteration.assign(training_iters)) \n",
    "\n",
    "                # Reshape data to get 28 seq of 28 elements\n",
    "                batch_x = batch_x.reshape((-1, n_steps, n_input))\n",
    "\n",
    "                # Run optimization op (backprop)\n",
    "                _,_,loss_tmp,loss_retro_tmp,summary=sess.run([optimizer_pred,optimizer_retro,cost_pred,cost_retro,merged_summary_op],feed_dict={\n",
    "                                                                                x: batch_x,\n",
    "                                                                                t: batch_t,\n",
    "                                                                                y_pred: batch_y_pred,\n",
    "                                                                                rho_pred: batch_rho_pred,\n",
    "                                                                                y_retro: batch_y_retro,\n",
    "                                                                                rho_retro: batch_rho_retro,\n",
    "                                                                                dropout: dropout_batch\n",
    "                                                                               })\n",
    "\n",
    "                summary_writer.add_summary(summary, step * batch_size+n_file*training_iters)\n",
    "\n",
    "                loss_training.append(loss_tmp)\n",
    "                loss_training_retro.append(loss_retro_tmp)\n",
    "                \n",
    "                step += 1\n",
    "                \n",
    "                \n",
    "            if n_file % display_file == 0:\n",
    "                \n",
    "                # Calculate batch accuracy\n",
    "                stop1 = time.clock()\n",
    "                training_iters_timing_diff=training_iters-training_iters_timing\n",
    "                training_iters_timing=training_iters\n",
    "                start = time.clock()\n",
    "\n",
    "                #traj_tomo,loss,loss_cross_entropy,loss_regul=sess.run([pred,cost,cross_entropy,regul_smooth], feed_dict={x: test_data, y: test_label,t:test_time, rho:test_rho})\n",
    "                #traj_tomo,loss=get_traj(test_data,test_label,test_time,test_rho,batch_size*2)\n",
    "\n",
    "                traj_tomo,traj_retro,loss,loss_retro=get_traj_pred_retro(test_data, test_label, test_time, test_rho,\n",
    "                                         test_data_retro,test_label_retro,test_time_retro,test_rho_retro,batch_size*4)\n",
    "\n",
    "\n",
    "                error,x_tot,y_tot,z_tot=accuracy_tomo(traj_tomo, test_label,  N=31)\n",
    "                acc=error.sum()\n",
    "\n",
    "                error_retro,x_tot_retro,y_tot_retro,z_tot_retro=accuracy_tomo(traj_retro, test_label_retro,  N=31)\n",
    "                acc_retro=error_retro.sum()\n",
    "\n",
    "\n",
    "                sess.run(accuracy.assign(acc))\n",
    "                LR=sess.run(learning_rate)\n",
    "\n",
    "                iter_tot.append(training_iters)\n",
    "\n",
    "                error_tot.append(acc)\n",
    "                error_totX.append(error[0])\n",
    "                error_totY.append(error[1])\n",
    "                error_totZ.append(error[2])\n",
    "\n",
    "                error_tot_retro.append(acc_retro)\n",
    "                error_totX_retro.append(error_retro[0])\n",
    "                error_totY_retro.append(error_retro[1])\n",
    "                error_totZ_retro.append(error_retro[2])\n",
    "\n",
    "                LR_tot.append(LR)\n",
    "                loss_tot.append(loss)\n",
    "                loss_tot_retro.append(loss_retro)\n",
    "\n",
    "                entropy.append((-traj_tomo*np.log(traj_tomo)-(1-traj_tomo)*np.log(1-traj_tomo)).mean()/3.)    \n",
    "                entropy_retro.append((-traj_retro*np.log(traj_retro)-(1-traj_retro)*np.log(1-traj_retro)).mean()/3.)    \n",
    "\n",
    "                loss_training_mean=np.array(loss_training).mean()\n",
    "                loss_training_retro_mean=np.array(loss_training_retro).mean()\n",
    "\n",
    "\n",
    "                loss_training=[]\n",
    "                loss_training_tot.append(loss_training_mean)\n",
    "                loss_training_retro_tot.append(loss_training_retro_mean)\n",
    "\n",
    "\n",
    "                plot_report(iter_tot,x_tot,y_tot,z_tot,error_tot,error_totX,error_totY,error_totZ,\n",
    "                               traj_tomo,\n",
    "                               loss_tot,loss_training_tot,entropy)\n",
    "\n",
    "                display.clear_output(wait=True)\n",
    "                display.display(plt.gcf())\n",
    "                plt.gcf().clear()\n",
    "\n",
    "\n",
    "                plot_report(iter_tot,x_tot_retro,y_tot_retro,z_tot_retro,error_tot_retro,error_totX_retro,error_totY_retro,error_totZ_retro,\n",
    "                               traj_retro,\n",
    "                               loss_tot_retro,loss_training_retro_tot,entropy_retro)\n",
    "\n",
    "\n",
    "                display.display(plt.gcf())\n",
    "\n",
    "                plt.gcf().clear()\n",
    "\n",
    "\n",
    "                stop = time.clock()\n",
    "\n",
    "                print(\"train time \"+\"{:.3f}\".format(stop1-start1)+\" eval time \"+\"{:.3f}\".format(stop-start))\n",
    "                print(\"time per iter \"+\"{:.3f}\".format((stop1-start1)/training_iters_timing_diff*1000.)+\" ms\")\n",
    "\n",
    "                # Calculate batch loss\n",
    "                print( \"Iter \" + str(sess.run(iteration)) + \\\n",
    "                      \", Minibatch Loss= \" + \"{:.6f}\".format(loss) + \\\n",
    "                      \", Training Accuracy= \"+\"{:.6f}\".format(sess.run(accuracy)))\n",
    "                print(error)\n",
    "                print( \"Learning Rate \"+str(sess.run(learning_rate)))\n",
    "                print( str(n_file-Neval)+\" loaded files on \"+str(Nfile_tot-Neval)+\" - epoch \"+str(epoch))\n",
    "\n",
    "                print( \"model_saved at iter \"+str(saving_iter))\n",
    "\n",
    "                saving_iter=sess.run(iteration)\n",
    "                save_path = saver.save(sess, logs_path+model_name)\n",
    "                print(\"Model saved in file: %s\" % save_path)\n",
    "\n",
    "\n",
    "                start1 = time.clock()\n",
    "\n",
    "\n",
    "\n",
    "                \n",
    "        saving_iter=sess.run(iteration)\n",
    "        save_path = saver.save(sess, logs_path+model_name)\n",
    "        print(\"Model saved in file: %s\" % save_path)\n",
    "\n",
    "                \n",
    "    print (\"Optimization Finished!\")"
   ]
  },
  {
   "cell_type": "markdown",
   "metadata": {},
   "source": [
    "# Run tomography from RNN training"
   ]
  },
  {
   "cell_type": "code",
   "execution_count": 23,
   "metadata": {},
   "outputs": [
    {
     "name": "stdout",
     "output_type": "stream",
     "text": [
      "data/AllPreps/InsaneRabi_PrepGround28.h5 loaded\n",
      "data/AllPreps/InsaneRabi_PrepPio228.h5 loaded\n",
      "data/AllPreps/InsaneRabi_PrepPi28.h5 loaded\n",
      "data/AllPreps/InsaneRabi_Prep3Pio228.h5 loaded\n",
      "data/AllPreps/InsaneRabi_PrepPio2ZeroPhase28.h5 loaded\n",
      "data/AllPreps/InsaneRabi_PrepPio2PiPhase28.h5 loaded\n",
      "data/AllPreps/InsaneRabi_PrepGround43.h5 loaded\n",
      "data/AllPreps/InsaneRabi_PrepPio243.h5 loaded\n",
      "data/AllPreps/InsaneRabi_PrepPi43.h5 loaded\n",
      "data/AllPreps/InsaneRabi_Prep3Pio243.h5 loaded\n",
      "data/AllPreps/InsaneRabi_PrepPio2ZeroPhase43.h5 loaded\n",
      "data/AllPreps/InsaneRabi_PrepPio2PiPhase43.h5 loaded\n",
      "data/AllPreps/InsaneRabi_PrepGround37.h5 loaded\n",
      "data/AllPreps/InsaneRabi_PrepPio237.h5 loaded\n",
      "data/AllPreps/InsaneRabi_PrepPi37.h5 loaded\n",
      "data/AllPreps/InsaneRabi_Prep3Pio237.h5 loaded\n",
      "data/AllPreps/InsaneRabi_PrepPio2ZeroPhase37.h5 loaded\n",
      "data/AllPreps/InsaneRabi_PrepPio2PiPhase37.h5 loaded\n",
      "data/AllPreps/InsaneRabi_PrepGround9.h5 loaded\n",
      "data/AllPreps/InsaneRabi_PrepPio29.h5 loaded\n",
      "data/AllPreps/InsaneRabi_PrepPi9.h5 loaded\n",
      "data/AllPreps/InsaneRabi_Prep3Pio29.h5 loaded\n",
      "data/AllPreps/InsaneRabi_PrepPio2ZeroPhase9.h5 loaded\n",
      "data/AllPreps/InsaneRabi_PrepPio2PiPhase9.h5 loaded\n",
      "data/AllPreps/InsaneRabi_PrepGround39.h5 loaded\n",
      "data/AllPreps/InsaneRabi_PrepPio239.h5 loaded\n",
      "data/AllPreps/InsaneRabi_PrepPi39.h5 loaded\n",
      "data/AllPreps/InsaneRabi_Prep3Pio239.h5 loaded\n",
      "data/AllPreps/InsaneRabi_PrepPio2ZeroPhase39.h5 loaded\n",
      "data/AllPreps/InsaneRabi_PrepPio2PiPhase39.h5 loaded\n",
      "data/AllPreps/InsaneRabi_PrepGround33.h5 loaded\n",
      "data/AllPreps/InsaneRabi_PrepPio233.h5 loaded\n",
      "data/AllPreps/InsaneRabi_PrepPi33.h5 loaded\n",
      "data/AllPreps/InsaneRabi_Prep3Pio233.h5 loaded\n",
      "data/AllPreps/InsaneRabi_PrepPio2ZeroPhase33.h5 loaded\n",
      "data/AllPreps/InsaneRabi_PrepPio2PiPhase33.h5 loaded\n",
      "data/AllPreps/InsaneRabi_PrepGround15.h5 loaded\n",
      "data/AllPreps/InsaneRabi_PrepPio215.h5 loaded\n",
      "data/AllPreps/InsaneRabi_PrepPi15.h5 loaded\n",
      "data/AllPreps/InsaneRabi_Prep3Pio215.h5 loaded\n",
      "data/AllPreps/InsaneRabi_PrepPio2ZeroPhase15.h5 loaded\n",
      "data/AllPreps/InsaneRabi_PrepPio2PiPhase15.h5 loaded\n",
      "data/AllPreps/InsaneRabi_PrepGround26.h5 loaded\n",
      "data/AllPreps/InsaneRabi_PrepPio226.h5 loaded\n",
      "data/AllPreps/InsaneRabi_PrepPi26.h5 loaded\n",
      "data/AllPreps/InsaneRabi_Prep3Pio226.h5 loaded\n",
      "data/AllPreps/InsaneRabi_PrepPio2ZeroPhase26.h5 loaded\n",
      "data/AllPreps/InsaneRabi_PrepPio2PiPhase26.h5 loaded\n",
      "data/AllPreps/InsaneRabi_PrepGround1.h5 loaded\n",
      "data/AllPreps/InsaneRabi_PrepPio21.h5 loaded\n",
      "data/AllPreps/InsaneRabi_PrepPi1.h5 loaded\n",
      "data/AllPreps/InsaneRabi_Prep3Pio21.h5 loaded\n",
      "data/AllPreps/InsaneRabi_PrepPio2ZeroPhase1.h5 loaded\n",
      "data/AllPreps/InsaneRabi_PrepPio2PiPhase1.h5 loaded\n",
      "data/AllPreps/InsaneRabi_PrepGround12.h5 loaded\n",
      "data/AllPreps/InsaneRabi_PrepPio212.h5 loaded\n",
      "data/AllPreps/InsaneRabi_PrepPi12.h5 loaded\n",
      "data/AllPreps/InsaneRabi_Prep3Pio212.h5 loaded\n",
      "data/AllPreps/InsaneRabi_PrepPio2ZeroPhase12.h5 loaded\n",
      "data/AllPreps/InsaneRabi_PrepPio2PiPhase12.h5 loaded\n"
     ]
    }
   ],
   "source": [
    "Neval=10\n",
    "\n",
    "train_data,train_data_retro,train_labels,train_time,train_prep = load_prepdata(0,Neval,time_list,thresholds,n_wait,nshift,shuffledata,filename_start,file_list,plothist=False,plotgraphs=False)\n",
    "train_labels_retro,train_prep_retro = convert_retro(train_labels,train_prep)\n",
    "train_time_retro=train_time"
   ]
  },
  {
   "cell_type": "code",
   "execution_count": 24,
   "metadata": {
    "scrolled": false
   },
   "outputs": [
    {
     "name": "stdout",
     "output_type": "stream",
     "text": [
      "INFO:tensorflow:Restoring parameters from model/prediction_retrodiction/prediction_retrodiction_tomo_dropout_32HS_v1\n"
     ]
    },
    {
     "ename": "NotFoundError",
     "evalue": "Key bi_rnn/bidirectional_rnn/bw/multi_rnn_cell/cell_0/basic_lstm_cell/bias not found in checkpoint\n\t [[Node: save_1/RestoreV2_25 = RestoreV2[dtypes=[DT_FLOAT], _device=\"/job:localhost/replica:0/task:0/device:CPU:0\"](_arg_save_1/Const_0_0, save_1/RestoreV2_25/tensor_names, save_1/RestoreV2_25/shape_and_slices)]]\n\nCaused by op 'save_1/RestoreV2_25', defined at:\n  File \"/home/qnl/miniconda3/envs/idp/lib/python3.6/runpy.py\", line 193, in _run_module_as_main\n    \"__main__\", mod_spec)\n  File \"/home/qnl/miniconda3/envs/idp/lib/python3.6/runpy.py\", line 85, in _run_code\n    exec(code, run_globals)\n  File \"/home/qnl/miniconda3/envs/idp/lib/python3.6/site-packages/ipykernel_launcher.py\", line 16, in <module>\n    app.launch_new_instance()\n  File \"/home/qnl/miniconda3/envs/idp/lib/python3.6/site-packages/traitlets/config/application.py\", line 658, in launch_instance\n    app.start()\n  File \"/home/qnl/miniconda3/envs/idp/lib/python3.6/site-packages/ipykernel/kernelapp.py\", line 477, in start\n    ioloop.IOLoop.instance().start()\n  File \"/home/qnl/miniconda3/envs/idp/lib/python3.6/site-packages/zmq/eventloop/ioloop.py\", line 177, in start\n    super(ZMQIOLoop, self).start()\n  File \"/home/qnl/miniconda3/envs/idp/lib/python3.6/site-packages/tornado/ioloop.py\", line 888, in start\n    handler_func(fd_obj, events)\n  File \"/home/qnl/miniconda3/envs/idp/lib/python3.6/site-packages/tornado/stack_context.py\", line 277, in null_wrapper\n    return fn(*args, **kwargs)\n  File \"/home/qnl/miniconda3/envs/idp/lib/python3.6/site-packages/zmq/eventloop/zmqstream.py\", line 440, in _handle_events\n    self._handle_recv()\n  File \"/home/qnl/miniconda3/envs/idp/lib/python3.6/site-packages/zmq/eventloop/zmqstream.py\", line 472, in _handle_recv\n    self._run_callback(callback, msg)\n  File \"/home/qnl/miniconda3/envs/idp/lib/python3.6/site-packages/zmq/eventloop/zmqstream.py\", line 414, in _run_callback\n    callback(*args, **kwargs)\n  File \"/home/qnl/miniconda3/envs/idp/lib/python3.6/site-packages/tornado/stack_context.py\", line 277, in null_wrapper\n    return fn(*args, **kwargs)\n  File \"/home/qnl/miniconda3/envs/idp/lib/python3.6/site-packages/ipykernel/kernelbase.py\", line 283, in dispatcher\n    return self.dispatch_shell(stream, msg)\n  File \"/home/qnl/miniconda3/envs/idp/lib/python3.6/site-packages/ipykernel/kernelbase.py\", line 235, in dispatch_shell\n    handler(stream, idents, msg)\n  File \"/home/qnl/miniconda3/envs/idp/lib/python3.6/site-packages/ipykernel/kernelbase.py\", line 399, in execute_request\n    user_expressions, allow_stdin)\n  File \"/home/qnl/miniconda3/envs/idp/lib/python3.6/site-packages/ipykernel/ipkernel.py\", line 196, in do_execute\n    res = shell.run_cell(code, store_history=store_history, silent=silent)\n  File \"/home/qnl/miniconda3/envs/idp/lib/python3.6/site-packages/ipykernel/zmqshell.py\", line 533, in run_cell\n    return super(ZMQInteractiveShell, self).run_cell(*args, **kwargs)\n  File \"/home/qnl/miniconda3/envs/idp/lib/python3.6/site-packages/IPython/core/interactiveshell.py\", line 2698, in run_cell\n    interactivity=interactivity, compiler=compiler, result=result)\n  File \"/home/qnl/miniconda3/envs/idp/lib/python3.6/site-packages/IPython/core/interactiveshell.py\", line 2802, in run_ast_nodes\n    if self.run_code(code, result):\n  File \"/home/qnl/miniconda3/envs/idp/lib/python3.6/site-packages/IPython/core/interactiveshell.py\", line 2862, in run_code\n    exec(code_obj, self.user_global_ns, self.user_ns)\n  File \"<ipython-input-24-75e696280e6c>\", line 12, in <module>\n    saver = tf.train.Saver()\n  File \"/home/qnl/miniconda3/envs/idp/lib/python3.6/site-packages/tensorflow/python/training/saver.py\", line 1233, in __init__\n    self.build()\n  File \"/home/qnl/miniconda3/envs/idp/lib/python3.6/site-packages/tensorflow/python/training/saver.py\", line 1242, in build\n    self._build(self._filename, build_save=True, build_restore=True)\n  File \"/home/qnl/miniconda3/envs/idp/lib/python3.6/site-packages/tensorflow/python/training/saver.py\", line 1278, in _build\n    build_save=build_save, build_restore=build_restore)\n  File \"/home/qnl/miniconda3/envs/idp/lib/python3.6/site-packages/tensorflow/python/training/saver.py\", line 759, in _build_internal\n    restore_sequentially, reshape)\n  File \"/home/qnl/miniconda3/envs/idp/lib/python3.6/site-packages/tensorflow/python/training/saver.py\", line 428, in _AddRestoreOps\n    tensors = self.restore_op(filename_tensor, saveable, preferred_shard)\n  File \"/home/qnl/miniconda3/envs/idp/lib/python3.6/site-packages/tensorflow/python/training/saver.py\", line 268, in restore_op\n    [spec.tensor.dtype])[0])\n  File \"/home/qnl/miniconda3/envs/idp/lib/python3.6/site-packages/tensorflow/python/ops/gen_io_ops.py\", line 1021, in restore_v2\n    shape_and_slices=shape_and_slices, dtypes=dtypes, name=name)\n  File \"/home/qnl/miniconda3/envs/idp/lib/python3.6/site-packages/tensorflow/python/framework/op_def_library.py\", line 787, in _apply_op_helper\n    op_def=op_def)\n  File \"/home/qnl/miniconda3/envs/idp/lib/python3.6/site-packages/tensorflow/python/framework/ops.py\", line 3042, in create_op\n    op_def=op_def)\n  File \"/home/qnl/miniconda3/envs/idp/lib/python3.6/site-packages/tensorflow/python/framework/ops.py\", line 1521, in __init__\n    self._traceback = self._graph._extract_stack()  # pylint: disable=protected-access\n\nNotFoundError (see above for traceback): Key bi_rnn/bidirectional_rnn/bw/multi_rnn_cell/cell_0/basic_lstm_cell/bias not found in checkpoint\n\t [[Node: save_1/RestoreV2_25 = RestoreV2[dtypes=[DT_FLOAT], _device=\"/job:localhost/replica:0/task:0/device:CPU:0\"](_arg_save_1/Const_0_0, save_1/RestoreV2_25/tensor_names, save_1/RestoreV2_25/shape_and_slices)]]\n",
     "output_type": "error",
     "traceback": [
      "\u001b[0;31m---------------------------------------------------------------------------\u001b[0m",
      "\u001b[0;31mNotFoundError\u001b[0m                             Traceback (most recent call last)",
      "\u001b[0;32m~/miniconda3/envs/idp/lib/python3.6/site-packages/tensorflow/python/client/session.py\u001b[0m in \u001b[0;36m_do_call\u001b[0;34m(self, fn, *args)\u001b[0m\n\u001b[1;32m   1322\u001b[0m     \u001b[0;32mtry\u001b[0m\u001b[0;34m:\u001b[0m\u001b[0;34m\u001b[0m\u001b[0m\n\u001b[0;32m-> 1323\u001b[0;31m       \u001b[0;32mreturn\u001b[0m \u001b[0mfn\u001b[0m\u001b[0;34m(\u001b[0m\u001b[0;34m*\u001b[0m\u001b[0margs\u001b[0m\u001b[0;34m)\u001b[0m\u001b[0;34m\u001b[0m\u001b[0m\n\u001b[0m\u001b[1;32m   1324\u001b[0m     \u001b[0;32mexcept\u001b[0m \u001b[0merrors\u001b[0m\u001b[0;34m.\u001b[0m\u001b[0mOpError\u001b[0m \u001b[0;32mas\u001b[0m \u001b[0me\u001b[0m\u001b[0;34m:\u001b[0m\u001b[0;34m\u001b[0m\u001b[0m\n",
      "\u001b[0;32m~/miniconda3/envs/idp/lib/python3.6/site-packages/tensorflow/python/client/session.py\u001b[0m in \u001b[0;36m_run_fn\u001b[0;34m(session, feed_dict, fetch_list, target_list, options, run_metadata)\u001b[0m\n\u001b[1;32m   1301\u001b[0m                                    \u001b[0mfeed_dict\u001b[0m\u001b[0;34m,\u001b[0m \u001b[0mfetch_list\u001b[0m\u001b[0;34m,\u001b[0m \u001b[0mtarget_list\u001b[0m\u001b[0;34m,\u001b[0m\u001b[0;34m\u001b[0m\u001b[0m\n\u001b[0;32m-> 1302\u001b[0;31m                                    status, run_metadata)\n\u001b[0m\u001b[1;32m   1303\u001b[0m \u001b[0;34m\u001b[0m\u001b[0m\n",
      "\u001b[0;32m~/miniconda3/envs/idp/lib/python3.6/site-packages/tensorflow/python/framework/errors_impl.py\u001b[0m in \u001b[0;36m__exit__\u001b[0;34m(self, type_arg, value_arg, traceback_arg)\u001b[0m\n\u001b[1;32m    472\u001b[0m             \u001b[0mcompat\u001b[0m\u001b[0;34m.\u001b[0m\u001b[0mas_text\u001b[0m\u001b[0;34m(\u001b[0m\u001b[0mc_api\u001b[0m\u001b[0;34m.\u001b[0m\u001b[0mTF_Message\u001b[0m\u001b[0;34m(\u001b[0m\u001b[0mself\u001b[0m\u001b[0;34m.\u001b[0m\u001b[0mstatus\u001b[0m\u001b[0;34m.\u001b[0m\u001b[0mstatus\u001b[0m\u001b[0;34m)\u001b[0m\u001b[0;34m)\u001b[0m\u001b[0;34m,\u001b[0m\u001b[0;34m\u001b[0m\u001b[0m\n\u001b[0;32m--> 473\u001b[0;31m             c_api.TF_GetCode(self.status.status))\n\u001b[0m\u001b[1;32m    474\u001b[0m     \u001b[0;31m# Delete the underlying status object from memory otherwise it stays alive\u001b[0m\u001b[0;34m\u001b[0m\u001b[0;34m\u001b[0m\u001b[0m\n",
      "\u001b[0;31mNotFoundError\u001b[0m: Key bi_rnn/bidirectional_rnn/bw/multi_rnn_cell/cell_0/basic_lstm_cell/bias not found in checkpoint\n\t [[Node: save_1/RestoreV2_25 = RestoreV2[dtypes=[DT_FLOAT], _device=\"/job:localhost/replica:0/task:0/device:CPU:0\"](_arg_save_1/Const_0_0, save_1/RestoreV2_25/tensor_names, save_1/RestoreV2_25/shape_and_slices)]]",
      "\nDuring handling of the above exception, another exception occurred:\n",
      "\u001b[0;31mNotFoundError\u001b[0m                             Traceback (most recent call last)",
      "\u001b[0;32m<ipython-input-24-75e696280e6c>\u001b[0m in \u001b[0;36m<module>\u001b[0;34m()\u001b[0m\n\u001b[1;32m     12\u001b[0m     \u001b[0msaver\u001b[0m \u001b[0;34m=\u001b[0m \u001b[0mtf\u001b[0m\u001b[0;34m.\u001b[0m\u001b[0mtrain\u001b[0m\u001b[0;34m.\u001b[0m\u001b[0mSaver\u001b[0m\u001b[0;34m(\u001b[0m\u001b[0;34m)\u001b[0m\u001b[0;34m\u001b[0m\u001b[0m\n\u001b[1;32m     13\u001b[0m \u001b[0;34m\u001b[0m\u001b[0m\n\u001b[0;32m---> 14\u001b[0;31m     \u001b[0msaver\u001b[0m\u001b[0;34m.\u001b[0m\u001b[0mrestore\u001b[0m\u001b[0;34m(\u001b[0m\u001b[0msess\u001b[0m\u001b[0;34m,\u001b[0m \u001b[0mlogs_path\u001b[0m\u001b[0;34m+\u001b[0m\u001b[0minit_model\u001b[0m\u001b[0;34m)\u001b[0m\u001b[0;34m\u001b[0m\u001b[0m\n\u001b[0m\u001b[1;32m     15\u001b[0m     \u001b[0;31m#saver_retrodiction.restore(sess, logs_path+init_model)\u001b[0m\u001b[0;34m\u001b[0m\u001b[0;34m\u001b[0m\u001b[0m\n\u001b[1;32m     16\u001b[0m \u001b[0;34m\u001b[0m\u001b[0m\n",
      "\u001b[0;32m~/miniconda3/envs/idp/lib/python3.6/site-packages/tensorflow/python/training/saver.py\u001b[0m in \u001b[0;36mrestore\u001b[0;34m(self, sess, save_path)\u001b[0m\n\u001b[1;32m   1678\u001b[0m     \u001b[0;32mif\u001b[0m \u001b[0mcontext\u001b[0m\u001b[0;34m.\u001b[0m\u001b[0min_graph_mode\u001b[0m\u001b[0;34m(\u001b[0m\u001b[0;34m)\u001b[0m\u001b[0;34m:\u001b[0m\u001b[0;34m\u001b[0m\u001b[0m\n\u001b[1;32m   1679\u001b[0m       sess.run(self.saver_def.restore_op_name,\n\u001b[0;32m-> 1680\u001b[0;31m                {self.saver_def.filename_tensor_name: save_path})\n\u001b[0m\u001b[1;32m   1681\u001b[0m     \u001b[0;32melse\u001b[0m\u001b[0;34m:\u001b[0m\u001b[0;34m\u001b[0m\u001b[0m\n\u001b[1;32m   1682\u001b[0m       \u001b[0mself\u001b[0m\u001b[0;34m.\u001b[0m\u001b[0m_build_eager\u001b[0m\u001b[0;34m(\u001b[0m\u001b[0msave_path\u001b[0m\u001b[0;34m,\u001b[0m \u001b[0mbuild_save\u001b[0m\u001b[0;34m=\u001b[0m\u001b[0;32mFalse\u001b[0m\u001b[0;34m,\u001b[0m \u001b[0mbuild_restore\u001b[0m\u001b[0;34m=\u001b[0m\u001b[0;32mTrue\u001b[0m\u001b[0;34m)\u001b[0m\u001b[0;34m\u001b[0m\u001b[0m\n",
      "\u001b[0;32m~/miniconda3/envs/idp/lib/python3.6/site-packages/tensorflow/python/client/session.py\u001b[0m in \u001b[0;36mrun\u001b[0;34m(self, fetches, feed_dict, options, run_metadata)\u001b[0m\n\u001b[1;32m    887\u001b[0m     \u001b[0;32mtry\u001b[0m\u001b[0;34m:\u001b[0m\u001b[0;34m\u001b[0m\u001b[0m\n\u001b[1;32m    888\u001b[0m       result = self._run(None, fetches, feed_dict, options_ptr,\n\u001b[0;32m--> 889\u001b[0;31m                          run_metadata_ptr)\n\u001b[0m\u001b[1;32m    890\u001b[0m       \u001b[0;32mif\u001b[0m \u001b[0mrun_metadata\u001b[0m\u001b[0;34m:\u001b[0m\u001b[0;34m\u001b[0m\u001b[0m\n\u001b[1;32m    891\u001b[0m         \u001b[0mproto_data\u001b[0m \u001b[0;34m=\u001b[0m \u001b[0mtf_session\u001b[0m\u001b[0;34m.\u001b[0m\u001b[0mTF_GetBuffer\u001b[0m\u001b[0;34m(\u001b[0m\u001b[0mrun_metadata_ptr\u001b[0m\u001b[0;34m)\u001b[0m\u001b[0;34m\u001b[0m\u001b[0m\n",
      "\u001b[0;32m~/miniconda3/envs/idp/lib/python3.6/site-packages/tensorflow/python/client/session.py\u001b[0m in \u001b[0;36m_run\u001b[0;34m(self, handle, fetches, feed_dict, options, run_metadata)\u001b[0m\n\u001b[1;32m   1118\u001b[0m     \u001b[0;32mif\u001b[0m \u001b[0mfinal_fetches\u001b[0m \u001b[0;32mor\u001b[0m \u001b[0mfinal_targets\u001b[0m \u001b[0;32mor\u001b[0m \u001b[0;34m(\u001b[0m\u001b[0mhandle\u001b[0m \u001b[0;32mand\u001b[0m \u001b[0mfeed_dict_tensor\u001b[0m\u001b[0;34m)\u001b[0m\u001b[0;34m:\u001b[0m\u001b[0;34m\u001b[0m\u001b[0m\n\u001b[1;32m   1119\u001b[0m       results = self._do_run(handle, final_targets, final_fetches,\n\u001b[0;32m-> 1120\u001b[0;31m                              feed_dict_tensor, options, run_metadata)\n\u001b[0m\u001b[1;32m   1121\u001b[0m     \u001b[0;32melse\u001b[0m\u001b[0;34m:\u001b[0m\u001b[0;34m\u001b[0m\u001b[0m\n\u001b[1;32m   1122\u001b[0m       \u001b[0mresults\u001b[0m \u001b[0;34m=\u001b[0m \u001b[0;34m[\u001b[0m\u001b[0;34m]\u001b[0m\u001b[0;34m\u001b[0m\u001b[0m\n",
      "\u001b[0;32m~/miniconda3/envs/idp/lib/python3.6/site-packages/tensorflow/python/client/session.py\u001b[0m in \u001b[0;36m_do_run\u001b[0;34m(self, handle, target_list, fetch_list, feed_dict, options, run_metadata)\u001b[0m\n\u001b[1;32m   1315\u001b[0m     \u001b[0;32mif\u001b[0m \u001b[0mhandle\u001b[0m \u001b[0;32mis\u001b[0m \u001b[0;32mNone\u001b[0m\u001b[0;34m:\u001b[0m\u001b[0;34m\u001b[0m\u001b[0m\n\u001b[1;32m   1316\u001b[0m       return self._do_call(_run_fn, self._session, feeds, fetches, targets,\n\u001b[0;32m-> 1317\u001b[0;31m                            options, run_metadata)\n\u001b[0m\u001b[1;32m   1318\u001b[0m     \u001b[0;32melse\u001b[0m\u001b[0;34m:\u001b[0m\u001b[0;34m\u001b[0m\u001b[0m\n\u001b[1;32m   1319\u001b[0m       \u001b[0;32mreturn\u001b[0m \u001b[0mself\u001b[0m\u001b[0;34m.\u001b[0m\u001b[0m_do_call\u001b[0m\u001b[0;34m(\u001b[0m\u001b[0m_prun_fn\u001b[0m\u001b[0;34m,\u001b[0m \u001b[0mself\u001b[0m\u001b[0;34m.\u001b[0m\u001b[0m_session\u001b[0m\u001b[0;34m,\u001b[0m \u001b[0mhandle\u001b[0m\u001b[0;34m,\u001b[0m \u001b[0mfeeds\u001b[0m\u001b[0;34m,\u001b[0m \u001b[0mfetches\u001b[0m\u001b[0;34m)\u001b[0m\u001b[0;34m\u001b[0m\u001b[0m\n",
      "\u001b[0;32m~/miniconda3/envs/idp/lib/python3.6/site-packages/tensorflow/python/client/session.py\u001b[0m in \u001b[0;36m_do_call\u001b[0;34m(self, fn, *args)\u001b[0m\n\u001b[1;32m   1334\u001b[0m         \u001b[0;32mexcept\u001b[0m \u001b[0mKeyError\u001b[0m\u001b[0;34m:\u001b[0m\u001b[0;34m\u001b[0m\u001b[0m\n\u001b[1;32m   1335\u001b[0m           \u001b[0;32mpass\u001b[0m\u001b[0;34m\u001b[0m\u001b[0m\n\u001b[0;32m-> 1336\u001b[0;31m       \u001b[0;32mraise\u001b[0m \u001b[0mtype\u001b[0m\u001b[0;34m(\u001b[0m\u001b[0me\u001b[0m\u001b[0;34m)\u001b[0m\u001b[0;34m(\u001b[0m\u001b[0mnode_def\u001b[0m\u001b[0;34m,\u001b[0m \u001b[0mop\u001b[0m\u001b[0;34m,\u001b[0m \u001b[0mmessage\u001b[0m\u001b[0;34m)\u001b[0m\u001b[0;34m\u001b[0m\u001b[0m\n\u001b[0m\u001b[1;32m   1337\u001b[0m \u001b[0;34m\u001b[0m\u001b[0m\n\u001b[1;32m   1338\u001b[0m   \u001b[0;32mdef\u001b[0m \u001b[0m_extend_graph\u001b[0m\u001b[0;34m(\u001b[0m\u001b[0mself\u001b[0m\u001b[0;34m)\u001b[0m\u001b[0;34m:\u001b[0m\u001b[0;34m\u001b[0m\u001b[0m\n",
      "\u001b[0;31mNotFoundError\u001b[0m: Key bi_rnn/bidirectional_rnn/bw/multi_rnn_cell/cell_0/basic_lstm_cell/bias not found in checkpoint\n\t [[Node: save_1/RestoreV2_25 = RestoreV2[dtypes=[DT_FLOAT], _device=\"/job:localhost/replica:0/task:0/device:CPU:0\"](_arg_save_1/Const_0_0, save_1/RestoreV2_25/tensor_names, save_1/RestoreV2_25/shape_and_slices)]]\n\nCaused by op 'save_1/RestoreV2_25', defined at:\n  File \"/home/qnl/miniconda3/envs/idp/lib/python3.6/runpy.py\", line 193, in _run_module_as_main\n    \"__main__\", mod_spec)\n  File \"/home/qnl/miniconda3/envs/idp/lib/python3.6/runpy.py\", line 85, in _run_code\n    exec(code, run_globals)\n  File \"/home/qnl/miniconda3/envs/idp/lib/python3.6/site-packages/ipykernel_launcher.py\", line 16, in <module>\n    app.launch_new_instance()\n  File \"/home/qnl/miniconda3/envs/idp/lib/python3.6/site-packages/traitlets/config/application.py\", line 658, in launch_instance\n    app.start()\n  File \"/home/qnl/miniconda3/envs/idp/lib/python3.6/site-packages/ipykernel/kernelapp.py\", line 477, in start\n    ioloop.IOLoop.instance().start()\n  File \"/home/qnl/miniconda3/envs/idp/lib/python3.6/site-packages/zmq/eventloop/ioloop.py\", line 177, in start\n    super(ZMQIOLoop, self).start()\n  File \"/home/qnl/miniconda3/envs/idp/lib/python3.6/site-packages/tornado/ioloop.py\", line 888, in start\n    handler_func(fd_obj, events)\n  File \"/home/qnl/miniconda3/envs/idp/lib/python3.6/site-packages/tornado/stack_context.py\", line 277, in null_wrapper\n    return fn(*args, **kwargs)\n  File \"/home/qnl/miniconda3/envs/idp/lib/python3.6/site-packages/zmq/eventloop/zmqstream.py\", line 440, in _handle_events\n    self._handle_recv()\n  File \"/home/qnl/miniconda3/envs/idp/lib/python3.6/site-packages/zmq/eventloop/zmqstream.py\", line 472, in _handle_recv\n    self._run_callback(callback, msg)\n  File \"/home/qnl/miniconda3/envs/idp/lib/python3.6/site-packages/zmq/eventloop/zmqstream.py\", line 414, in _run_callback\n    callback(*args, **kwargs)\n  File \"/home/qnl/miniconda3/envs/idp/lib/python3.6/site-packages/tornado/stack_context.py\", line 277, in null_wrapper\n    return fn(*args, **kwargs)\n  File \"/home/qnl/miniconda3/envs/idp/lib/python3.6/site-packages/ipykernel/kernelbase.py\", line 283, in dispatcher\n    return self.dispatch_shell(stream, msg)\n  File \"/home/qnl/miniconda3/envs/idp/lib/python3.6/site-packages/ipykernel/kernelbase.py\", line 235, in dispatch_shell\n    handler(stream, idents, msg)\n  File \"/home/qnl/miniconda3/envs/idp/lib/python3.6/site-packages/ipykernel/kernelbase.py\", line 399, in execute_request\n    user_expressions, allow_stdin)\n  File \"/home/qnl/miniconda3/envs/idp/lib/python3.6/site-packages/ipykernel/ipkernel.py\", line 196, in do_execute\n    res = shell.run_cell(code, store_history=store_history, silent=silent)\n  File \"/home/qnl/miniconda3/envs/idp/lib/python3.6/site-packages/ipykernel/zmqshell.py\", line 533, in run_cell\n    return super(ZMQInteractiveShell, self).run_cell(*args, **kwargs)\n  File \"/home/qnl/miniconda3/envs/idp/lib/python3.6/site-packages/IPython/core/interactiveshell.py\", line 2698, in run_cell\n    interactivity=interactivity, compiler=compiler, result=result)\n  File \"/home/qnl/miniconda3/envs/idp/lib/python3.6/site-packages/IPython/core/interactiveshell.py\", line 2802, in run_ast_nodes\n    if self.run_code(code, result):\n  File \"/home/qnl/miniconda3/envs/idp/lib/python3.6/site-packages/IPython/core/interactiveshell.py\", line 2862, in run_code\n    exec(code_obj, self.user_global_ns, self.user_ns)\n  File \"<ipython-input-24-75e696280e6c>\", line 12, in <module>\n    saver = tf.train.Saver()\n  File \"/home/qnl/miniconda3/envs/idp/lib/python3.6/site-packages/tensorflow/python/training/saver.py\", line 1233, in __init__\n    self.build()\n  File \"/home/qnl/miniconda3/envs/idp/lib/python3.6/site-packages/tensorflow/python/training/saver.py\", line 1242, in build\n    self._build(self._filename, build_save=True, build_restore=True)\n  File \"/home/qnl/miniconda3/envs/idp/lib/python3.6/site-packages/tensorflow/python/training/saver.py\", line 1278, in _build\n    build_save=build_save, build_restore=build_restore)\n  File \"/home/qnl/miniconda3/envs/idp/lib/python3.6/site-packages/tensorflow/python/training/saver.py\", line 759, in _build_internal\n    restore_sequentially, reshape)\n  File \"/home/qnl/miniconda3/envs/idp/lib/python3.6/site-packages/tensorflow/python/training/saver.py\", line 428, in _AddRestoreOps\n    tensors = self.restore_op(filename_tensor, saveable, preferred_shard)\n  File \"/home/qnl/miniconda3/envs/idp/lib/python3.6/site-packages/tensorflow/python/training/saver.py\", line 268, in restore_op\n    [spec.tensor.dtype])[0])\n  File \"/home/qnl/miniconda3/envs/idp/lib/python3.6/site-packages/tensorflow/python/ops/gen_io_ops.py\", line 1021, in restore_v2\n    shape_and_slices=shape_and_slices, dtypes=dtypes, name=name)\n  File \"/home/qnl/miniconda3/envs/idp/lib/python3.6/site-packages/tensorflow/python/framework/op_def_library.py\", line 787, in _apply_op_helper\n    op_def=op_def)\n  File \"/home/qnl/miniconda3/envs/idp/lib/python3.6/site-packages/tensorflow/python/framework/ops.py\", line 3042, in create_op\n    op_def=op_def)\n  File \"/home/qnl/miniconda3/envs/idp/lib/python3.6/site-packages/tensorflow/python/framework/ops.py\", line 1521, in __init__\n    self._traceback = self._graph._extract_stack()  # pylint: disable=protected-access\n\nNotFoundError (see above for traceback): Key bi_rnn/bidirectional_rnn/bw/multi_rnn_cell/cell_0/basic_lstm_cell/bias not found in checkpoint\n\t [[Node: save_1/RestoreV2_25 = RestoreV2[dtypes=[DT_FLOAT], _device=\"/job:localhost/replica:0/task:0/device:CPU:0\"](_arg_save_1/Const_0_0, save_1/RestoreV2_25/tensor_names, save_1/RestoreV2_25/shape_and_slices)]]\n"
     ]
    }
   ],
   "source": [
    "rho_tomo_final=[]\n",
    "prep_final=[]\n",
    "\n",
    "with tf.Session() as sess:\n",
    "    \n",
    "    sess.run(init)\n",
    "    \n",
    "    #var_list= tf.get_collection(tf.GraphKeys.GLOBAL_VARIABLES, scope=\"rnn_prediction\")\n",
    "    #saver_prediction = tf.train.Saver(var_list)\n",
    "\n",
    "    #var_list= tf.get_collection(tf.GraphKeys.GLOBAL_VARIABLES, scope=\"rnn_retrodiction\")\n",
    "    saver = tf.train.Saver()\n",
    "\n",
    "    saver.restore(sess, logs_path+init_model)\n",
    "    #saver_retrodiction.restore(sess, logs_path+init_model)\n",
    "    \n",
    "    prep=(np.array([[0,0,1],[0,1,0],[0,0,-1],[0,-1,0],[1,0,0],[-1,0,0]])+1.)/2.\n",
    "    \n",
    "    for k in np.random.permutation(np.arange(prep.shape[0])):\n",
    "    \n",
    "        cost_tot=[]\n",
    "        rho_tot=[]\n",
    "    \n",
    "        mask_time=(train_time>time_list[-10]-1)\n",
    "        mask_prep=(np.zeros(train_prep.shape[0])==0)\n",
    "        for i in np.arange(train_prep.shape[0]):\n",
    "            mask_prep[i]=np.array_equal(train_prep[i],prep[k])\n",
    "        mask=np.logical_and(mask_time,mask_prep)\n",
    "\n",
    "\n",
    "        tomo_data=train_data[mask]\n",
    "        tomo_labels=train_labels[mask]\n",
    "        tomo_time=train_time[mask]\n",
    "        tomo_prep=train_prep[mask]\n",
    "\n",
    "        tomo_data_retro=train_data_retro[mask]\n",
    "        tomo_labels_retro=train_labels_retro[mask]\n",
    "        tomo_time_retro=train_time_retro[mask]\n",
    "        tomo_prep_retro=train_prep_retro[mask]#*0.+0.5\n",
    "\n",
    "\n",
    "        #theta = tf.Variable(np.random.normal(0, 1), trainable=True)\n",
    "        #phi= tf.Variable(0., trainable=True)\n",
    "        #purity_tomo = tf.Variable(0., trainable=True)\n",
    "\n",
    "        \n",
    "        \n",
    "        sess.run(radius.assign(0.1))\n",
    "        sess.run(theta.assign(2*np.pi*np.random.normal(0, 1)))\n",
    "        sess.run(phi.assign(2*np.pi*np.random.normal(0, 1)))\n",
    "\n",
    "        #alpha_tomo = tf.Variable(tf.ones([1,n_axis]), trainable=True)\n",
    "\n",
    "\n",
    "        N_epoch=20\n",
    "\n",
    "\n",
    "        for epoch in np.arange(N_epoch):\n",
    "\n",
    "            LR=0.5/1.2**epoch\n",
    "            #LR=0.05\n",
    "            batch_size_tomo=256 #512#256\n",
    "            \n",
    "            sess.run(learning_rate.assign(LR))\n",
    "\n",
    "            print(str(epoch)+\" - \"+str(LR))\n",
    "            step = 1\n",
    "\n",
    "            rho_init\n",
    "            \n",
    "            index=np.random.permutation(np.arange(tomo_data.shape[0]))\n",
    "\n",
    "            tomo_data=tomo_data[index]\n",
    "            tomo_labels=tomo_labels[index]\n",
    "            tomo_time=tomo_time[index]\n",
    "            tomo_prep=tomo_prep[index]\n",
    "\n",
    "            tomo_data_retro=tomo_data_retro[index]\n",
    "            tomo_labels_retro=tomo_labels_retro[index]\n",
    "            tomo_time_retro=tomo_time_retro[index]\n",
    "            tomo_prep_retro=tomo_prep_retro[index]\n",
    "\n",
    "            while step * batch_size_tomo < min(tomo_prep_retro.shape[0],tomo_prep_retro.shape[0]):\n",
    "\n",
    "                batch_x=tomo_data[(step-1) * batch_size_tomo:step * batch_size_tomo]\n",
    "                batch_t=tomo_time[(step-1) * batch_size_tomo:step * batch_size_tomo]\n",
    "\n",
    "                batch_y_pred=tomo_labels[(step-1) * batch_size_tomo:step * batch_size_tomo]\n",
    "                batch_rho_pred=tomo_prep[(step-1) * batch_size_tomo:step * batch_size_tomo]\n",
    "\n",
    "                batch_y_retro=tomo_labels_retro[(step-1) * batch_size_tomo:step * batch_size_tomo]\n",
    "                batch_rho_retro=tomo_prep_retro[(step-1) * batch_size_tomo:step * batch_size_tomo]\n",
    "\n",
    "\n",
    "                # Reshape data to get 28 seq of 28 elements\n",
    "                batch_x = batch_x.reshape((-1, n_steps, n_input))\n",
    "\n",
    "\n",
    "                # Run optimization op (backprop)\n",
    "                _,cost,rho_test = sess.run([optimizer_tomo,cost_tomo,rho_init],feed_dict={\n",
    "                                                                                x: batch_x,\n",
    "                                                                                t: batch_t,\n",
    "                                                                                y_pred: batch_y_pred,\n",
    "                                                                                rho_pred: batch_rho_pred,\n",
    "                                                                                y_retro: batch_y_retro,\n",
    "                                                                                rho_retro: batch_rho_retro,\n",
    "                                                                                dropout: 0.\n",
    "                                                                               })\n",
    "\n",
    "\n",
    "                cost_tot.append(cost)\n",
    "                rho_tot.append(rho_test)\n",
    "\n",
    "                #print(cost)\n",
    "                #print(rho)\n",
    "\n",
    "                step=step+1\n",
    "\n",
    "        cost_tot=np.array(cost_tot)\n",
    "        rho_tot=np.concatenate(rho_tot)\n",
    "\n",
    "        plt.figure()\n",
    "        plt.plot(cost_tot)\n",
    "\n",
    "        plt.figure()\n",
    "        plt.plot((rho_tot[:,0]+1)/2.,label='X')\n",
    "        plt.plot((rho_tot[:,1]+1)/2.,label='Y')\n",
    "        plt.plot((rho_tot[:,2]+1)/2.,label='Z')\n",
    "        \n",
    "        plt.plot((rho_tot**2).sum(-1),label='purity')\n",
    "\n",
    "        plt.title(prep[k])\n",
    "        plt.ylim([0,1])\n",
    "        plt.legend()\n",
    "\n",
    "\n",
    "        rho_tomo_final.append((rho_tot[-1,:]+1)/2.)\n",
    "        prep_final.append((prep[k,:]+1)/2.)\n",
    "\n",
    "        \n",
    "prep_final = np.stack(prep_final)\n",
    "rho_tomo_final = np.stack(rho_tomo_final)\n",
    "\n",
    "\n",
    "a=rho_tomo_final\n",
    "b=prep_final*2-1\n",
    "\n",
    "plt.figure(figsize=(15,5))\n",
    "plt.subplot(1,3,1)\n",
    "plt.plot(a[:,1],a[:,2],'o')\n",
    "plt.plot(b[:,1],b[:,2],'o')\n",
    "\n",
    "plt.subplot(1,3,2)\n",
    "plt.plot(a[:,0],a[:,1],'o')\n",
    "plt.plot(b[:,0],b[:,1],'o')\n",
    "\n",
    "plt.subplot(1,3,3)\n",
    "plt.plot(a[:,0],a[:,2],'o')\n",
    "plt.plot(b[:,0],b[:,2],'o')"
   ]
  },
  {
   "cell_type": "code",
   "execution_count": 29,
   "metadata": {},
   "outputs": [
    {
     "name": "stdout",
     "output_type": "stream",
     "text": [
      "INFO:tensorflow:Restoring parameters from model/prediction_retrodiction/prediction_retrodiction_tomo_dropout_32HS_v1\n"
     ]
    },
    {
     "ename": "NotFoundError",
     "evalue": "Unsuccessful TensorSliceReader constructor: Failed to find any matching files for model/prediction_retrodiction/prediction_retrodiction_tomo_dropout_32HS_v1\n\t [[Node: save_2/RestoreV2 = RestoreV2[dtypes=[DT_FLOAT], _device=\"/job:localhost/replica:0/task:0/device:CPU:0\"](_arg_save_2/Const_0_0, save_2/RestoreV2/tensor_names, save_2/RestoreV2/shape_and_slices)]]\n\nCaused by op 'save_2/RestoreV2', defined at:\n  File \"/home/qnl/miniconda3/envs/idp/lib/python3.6/runpy.py\", line 193, in _run_module_as_main\n    \"__main__\", mod_spec)\n  File \"/home/qnl/miniconda3/envs/idp/lib/python3.6/runpy.py\", line 85, in _run_code\n    exec(code, run_globals)\n  File \"/home/qnl/miniconda3/envs/idp/lib/python3.6/site-packages/ipykernel_launcher.py\", line 16, in <module>\n    app.launch_new_instance()\n  File \"/home/qnl/miniconda3/envs/idp/lib/python3.6/site-packages/traitlets/config/application.py\", line 658, in launch_instance\n    app.start()\n  File \"/home/qnl/miniconda3/envs/idp/lib/python3.6/site-packages/ipykernel/kernelapp.py\", line 477, in start\n    ioloop.IOLoop.instance().start()\n  File \"/home/qnl/miniconda3/envs/idp/lib/python3.6/site-packages/zmq/eventloop/ioloop.py\", line 177, in start\n    super(ZMQIOLoop, self).start()\n  File \"/home/qnl/miniconda3/envs/idp/lib/python3.6/site-packages/tornado/ioloop.py\", line 888, in start\n    handler_func(fd_obj, events)\n  File \"/home/qnl/miniconda3/envs/idp/lib/python3.6/site-packages/tornado/stack_context.py\", line 277, in null_wrapper\n    return fn(*args, **kwargs)\n  File \"/home/qnl/miniconda3/envs/idp/lib/python3.6/site-packages/zmq/eventloop/zmqstream.py\", line 440, in _handle_events\n    self._handle_recv()\n  File \"/home/qnl/miniconda3/envs/idp/lib/python3.6/site-packages/zmq/eventloop/zmqstream.py\", line 472, in _handle_recv\n    self._run_callback(callback, msg)\n  File \"/home/qnl/miniconda3/envs/idp/lib/python3.6/site-packages/zmq/eventloop/zmqstream.py\", line 414, in _run_callback\n    callback(*args, **kwargs)\n  File \"/home/qnl/miniconda3/envs/idp/lib/python3.6/site-packages/tornado/stack_context.py\", line 277, in null_wrapper\n    return fn(*args, **kwargs)\n  File \"/home/qnl/miniconda3/envs/idp/lib/python3.6/site-packages/ipykernel/kernelbase.py\", line 283, in dispatcher\n    return self.dispatch_shell(stream, msg)\n  File \"/home/qnl/miniconda3/envs/idp/lib/python3.6/site-packages/ipykernel/kernelbase.py\", line 235, in dispatch_shell\n    handler(stream, idents, msg)\n  File \"/home/qnl/miniconda3/envs/idp/lib/python3.6/site-packages/ipykernel/kernelbase.py\", line 399, in execute_request\n    user_expressions, allow_stdin)\n  File \"/home/qnl/miniconda3/envs/idp/lib/python3.6/site-packages/ipykernel/ipkernel.py\", line 196, in do_execute\n    res = shell.run_cell(code, store_history=store_history, silent=silent)\n  File \"/home/qnl/miniconda3/envs/idp/lib/python3.6/site-packages/ipykernel/zmqshell.py\", line 533, in run_cell\n    return super(ZMQInteractiveShell, self).run_cell(*args, **kwargs)\n  File \"/home/qnl/miniconda3/envs/idp/lib/python3.6/site-packages/IPython/core/interactiveshell.py\", line 2698, in run_cell\n    interactivity=interactivity, compiler=compiler, result=result)\n  File \"/home/qnl/miniconda3/envs/idp/lib/python3.6/site-packages/IPython/core/interactiveshell.py\", line 2802, in run_ast_nodes\n    if self.run_code(code, result):\n  File \"/home/qnl/miniconda3/envs/idp/lib/python3.6/site-packages/IPython/core/interactiveshell.py\", line 2862, in run_code\n    exec(code_obj, self.user_global_ns, self.user_ns)\n  File \"<ipython-input-29-efb98605650b>\", line 18, in <module>\n    saver = tf.train.Saver()\n  File \"/home/qnl/miniconda3/envs/idp/lib/python3.6/site-packages/tensorflow/python/training/saver.py\", line 1233, in __init__\n    self.build()\n  File \"/home/qnl/miniconda3/envs/idp/lib/python3.6/site-packages/tensorflow/python/training/saver.py\", line 1242, in build\n    self._build(self._filename, build_save=True, build_restore=True)\n  File \"/home/qnl/miniconda3/envs/idp/lib/python3.6/site-packages/tensorflow/python/training/saver.py\", line 1278, in _build\n    build_save=build_save, build_restore=build_restore)\n  File \"/home/qnl/miniconda3/envs/idp/lib/python3.6/site-packages/tensorflow/python/training/saver.py\", line 759, in _build_internal\n    restore_sequentially, reshape)\n  File \"/home/qnl/miniconda3/envs/idp/lib/python3.6/site-packages/tensorflow/python/training/saver.py\", line 428, in _AddRestoreOps\n    tensors = self.restore_op(filename_tensor, saveable, preferred_shard)\n  File \"/home/qnl/miniconda3/envs/idp/lib/python3.6/site-packages/tensorflow/python/training/saver.py\", line 268, in restore_op\n    [spec.tensor.dtype])[0])\n  File \"/home/qnl/miniconda3/envs/idp/lib/python3.6/site-packages/tensorflow/python/ops/gen_io_ops.py\", line 1021, in restore_v2\n    shape_and_slices=shape_and_slices, dtypes=dtypes, name=name)\n  File \"/home/qnl/miniconda3/envs/idp/lib/python3.6/site-packages/tensorflow/python/framework/op_def_library.py\", line 787, in _apply_op_helper\n    op_def=op_def)\n  File \"/home/qnl/miniconda3/envs/idp/lib/python3.6/site-packages/tensorflow/python/framework/ops.py\", line 3042, in create_op\n    op_def=op_def)\n  File \"/home/qnl/miniconda3/envs/idp/lib/python3.6/site-packages/tensorflow/python/framework/ops.py\", line 1521, in __init__\n    self._traceback = self._graph._extract_stack()  # pylint: disable=protected-access\n\nNotFoundError (see above for traceback): Unsuccessful TensorSliceReader constructor: Failed to find any matching files for model/prediction_retrodiction/prediction_retrodiction_tomo_dropout_32HS_v1\n\t [[Node: save_2/RestoreV2 = RestoreV2[dtypes=[DT_FLOAT], _device=\"/job:localhost/replica:0/task:0/device:CPU:0\"](_arg_save_2/Const_0_0, save_2/RestoreV2/tensor_names, save_2/RestoreV2/shape_and_slices)]]\n",
     "output_type": "error",
     "traceback": [
      "\u001b[0;31m---------------------------------------------------------------------------\u001b[0m",
      "\u001b[0;31mNotFoundError\u001b[0m                             Traceback (most recent call last)",
      "\u001b[0;32m~/miniconda3/envs/idp/lib/python3.6/site-packages/tensorflow/python/client/session.py\u001b[0m in \u001b[0;36m_do_call\u001b[0;34m(self, fn, *args)\u001b[0m\n\u001b[1;32m   1322\u001b[0m     \u001b[0;32mtry\u001b[0m\u001b[0;34m:\u001b[0m\u001b[0;34m\u001b[0m\u001b[0m\n\u001b[0;32m-> 1323\u001b[0;31m       \u001b[0;32mreturn\u001b[0m \u001b[0mfn\u001b[0m\u001b[0;34m(\u001b[0m\u001b[0;34m*\u001b[0m\u001b[0margs\u001b[0m\u001b[0;34m)\u001b[0m\u001b[0;34m\u001b[0m\u001b[0m\n\u001b[0m\u001b[1;32m   1324\u001b[0m     \u001b[0;32mexcept\u001b[0m \u001b[0merrors\u001b[0m\u001b[0;34m.\u001b[0m\u001b[0mOpError\u001b[0m \u001b[0;32mas\u001b[0m \u001b[0me\u001b[0m\u001b[0;34m:\u001b[0m\u001b[0;34m\u001b[0m\u001b[0m\n",
      "\u001b[0;32m~/miniconda3/envs/idp/lib/python3.6/site-packages/tensorflow/python/client/session.py\u001b[0m in \u001b[0;36m_run_fn\u001b[0;34m(session, feed_dict, fetch_list, target_list, options, run_metadata)\u001b[0m\n\u001b[1;32m   1301\u001b[0m                                    \u001b[0mfeed_dict\u001b[0m\u001b[0;34m,\u001b[0m \u001b[0mfetch_list\u001b[0m\u001b[0;34m,\u001b[0m \u001b[0mtarget_list\u001b[0m\u001b[0;34m,\u001b[0m\u001b[0;34m\u001b[0m\u001b[0m\n\u001b[0;32m-> 1302\u001b[0;31m                                    status, run_metadata)\n\u001b[0m\u001b[1;32m   1303\u001b[0m \u001b[0;34m\u001b[0m\u001b[0m\n",
      "\u001b[0;32m~/miniconda3/envs/idp/lib/python3.6/site-packages/tensorflow/python/framework/errors_impl.py\u001b[0m in \u001b[0;36m__exit__\u001b[0;34m(self, type_arg, value_arg, traceback_arg)\u001b[0m\n\u001b[1;32m    472\u001b[0m             \u001b[0mcompat\u001b[0m\u001b[0;34m.\u001b[0m\u001b[0mas_text\u001b[0m\u001b[0;34m(\u001b[0m\u001b[0mc_api\u001b[0m\u001b[0;34m.\u001b[0m\u001b[0mTF_Message\u001b[0m\u001b[0;34m(\u001b[0m\u001b[0mself\u001b[0m\u001b[0;34m.\u001b[0m\u001b[0mstatus\u001b[0m\u001b[0;34m.\u001b[0m\u001b[0mstatus\u001b[0m\u001b[0;34m)\u001b[0m\u001b[0;34m)\u001b[0m\u001b[0;34m,\u001b[0m\u001b[0;34m\u001b[0m\u001b[0m\n\u001b[0;32m--> 473\u001b[0;31m             c_api.TF_GetCode(self.status.status))\n\u001b[0m\u001b[1;32m    474\u001b[0m     \u001b[0;31m# Delete the underlying status object from memory otherwise it stays alive\u001b[0m\u001b[0;34m\u001b[0m\u001b[0;34m\u001b[0m\u001b[0m\n",
      "\u001b[0;31mNotFoundError\u001b[0m: Unsuccessful TensorSliceReader constructor: Failed to find any matching files for model/prediction_retrodiction/prediction_retrodiction_tomo_dropout_32HS_v1\n\t [[Node: save_2/RestoreV2 = RestoreV2[dtypes=[DT_FLOAT], _device=\"/job:localhost/replica:0/task:0/device:CPU:0\"](_arg_save_2/Const_0_0, save_2/RestoreV2/tensor_names, save_2/RestoreV2/shape_and_slices)]]",
      "\nDuring handling of the above exception, another exception occurred:\n",
      "\u001b[0;31mNotFoundError\u001b[0m                             Traceback (most recent call last)",
      "\u001b[0;32m<ipython-input-29-efb98605650b>\u001b[0m in \u001b[0;36m<module>\u001b[0;34m()\u001b[0m\n\u001b[1;32m     18\u001b[0m     \u001b[0msaver\u001b[0m \u001b[0;34m=\u001b[0m \u001b[0mtf\u001b[0m\u001b[0;34m.\u001b[0m\u001b[0mtrain\u001b[0m\u001b[0;34m.\u001b[0m\u001b[0mSaver\u001b[0m\u001b[0;34m(\u001b[0m\u001b[0;34m)\u001b[0m\u001b[0;34m\u001b[0m\u001b[0m\n\u001b[1;32m     19\u001b[0m \u001b[0;34m\u001b[0m\u001b[0m\n\u001b[0;32m---> 20\u001b[0;31m     \u001b[0msaver\u001b[0m\u001b[0;34m.\u001b[0m\u001b[0mrestore\u001b[0m\u001b[0;34m(\u001b[0m\u001b[0msess\u001b[0m\u001b[0;34m,\u001b[0m \u001b[0mlogs_path\u001b[0m\u001b[0;34m+\u001b[0m\u001b[0minit_model\u001b[0m\u001b[0;34m)\u001b[0m\u001b[0;34m\u001b[0m\u001b[0m\n\u001b[0m\u001b[1;32m     21\u001b[0m     \u001b[0;31m#saver_retrodiction.restore(sess, logs_path+init_model)\u001b[0m\u001b[0;34m\u001b[0m\u001b[0;34m\u001b[0m\u001b[0m\n\u001b[1;32m     22\u001b[0m \u001b[0;34m\u001b[0m\u001b[0m\n",
      "\u001b[0;32m~/miniconda3/envs/idp/lib/python3.6/site-packages/tensorflow/python/training/saver.py\u001b[0m in \u001b[0;36mrestore\u001b[0;34m(self, sess, save_path)\u001b[0m\n\u001b[1;32m   1678\u001b[0m     \u001b[0;32mif\u001b[0m \u001b[0mcontext\u001b[0m\u001b[0;34m.\u001b[0m\u001b[0min_graph_mode\u001b[0m\u001b[0;34m(\u001b[0m\u001b[0;34m)\u001b[0m\u001b[0;34m:\u001b[0m\u001b[0;34m\u001b[0m\u001b[0m\n\u001b[1;32m   1679\u001b[0m       sess.run(self.saver_def.restore_op_name,\n\u001b[0;32m-> 1680\u001b[0;31m                {self.saver_def.filename_tensor_name: save_path})\n\u001b[0m\u001b[1;32m   1681\u001b[0m     \u001b[0;32melse\u001b[0m\u001b[0;34m:\u001b[0m\u001b[0;34m\u001b[0m\u001b[0m\n\u001b[1;32m   1682\u001b[0m       \u001b[0mself\u001b[0m\u001b[0;34m.\u001b[0m\u001b[0m_build_eager\u001b[0m\u001b[0;34m(\u001b[0m\u001b[0msave_path\u001b[0m\u001b[0;34m,\u001b[0m \u001b[0mbuild_save\u001b[0m\u001b[0;34m=\u001b[0m\u001b[0;32mFalse\u001b[0m\u001b[0;34m,\u001b[0m \u001b[0mbuild_restore\u001b[0m\u001b[0;34m=\u001b[0m\u001b[0;32mTrue\u001b[0m\u001b[0;34m)\u001b[0m\u001b[0;34m\u001b[0m\u001b[0m\n",
      "\u001b[0;32m~/miniconda3/envs/idp/lib/python3.6/site-packages/tensorflow/python/client/session.py\u001b[0m in \u001b[0;36mrun\u001b[0;34m(self, fetches, feed_dict, options, run_metadata)\u001b[0m\n\u001b[1;32m    887\u001b[0m     \u001b[0;32mtry\u001b[0m\u001b[0;34m:\u001b[0m\u001b[0;34m\u001b[0m\u001b[0m\n\u001b[1;32m    888\u001b[0m       result = self._run(None, fetches, feed_dict, options_ptr,\n\u001b[0;32m--> 889\u001b[0;31m                          run_metadata_ptr)\n\u001b[0m\u001b[1;32m    890\u001b[0m       \u001b[0;32mif\u001b[0m \u001b[0mrun_metadata\u001b[0m\u001b[0;34m:\u001b[0m\u001b[0;34m\u001b[0m\u001b[0m\n\u001b[1;32m    891\u001b[0m         \u001b[0mproto_data\u001b[0m \u001b[0;34m=\u001b[0m \u001b[0mtf_session\u001b[0m\u001b[0;34m.\u001b[0m\u001b[0mTF_GetBuffer\u001b[0m\u001b[0;34m(\u001b[0m\u001b[0mrun_metadata_ptr\u001b[0m\u001b[0;34m)\u001b[0m\u001b[0;34m\u001b[0m\u001b[0m\n",
      "\u001b[0;32m~/miniconda3/envs/idp/lib/python3.6/site-packages/tensorflow/python/client/session.py\u001b[0m in \u001b[0;36m_run\u001b[0;34m(self, handle, fetches, feed_dict, options, run_metadata)\u001b[0m\n\u001b[1;32m   1118\u001b[0m     \u001b[0;32mif\u001b[0m \u001b[0mfinal_fetches\u001b[0m \u001b[0;32mor\u001b[0m \u001b[0mfinal_targets\u001b[0m \u001b[0;32mor\u001b[0m \u001b[0;34m(\u001b[0m\u001b[0mhandle\u001b[0m \u001b[0;32mand\u001b[0m \u001b[0mfeed_dict_tensor\u001b[0m\u001b[0;34m)\u001b[0m\u001b[0;34m:\u001b[0m\u001b[0;34m\u001b[0m\u001b[0m\n\u001b[1;32m   1119\u001b[0m       results = self._do_run(handle, final_targets, final_fetches,\n\u001b[0;32m-> 1120\u001b[0;31m                              feed_dict_tensor, options, run_metadata)\n\u001b[0m\u001b[1;32m   1121\u001b[0m     \u001b[0;32melse\u001b[0m\u001b[0;34m:\u001b[0m\u001b[0;34m\u001b[0m\u001b[0m\n\u001b[1;32m   1122\u001b[0m       \u001b[0mresults\u001b[0m \u001b[0;34m=\u001b[0m \u001b[0;34m[\u001b[0m\u001b[0;34m]\u001b[0m\u001b[0;34m\u001b[0m\u001b[0m\n",
      "\u001b[0;32m~/miniconda3/envs/idp/lib/python3.6/site-packages/tensorflow/python/client/session.py\u001b[0m in \u001b[0;36m_do_run\u001b[0;34m(self, handle, target_list, fetch_list, feed_dict, options, run_metadata)\u001b[0m\n\u001b[1;32m   1315\u001b[0m     \u001b[0;32mif\u001b[0m \u001b[0mhandle\u001b[0m \u001b[0;32mis\u001b[0m \u001b[0;32mNone\u001b[0m\u001b[0;34m:\u001b[0m\u001b[0;34m\u001b[0m\u001b[0m\n\u001b[1;32m   1316\u001b[0m       return self._do_call(_run_fn, self._session, feeds, fetches, targets,\n\u001b[0;32m-> 1317\u001b[0;31m                            options, run_metadata)\n\u001b[0m\u001b[1;32m   1318\u001b[0m     \u001b[0;32melse\u001b[0m\u001b[0;34m:\u001b[0m\u001b[0;34m\u001b[0m\u001b[0m\n\u001b[1;32m   1319\u001b[0m       \u001b[0;32mreturn\u001b[0m \u001b[0mself\u001b[0m\u001b[0;34m.\u001b[0m\u001b[0m_do_call\u001b[0m\u001b[0;34m(\u001b[0m\u001b[0m_prun_fn\u001b[0m\u001b[0;34m,\u001b[0m \u001b[0mself\u001b[0m\u001b[0;34m.\u001b[0m\u001b[0m_session\u001b[0m\u001b[0;34m,\u001b[0m \u001b[0mhandle\u001b[0m\u001b[0;34m,\u001b[0m \u001b[0mfeeds\u001b[0m\u001b[0;34m,\u001b[0m \u001b[0mfetches\u001b[0m\u001b[0;34m)\u001b[0m\u001b[0;34m\u001b[0m\u001b[0m\n",
      "\u001b[0;32m~/miniconda3/envs/idp/lib/python3.6/site-packages/tensorflow/python/client/session.py\u001b[0m in \u001b[0;36m_do_call\u001b[0;34m(self, fn, *args)\u001b[0m\n\u001b[1;32m   1334\u001b[0m         \u001b[0;32mexcept\u001b[0m \u001b[0mKeyError\u001b[0m\u001b[0;34m:\u001b[0m\u001b[0;34m\u001b[0m\u001b[0m\n\u001b[1;32m   1335\u001b[0m           \u001b[0;32mpass\u001b[0m\u001b[0;34m\u001b[0m\u001b[0m\n\u001b[0;32m-> 1336\u001b[0;31m       \u001b[0;32mraise\u001b[0m \u001b[0mtype\u001b[0m\u001b[0;34m(\u001b[0m\u001b[0me\u001b[0m\u001b[0;34m)\u001b[0m\u001b[0;34m(\u001b[0m\u001b[0mnode_def\u001b[0m\u001b[0;34m,\u001b[0m \u001b[0mop\u001b[0m\u001b[0;34m,\u001b[0m \u001b[0mmessage\u001b[0m\u001b[0;34m)\u001b[0m\u001b[0;34m\u001b[0m\u001b[0m\n\u001b[0m\u001b[1;32m   1337\u001b[0m \u001b[0;34m\u001b[0m\u001b[0m\n\u001b[1;32m   1338\u001b[0m   \u001b[0;32mdef\u001b[0m \u001b[0m_extend_graph\u001b[0m\u001b[0;34m(\u001b[0m\u001b[0mself\u001b[0m\u001b[0;34m)\u001b[0m\u001b[0;34m:\u001b[0m\u001b[0;34m\u001b[0m\u001b[0m\n",
      "\u001b[0;31mNotFoundError\u001b[0m: Unsuccessful TensorSliceReader constructor: Failed to find any matching files for model/prediction_retrodiction/prediction_retrodiction_tomo_dropout_32HS_v1\n\t [[Node: save_2/RestoreV2 = RestoreV2[dtypes=[DT_FLOAT], _device=\"/job:localhost/replica:0/task:0/device:CPU:0\"](_arg_save_2/Const_0_0, save_2/RestoreV2/tensor_names, save_2/RestoreV2/shape_and_slices)]]\n\nCaused by op 'save_2/RestoreV2', defined at:\n  File \"/home/qnl/miniconda3/envs/idp/lib/python3.6/runpy.py\", line 193, in _run_module_as_main\n    \"__main__\", mod_spec)\n  File \"/home/qnl/miniconda3/envs/idp/lib/python3.6/runpy.py\", line 85, in _run_code\n    exec(code, run_globals)\n  File \"/home/qnl/miniconda3/envs/idp/lib/python3.6/site-packages/ipykernel_launcher.py\", line 16, in <module>\n    app.launch_new_instance()\n  File \"/home/qnl/miniconda3/envs/idp/lib/python3.6/site-packages/traitlets/config/application.py\", line 658, in launch_instance\n    app.start()\n  File \"/home/qnl/miniconda3/envs/idp/lib/python3.6/site-packages/ipykernel/kernelapp.py\", line 477, in start\n    ioloop.IOLoop.instance().start()\n  File \"/home/qnl/miniconda3/envs/idp/lib/python3.6/site-packages/zmq/eventloop/ioloop.py\", line 177, in start\n    super(ZMQIOLoop, self).start()\n  File \"/home/qnl/miniconda3/envs/idp/lib/python3.6/site-packages/tornado/ioloop.py\", line 888, in start\n    handler_func(fd_obj, events)\n  File \"/home/qnl/miniconda3/envs/idp/lib/python3.6/site-packages/tornado/stack_context.py\", line 277, in null_wrapper\n    return fn(*args, **kwargs)\n  File \"/home/qnl/miniconda3/envs/idp/lib/python3.6/site-packages/zmq/eventloop/zmqstream.py\", line 440, in _handle_events\n    self._handle_recv()\n  File \"/home/qnl/miniconda3/envs/idp/lib/python3.6/site-packages/zmq/eventloop/zmqstream.py\", line 472, in _handle_recv\n    self._run_callback(callback, msg)\n  File \"/home/qnl/miniconda3/envs/idp/lib/python3.6/site-packages/zmq/eventloop/zmqstream.py\", line 414, in _run_callback\n    callback(*args, **kwargs)\n  File \"/home/qnl/miniconda3/envs/idp/lib/python3.6/site-packages/tornado/stack_context.py\", line 277, in null_wrapper\n    return fn(*args, **kwargs)\n  File \"/home/qnl/miniconda3/envs/idp/lib/python3.6/site-packages/ipykernel/kernelbase.py\", line 283, in dispatcher\n    return self.dispatch_shell(stream, msg)\n  File \"/home/qnl/miniconda3/envs/idp/lib/python3.6/site-packages/ipykernel/kernelbase.py\", line 235, in dispatch_shell\n    handler(stream, idents, msg)\n  File \"/home/qnl/miniconda3/envs/idp/lib/python3.6/site-packages/ipykernel/kernelbase.py\", line 399, in execute_request\n    user_expressions, allow_stdin)\n  File \"/home/qnl/miniconda3/envs/idp/lib/python3.6/site-packages/ipykernel/ipkernel.py\", line 196, in do_execute\n    res = shell.run_cell(code, store_history=store_history, silent=silent)\n  File \"/home/qnl/miniconda3/envs/idp/lib/python3.6/site-packages/ipykernel/zmqshell.py\", line 533, in run_cell\n    return super(ZMQInteractiveShell, self).run_cell(*args, **kwargs)\n  File \"/home/qnl/miniconda3/envs/idp/lib/python3.6/site-packages/IPython/core/interactiveshell.py\", line 2698, in run_cell\n    interactivity=interactivity, compiler=compiler, result=result)\n  File \"/home/qnl/miniconda3/envs/idp/lib/python3.6/site-packages/IPython/core/interactiveshell.py\", line 2802, in run_ast_nodes\n    if self.run_code(code, result):\n  File \"/home/qnl/miniconda3/envs/idp/lib/python3.6/site-packages/IPython/core/interactiveshell.py\", line 2862, in run_code\n    exec(code_obj, self.user_global_ns, self.user_ns)\n  File \"<ipython-input-29-efb98605650b>\", line 18, in <module>\n    saver = tf.train.Saver()\n  File \"/home/qnl/miniconda3/envs/idp/lib/python3.6/site-packages/tensorflow/python/training/saver.py\", line 1233, in __init__\n    self.build()\n  File \"/home/qnl/miniconda3/envs/idp/lib/python3.6/site-packages/tensorflow/python/training/saver.py\", line 1242, in build\n    self._build(self._filename, build_save=True, build_restore=True)\n  File \"/home/qnl/miniconda3/envs/idp/lib/python3.6/site-packages/tensorflow/python/training/saver.py\", line 1278, in _build\n    build_save=build_save, build_restore=build_restore)\n  File \"/home/qnl/miniconda3/envs/idp/lib/python3.6/site-packages/tensorflow/python/training/saver.py\", line 759, in _build_internal\n    restore_sequentially, reshape)\n  File \"/home/qnl/miniconda3/envs/idp/lib/python3.6/site-packages/tensorflow/python/training/saver.py\", line 428, in _AddRestoreOps\n    tensors = self.restore_op(filename_tensor, saveable, preferred_shard)\n  File \"/home/qnl/miniconda3/envs/idp/lib/python3.6/site-packages/tensorflow/python/training/saver.py\", line 268, in restore_op\n    [spec.tensor.dtype])[0])\n  File \"/home/qnl/miniconda3/envs/idp/lib/python3.6/site-packages/tensorflow/python/ops/gen_io_ops.py\", line 1021, in restore_v2\n    shape_and_slices=shape_and_slices, dtypes=dtypes, name=name)\n  File \"/home/qnl/miniconda3/envs/idp/lib/python3.6/site-packages/tensorflow/python/framework/op_def_library.py\", line 787, in _apply_op_helper\n    op_def=op_def)\n  File \"/home/qnl/miniconda3/envs/idp/lib/python3.6/site-packages/tensorflow/python/framework/ops.py\", line 3042, in create_op\n    op_def=op_def)\n  File \"/home/qnl/miniconda3/envs/idp/lib/python3.6/site-packages/tensorflow/python/framework/ops.py\", line 1521, in __init__\n    self._traceback = self._graph._extract_stack()  # pylint: disable=protected-access\n\nNotFoundError (see above for traceback): Unsuccessful TensorSliceReader constructor: Failed to find any matching files for model/prediction_retrodiction/prediction_retrodiction_tomo_dropout_32HS_v1\n\t [[Node: save_2/RestoreV2 = RestoreV2[dtypes=[DT_FLOAT], _device=\"/job:localhost/replica:0/task:0/device:CPU:0\"](_arg_save_2/Const_0_0, save_2/RestoreV2/tensor_names, save_2/RestoreV2/shape_and_slices)]]\n"
     ]
    }
   ],
   "source": [
    "import scipy.optimize as sp\n",
    "\n",
    "\n",
    "rho_tomo_final=[]\n",
    "prep_final=[]\n",
    "\n",
    "#init_model=\"prediction_retrodiction_tomo_dropout_test_v6\"\n",
    "\n",
    "\n",
    "with tf.Session() as sess:\n",
    "    \n",
    "    sess.run(init)\n",
    "    \n",
    "    #var_list= tf.get_collection(tf.GraphKeys.GLOBAL_VARIABLES, scope=\"rnn_prediction\")\n",
    "    #saver_prediction = tf.train.Saver(var_list)\n",
    "\n",
    "    #var_list= tf.get_collection(tf.GraphKeys.GLOBAL_VARIABLES, scope=\"rnn_retrodiction\")\n",
    "    saver = tf.train.Saver()\n",
    "\n",
    "    saver.restore(sess, logs_path+init_model)\n",
    "    #saver_retrodiction.restore(sess, logs_path+init_model)\n",
    "    \n",
    "    prep=(np.array([[0,0,1],[0,1,0],[0,0,-1],[0,-1,0],[1,0,0],[-1,0,0]])+1.)/2.\n",
    "    \n",
    "    for k in np.random.permutation(np.arange(prep.shape[0])):\n",
    "    \n",
    "        cost_tot=[]\n",
    "        rho_tot=[]\n",
    "        rho_retro_test=[]\n",
    "    \n",
    "        mask_time=(train_time>time_list[-10]-1)\n",
    "        mask_prep=(np.zeros(train_prep.shape[0])==0)\n",
    "        for i in np.arange(train_prep.shape[0]):\n",
    "            mask_prep[i]=np.array_equal(train_prep[i],prep[k])\n",
    "        mask=np.logical_and(mask_time,mask_prep)\n",
    "\n",
    "\n",
    "        tomo_data=train_data[mask]\n",
    "        tomo_labels=train_labels[mask]\n",
    "        tomo_time=train_time[mask]\n",
    "        tomo_prep=train_prep[mask]\n",
    "\n",
    "        tomo_data_retro=train_data_retro[mask]\n",
    "        tomo_labels_retro=train_labels_retro[mask]\n",
    "        tomo_time_retro=train_time_retro[mask]\n",
    "        tomo_prep_retro=train_prep_retro[mask]#*0.+0.5\n",
    "\n",
    "\n",
    "        #theta = tf.Variable(np.random.normal(0, 1), trainable=True)\n",
    "        #phi= tf.Variable(0., trainable=True)\n",
    "        #purity_tomo = tf.Variable(0., trainable=True)\n",
    "\n",
    "        \n",
    "        \n",
    "        sess.run(radius.assign(0.1))\n",
    "        sess.run(theta.assign(2*np.pi*np.random.normal(0, 1)))\n",
    "        sess.run(phi.assign(2*np.pi*np.random.normal(0, 1)))\n",
    "\n",
    "        #alpha_tomo = tf.Variable(tf.ones([1,n_axis]), trainable=True)\n",
    "\n",
    "\n",
    "     \n",
    "\n",
    "          \n",
    "        #LR=0.05\n",
    "        batch_size_tomo=1024 #512#256\n",
    "\n",
    "\n",
    "        step = 1\n",
    "\n",
    "        rho_init\n",
    "\n",
    "        index=np.random.permutation(np.arange(tomo_data.shape[0]))\n",
    "\n",
    "        tomo_data=tomo_data[index]\n",
    "        tomo_labels=tomo_labels[index]\n",
    "        tomo_time=tomo_time[index]\n",
    "        tomo_prep=tomo_prep[index]\n",
    "\n",
    "        tomo_data_retro=tomo_data_retro[index]\n",
    "        tomo_labels_retro=tomo_labels_retro[index]\n",
    "        tomo_time_retro=tomo_time_retro[index]\n",
    "        tomo_prep_retro=tomo_prep_retro[index]\n",
    "\n",
    "        while step * batch_size_tomo < min(tomo_prep_retro.shape[0],tomo_prep_retro.shape[0]):\n",
    "\n",
    "            batch_x=tomo_data[(step-1) * batch_size_tomo:step * batch_size_tomo]\n",
    "            batch_t=tomo_time[(step-1) * batch_size_tomo:step * batch_size_tomo]\n",
    "\n",
    "            batch_y_pred=tomo_labels[(step-1) * batch_size_tomo:step * batch_size_tomo]\n",
    "            batch_rho_pred=tomo_prep[(step-1) * batch_size_tomo:step * batch_size_tomo]\n",
    "\n",
    "            batch_y_retro=tomo_labels_retro[(step-1) * batch_size_tomo:step * batch_size_tomo]\n",
    "            batch_rho_retro=tomo_prep_retro[(step-1) * batch_size_tomo:step * batch_size_tomo]*0+0.5\n",
    "\n",
    "\n",
    "            # Reshape data to get 28 seq of 28 elements\n",
    "            batch_x = batch_x.reshape((-1, n_steps, n_input))\n",
    "\n",
    "\n",
    "\n",
    "\n",
    "            # Run optimization op (backprop)\n",
    "            rho_final_retro_tmp = sess.run(rho_final_retro,feed_dict={ \n",
    "                                                                            x: batch_x,\n",
    "                                                                            t: batch_t,\n",
    "                                                                            y_pred: batch_y_pred,\n",
    "                                                                            rho_pred: batch_rho_pred,\n",
    "                                                                            y_retro: batch_y_retro,\n",
    "                                                                            rho_retro: batch_rho_retro,\n",
    "                                                                            dropout: 0.\n",
    "                                                                           })\n",
    "\n",
    "\n",
    "            rho_retro_test.append(rho_final_retro_tmp)\n",
    "\n",
    "            #print(cost)\n",
    "            #print(rho)\n",
    "\n",
    "            step=step+1\n",
    "\n",
    "        rho_retro_test=np.concatenate(rho_retro_test)\n",
    "\n",
    "\n",
    "        def rho_from_polar(arg):\n",
    "            purity_tomo=np.tanh(arg[0])\n",
    "            theta=arg[1]\n",
    "            phi=arg[2]\n",
    "\n",
    "            #rho_tmp=purity_tomo*np.array([np.cos(theta),np.sin(theta)*np.cos(phi),np.sin(theta)*np.sin(phi)])\n",
    "            rho_tmp=purity_tomo*np.array([0,np.cos(phi),np.sin(phi)])\n",
    "\n",
    "            \n",
    "            \n",
    "            return rho_tmp\n",
    "        \n",
    "        \n",
    "\n",
    "        def tomo_loss(arg):\n",
    "            \n",
    "            #rho_tmp=purity_tomo*np.array([np.cos(theta),np.sin(theta)*np.cos(phi),np.sin(theta)*np.sin(phi)])\n",
    "            rho_tmp=rho_from_polar(arg)\n",
    "\n",
    "            return -(np.log(1/2.+1/2.*((2.*rho_retro_test-1.)*rho_tmp).sum(-1))).mean()\n",
    "            #return -((1/2.+1/2.*((2.*rho_retro_test-1.)*rho_tmp).sum(-1))).mean()\n",
    "\n",
    "        #return -(np.log(1/2.+1/2.*(2*rho_retro_test-1)*rho_tmp)).sum()\n",
    "\n",
    "        \n",
    "        \n",
    "        \n",
    "        \n",
    "\n",
    "\n",
    "        result=sp.minimize(tomo_loss, [0.01,0,0])\n",
    "\n",
    "\n",
    "        print(tomo_prep_retro.shape[0])\n",
    "        print(rho_from_polar(result['x']))\n",
    "        print(prep[k,:])\n",
    "        \n",
    "        print(result)\n",
    "\n",
    "        rho_tomo_final.append(rho_from_polar(result['x']))\n",
    "        prep_final.append(prep[k,:])\n",
    "\n",
    "        \n",
    "prep_final = np.stack(prep_final)\n",
    "rho_tomo_final = np.stack(rho_tomo_final)\n",
    "\n",
    "\n",
    "b=rho_tomo_final\n",
    "a=prep_final*2-1\n",
    "\n",
    "plt.figure(figsize=(15,5))\n",
    "plt.subplot(1,3,1)\n",
    "plt.plot(a[:,1],a[:,2],'o')\n",
    "plt.plot(b[:,1],b[:,2],'o')\n",
    "\n",
    "plt.subplot(1,3,2)\n",
    "plt.plot(a[:,0],a[:,1],'o')\n",
    "plt.plot(b[:,0],b[:,1],'o')\n",
    "\n",
    "plt.subplot(1,3,3)\n",
    "plt.plot(a[:,0],a[:,2],'o')\n",
    "plt.plot(b[:,0],b[:,2],'o')"
   ]
  },
  {
   "cell_type": "code",
   "execution_count": null,
   "metadata": {
    "collapsed": true
   },
   "outputs": [],
   "source": [
    "import scipy.optimize as sp\n",
    "result=sp.minimize(tomo_loss, [0,0,0])\n",
    "rho_from_polar(result['x'])"
   ]
  },
  {
   "cell_type": "code",
   "execution_count": null,
   "metadata": {
    "collapsed": true
   },
   "outputs": [],
   "source": [
    "identity=tf.ones([tf.shape(x)[0],n_axis])\n",
    "  \n",
    "#alpha_tomo = tf.Variable(tf.ones([1,n_axis]), trainable=True)\n",
    "theta = tf.Variable(0., trainable=True)\n",
    "phi= tf.Variable(0., trainable=True)\n",
    "radius = tf.Variable(0., trainable=True)\n",
    "purity_tomo=tf.tanh(radius)\n",
    "\n",
    "#rho_init=tf.stack([[purity_tomo*tf.cos(theta)*tf.sin(phi),purity_tomo*tf.sin(theta)*tf.cos(phi),purity_tomo*tf.sin(phi)]])\n",
    "\n",
    "rho_init=tf.stack([[purity_tomo*tf.cos(theta),purity_tomo*tf.sin(theta)*tf.cos(phi),purity_tomo*tf.sin(theta)*tf.sin(phi)]])\n",
    "\n",
    "\n",
    "rho_tile=tf.tile(rho_init,[tf.shape(x)[0],1])\n",
    "                              \n",
    "cost_tomo=tf.reduce_mean(-tf.log(1/2.+1/2.*tf.reduce_sum((2*rho_final_retro-identity)*rho_tile,reduction_indices=[1])))\n",
    "\n"
   ]
  },
  {
   "cell_type": "markdown",
   "metadata": {
    "collapsed": true
   },
   "source": [
    "# Evaluation of the RNN training"
   ]
  },
  {
   "cell_type": "code",
   "execution_count": 25,
   "metadata": {
    "scrolled": false
   },
   "outputs": [
    {
     "name": "stdout",
     "output_type": "stream",
     "text": [
      "INFO:tensorflow:Restoring parameters from model/prediction_retrodiction/prediction_retrodiction_tomo_dropout_32HS_v1\n"
     ]
    },
    {
     "ename": "NotFoundError",
     "evalue": "Key bi_rnn/bidirectional_rnn/bw/multi_rnn_cell/cell_0/basic_lstm_cell/kernel not found in checkpoint\n\t [[Node: save_1/RestoreV2_28 = RestoreV2[dtypes=[DT_FLOAT], _device=\"/job:localhost/replica:0/task:0/device:CPU:0\"](_arg_save_1/Const_0_0, save_1/RestoreV2_28/tensor_names, save_1/RestoreV2_28/shape_and_slices)]]\n\nCaused by op 'save_1/RestoreV2_28', defined at:\n  File \"/home/qnl/miniconda3/envs/idp/lib/python3.6/runpy.py\", line 193, in _run_module_as_main\n    \"__main__\", mod_spec)\n  File \"/home/qnl/miniconda3/envs/idp/lib/python3.6/runpy.py\", line 85, in _run_code\n    exec(code, run_globals)\n  File \"/home/qnl/miniconda3/envs/idp/lib/python3.6/site-packages/ipykernel_launcher.py\", line 16, in <module>\n    app.launch_new_instance()\n  File \"/home/qnl/miniconda3/envs/idp/lib/python3.6/site-packages/traitlets/config/application.py\", line 658, in launch_instance\n    app.start()\n  File \"/home/qnl/miniconda3/envs/idp/lib/python3.6/site-packages/ipykernel/kernelapp.py\", line 477, in start\n    ioloop.IOLoop.instance().start()\n  File \"/home/qnl/miniconda3/envs/idp/lib/python3.6/site-packages/zmq/eventloop/ioloop.py\", line 177, in start\n    super(ZMQIOLoop, self).start()\n  File \"/home/qnl/miniconda3/envs/idp/lib/python3.6/site-packages/tornado/ioloop.py\", line 888, in start\n    handler_func(fd_obj, events)\n  File \"/home/qnl/miniconda3/envs/idp/lib/python3.6/site-packages/tornado/stack_context.py\", line 277, in null_wrapper\n    return fn(*args, **kwargs)\n  File \"/home/qnl/miniconda3/envs/idp/lib/python3.6/site-packages/zmq/eventloop/zmqstream.py\", line 440, in _handle_events\n    self._handle_recv()\n  File \"/home/qnl/miniconda3/envs/idp/lib/python3.6/site-packages/zmq/eventloop/zmqstream.py\", line 472, in _handle_recv\n    self._run_callback(callback, msg)\n  File \"/home/qnl/miniconda3/envs/idp/lib/python3.6/site-packages/zmq/eventloop/zmqstream.py\", line 414, in _run_callback\n    callback(*args, **kwargs)\n  File \"/home/qnl/miniconda3/envs/idp/lib/python3.6/site-packages/tornado/stack_context.py\", line 277, in null_wrapper\n    return fn(*args, **kwargs)\n  File \"/home/qnl/miniconda3/envs/idp/lib/python3.6/site-packages/ipykernel/kernelbase.py\", line 283, in dispatcher\n    return self.dispatch_shell(stream, msg)\n  File \"/home/qnl/miniconda3/envs/idp/lib/python3.6/site-packages/ipykernel/kernelbase.py\", line 235, in dispatch_shell\n    handler(stream, idents, msg)\n  File \"/home/qnl/miniconda3/envs/idp/lib/python3.6/site-packages/ipykernel/kernelbase.py\", line 399, in execute_request\n    user_expressions, allow_stdin)\n  File \"/home/qnl/miniconda3/envs/idp/lib/python3.6/site-packages/ipykernel/ipkernel.py\", line 196, in do_execute\n    res = shell.run_cell(code, store_history=store_history, silent=silent)\n  File \"/home/qnl/miniconda3/envs/idp/lib/python3.6/site-packages/ipykernel/zmqshell.py\", line 533, in run_cell\n    return super(ZMQInteractiveShell, self).run_cell(*args, **kwargs)\n  File \"/home/qnl/miniconda3/envs/idp/lib/python3.6/site-packages/IPython/core/interactiveshell.py\", line 2698, in run_cell\n    interactivity=interactivity, compiler=compiler, result=result)\n  File \"/home/qnl/miniconda3/envs/idp/lib/python3.6/site-packages/IPython/core/interactiveshell.py\", line 2802, in run_ast_nodes\n    if self.run_code(code, result):\n  File \"/home/qnl/miniconda3/envs/idp/lib/python3.6/site-packages/IPython/core/interactiveshell.py\", line 2862, in run_code\n    exec(code_obj, self.user_global_ns, self.user_ns)\n  File \"<ipython-input-24-75e696280e6c>\", line 12, in <module>\n    saver = tf.train.Saver()\n  File \"/home/qnl/miniconda3/envs/idp/lib/python3.6/site-packages/tensorflow/python/training/saver.py\", line 1233, in __init__\n    self.build()\n  File \"/home/qnl/miniconda3/envs/idp/lib/python3.6/site-packages/tensorflow/python/training/saver.py\", line 1242, in build\n    self._build(self._filename, build_save=True, build_restore=True)\n  File \"/home/qnl/miniconda3/envs/idp/lib/python3.6/site-packages/tensorflow/python/training/saver.py\", line 1278, in _build\n    build_save=build_save, build_restore=build_restore)\n  File \"/home/qnl/miniconda3/envs/idp/lib/python3.6/site-packages/tensorflow/python/training/saver.py\", line 759, in _build_internal\n    restore_sequentially, reshape)\n  File \"/home/qnl/miniconda3/envs/idp/lib/python3.6/site-packages/tensorflow/python/training/saver.py\", line 428, in _AddRestoreOps\n    tensors = self.restore_op(filename_tensor, saveable, preferred_shard)\n  File \"/home/qnl/miniconda3/envs/idp/lib/python3.6/site-packages/tensorflow/python/training/saver.py\", line 268, in restore_op\n    [spec.tensor.dtype])[0])\n  File \"/home/qnl/miniconda3/envs/idp/lib/python3.6/site-packages/tensorflow/python/ops/gen_io_ops.py\", line 1021, in restore_v2\n    shape_and_slices=shape_and_slices, dtypes=dtypes, name=name)\n  File \"/home/qnl/miniconda3/envs/idp/lib/python3.6/site-packages/tensorflow/python/framework/op_def_library.py\", line 787, in _apply_op_helper\n    op_def=op_def)\n  File \"/home/qnl/miniconda3/envs/idp/lib/python3.6/site-packages/tensorflow/python/framework/ops.py\", line 3042, in create_op\n    op_def=op_def)\n  File \"/home/qnl/miniconda3/envs/idp/lib/python3.6/site-packages/tensorflow/python/framework/ops.py\", line 1521, in __init__\n    self._traceback = self._graph._extract_stack()  # pylint: disable=protected-access\n\nNotFoundError (see above for traceback): Key bi_rnn/bidirectional_rnn/bw/multi_rnn_cell/cell_0/basic_lstm_cell/kernel not found in checkpoint\n\t [[Node: save_1/RestoreV2_28 = RestoreV2[dtypes=[DT_FLOAT], _device=\"/job:localhost/replica:0/task:0/device:CPU:0\"](_arg_save_1/Const_0_0, save_1/RestoreV2_28/tensor_names, save_1/RestoreV2_28/shape_and_slices)]]\n",
     "output_type": "error",
     "traceback": [
      "\u001b[0;31m---------------------------------------------------------------------------\u001b[0m",
      "\u001b[0;31mNotFoundError\u001b[0m                             Traceback (most recent call last)",
      "\u001b[0;32m~/miniconda3/envs/idp/lib/python3.6/site-packages/tensorflow/python/client/session.py\u001b[0m in \u001b[0;36m_do_call\u001b[0;34m(self, fn, *args)\u001b[0m\n\u001b[1;32m   1322\u001b[0m     \u001b[0;32mtry\u001b[0m\u001b[0;34m:\u001b[0m\u001b[0;34m\u001b[0m\u001b[0m\n\u001b[0;32m-> 1323\u001b[0;31m       \u001b[0;32mreturn\u001b[0m \u001b[0mfn\u001b[0m\u001b[0;34m(\u001b[0m\u001b[0;34m*\u001b[0m\u001b[0margs\u001b[0m\u001b[0;34m)\u001b[0m\u001b[0;34m\u001b[0m\u001b[0m\n\u001b[0m\u001b[1;32m   1324\u001b[0m     \u001b[0;32mexcept\u001b[0m \u001b[0merrors\u001b[0m\u001b[0;34m.\u001b[0m\u001b[0mOpError\u001b[0m \u001b[0;32mas\u001b[0m \u001b[0me\u001b[0m\u001b[0;34m:\u001b[0m\u001b[0;34m\u001b[0m\u001b[0m\n",
      "\u001b[0;32m~/miniconda3/envs/idp/lib/python3.6/site-packages/tensorflow/python/client/session.py\u001b[0m in \u001b[0;36m_run_fn\u001b[0;34m(session, feed_dict, fetch_list, target_list, options, run_metadata)\u001b[0m\n\u001b[1;32m   1301\u001b[0m                                    \u001b[0mfeed_dict\u001b[0m\u001b[0;34m,\u001b[0m \u001b[0mfetch_list\u001b[0m\u001b[0;34m,\u001b[0m \u001b[0mtarget_list\u001b[0m\u001b[0;34m,\u001b[0m\u001b[0;34m\u001b[0m\u001b[0m\n\u001b[0;32m-> 1302\u001b[0;31m                                    status, run_metadata)\n\u001b[0m\u001b[1;32m   1303\u001b[0m \u001b[0;34m\u001b[0m\u001b[0m\n",
      "\u001b[0;32m~/miniconda3/envs/idp/lib/python3.6/site-packages/tensorflow/python/framework/errors_impl.py\u001b[0m in \u001b[0;36m__exit__\u001b[0;34m(self, type_arg, value_arg, traceback_arg)\u001b[0m\n\u001b[1;32m    472\u001b[0m             \u001b[0mcompat\u001b[0m\u001b[0;34m.\u001b[0m\u001b[0mas_text\u001b[0m\u001b[0;34m(\u001b[0m\u001b[0mc_api\u001b[0m\u001b[0;34m.\u001b[0m\u001b[0mTF_Message\u001b[0m\u001b[0;34m(\u001b[0m\u001b[0mself\u001b[0m\u001b[0;34m.\u001b[0m\u001b[0mstatus\u001b[0m\u001b[0;34m.\u001b[0m\u001b[0mstatus\u001b[0m\u001b[0;34m)\u001b[0m\u001b[0;34m)\u001b[0m\u001b[0;34m,\u001b[0m\u001b[0;34m\u001b[0m\u001b[0m\n\u001b[0;32m--> 473\u001b[0;31m             c_api.TF_GetCode(self.status.status))\n\u001b[0m\u001b[1;32m    474\u001b[0m     \u001b[0;31m# Delete the underlying status object from memory otherwise it stays alive\u001b[0m\u001b[0;34m\u001b[0m\u001b[0;34m\u001b[0m\u001b[0m\n",
      "\u001b[0;31mNotFoundError\u001b[0m: Key bi_rnn/bidirectional_rnn/bw/multi_rnn_cell/cell_0/basic_lstm_cell/kernel not found in checkpoint\n\t [[Node: save_1/RestoreV2_28 = RestoreV2[dtypes=[DT_FLOAT], _device=\"/job:localhost/replica:0/task:0/device:CPU:0\"](_arg_save_1/Const_0_0, save_1/RestoreV2_28/tensor_names, save_1/RestoreV2_28/shape_and_slices)]]",
      "\nDuring handling of the above exception, another exception occurred:\n",
      "\u001b[0;31mNotFoundError\u001b[0m                             Traceback (most recent call last)",
      "\u001b[0;32m<ipython-input-25-372f289dc1e4>\u001b[0m in \u001b[0;36m<module>\u001b[0;34m()\u001b[0m\n\u001b[1;32m      3\u001b[0m \u001b[0;34m\u001b[0m\u001b[0m\n\u001b[1;32m      4\u001b[0m     \u001b[0;31m#saver.restore(sess, logs_path+model_name)\u001b[0m\u001b[0;34m\u001b[0m\u001b[0;34m\u001b[0m\u001b[0m\n\u001b[0;32m----> 5\u001b[0;31m     \u001b[0msaver\u001b[0m\u001b[0;34m.\u001b[0m\u001b[0mrestore\u001b[0m\u001b[0;34m(\u001b[0m\u001b[0msess\u001b[0m\u001b[0;34m,\u001b[0m \u001b[0mlogs_path\u001b[0m\u001b[0;34m+\u001b[0m\u001b[0minit_model\u001b[0m\u001b[0;34m)\u001b[0m\u001b[0;34m\u001b[0m\u001b[0m\n\u001b[0m\u001b[1;32m      6\u001b[0m \u001b[0;34m\u001b[0m\u001b[0m\n\u001b[1;32m      7\u001b[0m \u001b[0;34m\u001b[0m\u001b[0m\n",
      "\u001b[0;32m~/miniconda3/envs/idp/lib/python3.6/site-packages/tensorflow/python/training/saver.py\u001b[0m in \u001b[0;36mrestore\u001b[0;34m(self, sess, save_path)\u001b[0m\n\u001b[1;32m   1678\u001b[0m     \u001b[0;32mif\u001b[0m \u001b[0mcontext\u001b[0m\u001b[0;34m.\u001b[0m\u001b[0min_graph_mode\u001b[0m\u001b[0;34m(\u001b[0m\u001b[0;34m)\u001b[0m\u001b[0;34m:\u001b[0m\u001b[0;34m\u001b[0m\u001b[0m\n\u001b[1;32m   1679\u001b[0m       sess.run(self.saver_def.restore_op_name,\n\u001b[0;32m-> 1680\u001b[0;31m                {self.saver_def.filename_tensor_name: save_path})\n\u001b[0m\u001b[1;32m   1681\u001b[0m     \u001b[0;32melse\u001b[0m\u001b[0;34m:\u001b[0m\u001b[0;34m\u001b[0m\u001b[0m\n\u001b[1;32m   1682\u001b[0m       \u001b[0mself\u001b[0m\u001b[0;34m.\u001b[0m\u001b[0m_build_eager\u001b[0m\u001b[0;34m(\u001b[0m\u001b[0msave_path\u001b[0m\u001b[0;34m,\u001b[0m \u001b[0mbuild_save\u001b[0m\u001b[0;34m=\u001b[0m\u001b[0;32mFalse\u001b[0m\u001b[0;34m,\u001b[0m \u001b[0mbuild_restore\u001b[0m\u001b[0;34m=\u001b[0m\u001b[0;32mTrue\u001b[0m\u001b[0;34m)\u001b[0m\u001b[0;34m\u001b[0m\u001b[0m\n",
      "\u001b[0;32m~/miniconda3/envs/idp/lib/python3.6/site-packages/tensorflow/python/client/session.py\u001b[0m in \u001b[0;36mrun\u001b[0;34m(self, fetches, feed_dict, options, run_metadata)\u001b[0m\n\u001b[1;32m    887\u001b[0m     \u001b[0;32mtry\u001b[0m\u001b[0;34m:\u001b[0m\u001b[0;34m\u001b[0m\u001b[0m\n\u001b[1;32m    888\u001b[0m       result = self._run(None, fetches, feed_dict, options_ptr,\n\u001b[0;32m--> 889\u001b[0;31m                          run_metadata_ptr)\n\u001b[0m\u001b[1;32m    890\u001b[0m       \u001b[0;32mif\u001b[0m \u001b[0mrun_metadata\u001b[0m\u001b[0;34m:\u001b[0m\u001b[0;34m\u001b[0m\u001b[0m\n\u001b[1;32m    891\u001b[0m         \u001b[0mproto_data\u001b[0m \u001b[0;34m=\u001b[0m \u001b[0mtf_session\u001b[0m\u001b[0;34m.\u001b[0m\u001b[0mTF_GetBuffer\u001b[0m\u001b[0;34m(\u001b[0m\u001b[0mrun_metadata_ptr\u001b[0m\u001b[0;34m)\u001b[0m\u001b[0;34m\u001b[0m\u001b[0m\n",
      "\u001b[0;32m~/miniconda3/envs/idp/lib/python3.6/site-packages/tensorflow/python/client/session.py\u001b[0m in \u001b[0;36m_run\u001b[0;34m(self, handle, fetches, feed_dict, options, run_metadata)\u001b[0m\n\u001b[1;32m   1118\u001b[0m     \u001b[0;32mif\u001b[0m \u001b[0mfinal_fetches\u001b[0m \u001b[0;32mor\u001b[0m \u001b[0mfinal_targets\u001b[0m \u001b[0;32mor\u001b[0m \u001b[0;34m(\u001b[0m\u001b[0mhandle\u001b[0m \u001b[0;32mand\u001b[0m \u001b[0mfeed_dict_tensor\u001b[0m\u001b[0;34m)\u001b[0m\u001b[0;34m:\u001b[0m\u001b[0;34m\u001b[0m\u001b[0m\n\u001b[1;32m   1119\u001b[0m       results = self._do_run(handle, final_targets, final_fetches,\n\u001b[0;32m-> 1120\u001b[0;31m                              feed_dict_tensor, options, run_metadata)\n\u001b[0m\u001b[1;32m   1121\u001b[0m     \u001b[0;32melse\u001b[0m\u001b[0;34m:\u001b[0m\u001b[0;34m\u001b[0m\u001b[0m\n\u001b[1;32m   1122\u001b[0m       \u001b[0mresults\u001b[0m \u001b[0;34m=\u001b[0m \u001b[0;34m[\u001b[0m\u001b[0;34m]\u001b[0m\u001b[0;34m\u001b[0m\u001b[0m\n",
      "\u001b[0;32m~/miniconda3/envs/idp/lib/python3.6/site-packages/tensorflow/python/client/session.py\u001b[0m in \u001b[0;36m_do_run\u001b[0;34m(self, handle, target_list, fetch_list, feed_dict, options, run_metadata)\u001b[0m\n\u001b[1;32m   1315\u001b[0m     \u001b[0;32mif\u001b[0m \u001b[0mhandle\u001b[0m \u001b[0;32mis\u001b[0m \u001b[0;32mNone\u001b[0m\u001b[0;34m:\u001b[0m\u001b[0;34m\u001b[0m\u001b[0m\n\u001b[1;32m   1316\u001b[0m       return self._do_call(_run_fn, self._session, feeds, fetches, targets,\n\u001b[0;32m-> 1317\u001b[0;31m                            options, run_metadata)\n\u001b[0m\u001b[1;32m   1318\u001b[0m     \u001b[0;32melse\u001b[0m\u001b[0;34m:\u001b[0m\u001b[0;34m\u001b[0m\u001b[0m\n\u001b[1;32m   1319\u001b[0m       \u001b[0;32mreturn\u001b[0m \u001b[0mself\u001b[0m\u001b[0;34m.\u001b[0m\u001b[0m_do_call\u001b[0m\u001b[0;34m(\u001b[0m\u001b[0m_prun_fn\u001b[0m\u001b[0;34m,\u001b[0m \u001b[0mself\u001b[0m\u001b[0;34m.\u001b[0m\u001b[0m_session\u001b[0m\u001b[0;34m,\u001b[0m \u001b[0mhandle\u001b[0m\u001b[0;34m,\u001b[0m \u001b[0mfeeds\u001b[0m\u001b[0;34m,\u001b[0m \u001b[0mfetches\u001b[0m\u001b[0;34m)\u001b[0m\u001b[0;34m\u001b[0m\u001b[0m\n",
      "\u001b[0;32m~/miniconda3/envs/idp/lib/python3.6/site-packages/tensorflow/python/client/session.py\u001b[0m in \u001b[0;36m_do_call\u001b[0;34m(self, fn, *args)\u001b[0m\n\u001b[1;32m   1334\u001b[0m         \u001b[0;32mexcept\u001b[0m \u001b[0mKeyError\u001b[0m\u001b[0;34m:\u001b[0m\u001b[0;34m\u001b[0m\u001b[0m\n\u001b[1;32m   1335\u001b[0m           \u001b[0;32mpass\u001b[0m\u001b[0;34m\u001b[0m\u001b[0m\n\u001b[0;32m-> 1336\u001b[0;31m       \u001b[0;32mraise\u001b[0m \u001b[0mtype\u001b[0m\u001b[0;34m(\u001b[0m\u001b[0me\u001b[0m\u001b[0;34m)\u001b[0m\u001b[0;34m(\u001b[0m\u001b[0mnode_def\u001b[0m\u001b[0;34m,\u001b[0m \u001b[0mop\u001b[0m\u001b[0;34m,\u001b[0m \u001b[0mmessage\u001b[0m\u001b[0;34m)\u001b[0m\u001b[0;34m\u001b[0m\u001b[0m\n\u001b[0m\u001b[1;32m   1337\u001b[0m \u001b[0;34m\u001b[0m\u001b[0m\n\u001b[1;32m   1338\u001b[0m   \u001b[0;32mdef\u001b[0m \u001b[0m_extend_graph\u001b[0m\u001b[0;34m(\u001b[0m\u001b[0mself\u001b[0m\u001b[0;34m)\u001b[0m\u001b[0;34m:\u001b[0m\u001b[0;34m\u001b[0m\u001b[0m\n",
      "\u001b[0;31mNotFoundError\u001b[0m: Key bi_rnn/bidirectional_rnn/bw/multi_rnn_cell/cell_0/basic_lstm_cell/kernel not found in checkpoint\n\t [[Node: save_1/RestoreV2_28 = RestoreV2[dtypes=[DT_FLOAT], _device=\"/job:localhost/replica:0/task:0/device:CPU:0\"](_arg_save_1/Const_0_0, save_1/RestoreV2_28/tensor_names, save_1/RestoreV2_28/shape_and_slices)]]\n\nCaused by op 'save_1/RestoreV2_28', defined at:\n  File \"/home/qnl/miniconda3/envs/idp/lib/python3.6/runpy.py\", line 193, in _run_module_as_main\n    \"__main__\", mod_spec)\n  File \"/home/qnl/miniconda3/envs/idp/lib/python3.6/runpy.py\", line 85, in _run_code\n    exec(code, run_globals)\n  File \"/home/qnl/miniconda3/envs/idp/lib/python3.6/site-packages/ipykernel_launcher.py\", line 16, in <module>\n    app.launch_new_instance()\n  File \"/home/qnl/miniconda3/envs/idp/lib/python3.6/site-packages/traitlets/config/application.py\", line 658, in launch_instance\n    app.start()\n  File \"/home/qnl/miniconda3/envs/idp/lib/python3.6/site-packages/ipykernel/kernelapp.py\", line 477, in start\n    ioloop.IOLoop.instance().start()\n  File \"/home/qnl/miniconda3/envs/idp/lib/python3.6/site-packages/zmq/eventloop/ioloop.py\", line 177, in start\n    super(ZMQIOLoop, self).start()\n  File \"/home/qnl/miniconda3/envs/idp/lib/python3.6/site-packages/tornado/ioloop.py\", line 888, in start\n    handler_func(fd_obj, events)\n  File \"/home/qnl/miniconda3/envs/idp/lib/python3.6/site-packages/tornado/stack_context.py\", line 277, in null_wrapper\n    return fn(*args, **kwargs)\n  File \"/home/qnl/miniconda3/envs/idp/lib/python3.6/site-packages/zmq/eventloop/zmqstream.py\", line 440, in _handle_events\n    self._handle_recv()\n  File \"/home/qnl/miniconda3/envs/idp/lib/python3.6/site-packages/zmq/eventloop/zmqstream.py\", line 472, in _handle_recv\n    self._run_callback(callback, msg)\n  File \"/home/qnl/miniconda3/envs/idp/lib/python3.6/site-packages/zmq/eventloop/zmqstream.py\", line 414, in _run_callback\n    callback(*args, **kwargs)\n  File \"/home/qnl/miniconda3/envs/idp/lib/python3.6/site-packages/tornado/stack_context.py\", line 277, in null_wrapper\n    return fn(*args, **kwargs)\n  File \"/home/qnl/miniconda3/envs/idp/lib/python3.6/site-packages/ipykernel/kernelbase.py\", line 283, in dispatcher\n    return self.dispatch_shell(stream, msg)\n  File \"/home/qnl/miniconda3/envs/idp/lib/python3.6/site-packages/ipykernel/kernelbase.py\", line 235, in dispatch_shell\n    handler(stream, idents, msg)\n  File \"/home/qnl/miniconda3/envs/idp/lib/python3.6/site-packages/ipykernel/kernelbase.py\", line 399, in execute_request\n    user_expressions, allow_stdin)\n  File \"/home/qnl/miniconda3/envs/idp/lib/python3.6/site-packages/ipykernel/ipkernel.py\", line 196, in do_execute\n    res = shell.run_cell(code, store_history=store_history, silent=silent)\n  File \"/home/qnl/miniconda3/envs/idp/lib/python3.6/site-packages/ipykernel/zmqshell.py\", line 533, in run_cell\n    return super(ZMQInteractiveShell, self).run_cell(*args, **kwargs)\n  File \"/home/qnl/miniconda3/envs/idp/lib/python3.6/site-packages/IPython/core/interactiveshell.py\", line 2698, in run_cell\n    interactivity=interactivity, compiler=compiler, result=result)\n  File \"/home/qnl/miniconda3/envs/idp/lib/python3.6/site-packages/IPython/core/interactiveshell.py\", line 2802, in run_ast_nodes\n    if self.run_code(code, result):\n  File \"/home/qnl/miniconda3/envs/idp/lib/python3.6/site-packages/IPython/core/interactiveshell.py\", line 2862, in run_code\n    exec(code_obj, self.user_global_ns, self.user_ns)\n  File \"<ipython-input-24-75e696280e6c>\", line 12, in <module>\n    saver = tf.train.Saver()\n  File \"/home/qnl/miniconda3/envs/idp/lib/python3.6/site-packages/tensorflow/python/training/saver.py\", line 1233, in __init__\n    self.build()\n  File \"/home/qnl/miniconda3/envs/idp/lib/python3.6/site-packages/tensorflow/python/training/saver.py\", line 1242, in build\n    self._build(self._filename, build_save=True, build_restore=True)\n  File \"/home/qnl/miniconda3/envs/idp/lib/python3.6/site-packages/tensorflow/python/training/saver.py\", line 1278, in _build\n    build_save=build_save, build_restore=build_restore)\n  File \"/home/qnl/miniconda3/envs/idp/lib/python3.6/site-packages/tensorflow/python/training/saver.py\", line 759, in _build_internal\n    restore_sequentially, reshape)\n  File \"/home/qnl/miniconda3/envs/idp/lib/python3.6/site-packages/tensorflow/python/training/saver.py\", line 428, in _AddRestoreOps\n    tensors = self.restore_op(filename_tensor, saveable, preferred_shard)\n  File \"/home/qnl/miniconda3/envs/idp/lib/python3.6/site-packages/tensorflow/python/training/saver.py\", line 268, in restore_op\n    [spec.tensor.dtype])[0])\n  File \"/home/qnl/miniconda3/envs/idp/lib/python3.6/site-packages/tensorflow/python/ops/gen_io_ops.py\", line 1021, in restore_v2\n    shape_and_slices=shape_and_slices, dtypes=dtypes, name=name)\n  File \"/home/qnl/miniconda3/envs/idp/lib/python3.6/site-packages/tensorflow/python/framework/op_def_library.py\", line 787, in _apply_op_helper\n    op_def=op_def)\n  File \"/home/qnl/miniconda3/envs/idp/lib/python3.6/site-packages/tensorflow/python/framework/ops.py\", line 3042, in create_op\n    op_def=op_def)\n  File \"/home/qnl/miniconda3/envs/idp/lib/python3.6/site-packages/tensorflow/python/framework/ops.py\", line 1521, in __init__\n    self._traceback = self._graph._extract_stack()  # pylint: disable=protected-access\n\nNotFoundError (see above for traceback): Key bi_rnn/bidirectional_rnn/bw/multi_rnn_cell/cell_0/basic_lstm_cell/kernel not found in checkpoint\n\t [[Node: save_1/RestoreV2_28 = RestoreV2[dtypes=[DT_FLOAT], _device=\"/job:localhost/replica:0/task:0/device:CPU:0\"](_arg_save_1/Const_0_0, save_1/RestoreV2_28/tensor_names, save_1/RestoreV2_28/shape_and_slices)]]\n"
     ]
    }
   ],
   "source": [
    "with tf.Session() as sess:\n",
    "    sess.run(init)\n",
    "    \n",
    "    #saver.restore(sess, logs_path+model_name)\n",
    "    saver.restore(sess, logs_path+init_model)\n",
    "\n",
    "    \n",
    "    print(\"Model restored.\")\n",
    "    plothist=True\n",
    "    plotgraphs=True\n",
    "    Neval=8\n",
    "    \n",
    "    train_data,train_data_retro,train_labels,train_time,train_prep = load_prepdata(file_list[n_file],Neval,time_list,thresholds,n_wait,nshift,shuffledata,filename_start,file_list,plothist=False,plotgraphs=False)\n",
    "    train_labels_retro,train_prep_retro = convert_retro(train_labels,train_prep)\n",
    "\n",
    "    test_data = train_data.reshape((-1, n_steps, n_input))\n",
    "    test_data_retro = train_data_retro.reshape((-1, n_steps, n_input))\n",
    "\n",
    "    test_label = train_labels\n",
    "    test_label_retro=train_labels_retro\n",
    "    \n",
    "    test_time=train_time\n",
    "    test_time_retro=train_time\n",
    "    \n",
    "    test_rho=train_prep\n",
    "    test_rho_retro=train_prep_retro\n",
    "    \n",
    "    traj_tomo,traj_retro,loss,loss_retro=get_traj_pred_retro(test_data, test_label, test_time, test_rho,\n",
    "                                             test_data_retro,test_label_retro,test_time_retro,test_rho_retro,batch_size)"
   ]
  },
  {
   "cell_type": "code",
   "execution_count": null,
   "metadata": {
    "collapsed": true,
    "scrolled": false
   },
   "outputs": [],
   "source": [
    "traj_t=traj_tomo\n",
    "test_label_time=test_label\n",
    "error,x_tot,y_tot,z_tot=accuracy_tomo(traj_tomo, test_label_time,  N=31)\n",
    "\n",
    "fig = plt.figure(figsize=(14, 4))\n",
    "fig.suptitle(' acuracy total: '+\"{:.2f}\".format(error.sum()*100)+\"%\")\n",
    "\n",
    "ax1 = fig.add_subplot(141)\n",
    "ax1.errorbar(x_tot[:,0], x_tot[:,1], yerr=np.sqrt(x_tot[:,1]*(1.-x_tot[:,1])/x_tot[:,2]), xerr=None, fmt='o')\n",
    "ax1.plot(np.linspace(0,1,10),np.linspace(0,1,10))\n",
    "ax1.set_aspect('equal')\n",
    "ax1.set_title(\"acuracy X: \"+\"{:.2f}\".format(error[0]*100)+\"%\")\n",
    "\n",
    "ax2 = fig.add_subplot(142)\n",
    "ax2.errorbar(y_tot[:,0], y_tot[:,1], yerr=np.sqrt(y_tot[:,1]*(1.-y_tot[:,1])/y_tot[:,2]), xerr=None, fmt='o')\n",
    "ax2.plot(np.linspace(0,1,10),np.linspace(0,1,10))\n",
    "ax2.set_aspect('equal')\n",
    "ax2.set_title(\"acuracy Y: \"+\"{:.2f}\".format(error[1]*100)+\"%\")\n",
    "\n",
    "\n",
    "ax3 = fig.add_subplot(143)\n",
    "ax3.errorbar(z_tot[:,0], z_tot[:,1], yerr=np.sqrt(z_tot[:,1]*(1.-z_tot[:,1])/z_tot[:,2]), xerr=None, fmt='o')\n",
    "ax3.plot(np.linspace(0,1,10),np.linspace(0,1,10))\n",
    "ax3.set_aspect('equal')\n",
    "ax3.set_title(\"acuracy Z: \"+\"{:.2f}\".format(error[2]*100)+\"%\")\n",
    "\n",
    "for j in np.arange(N_time):\n",
    "    maskarray_time=(test_time==time_list[j]+n_wait)\n",
    "    traj_tomo_time=traj_t[maskarray_time]\n",
    "    test_label_time=test_label[maskarray_time]\n",
    "\n",
    "    error,x_tot,y_tot,z_tot=accuracy_tomo(traj_tomo_time, test_label_time,  N=31)\n",
    "\n",
    "    fig = plt.figure(figsize=(14, 4))\n",
    "    fig.suptitle(' time:'+str(time_list[j])+' acuracy total: '+\"{:.2f}\".format(error.sum()*100)+\"%\")\n",
    "\n",
    "    \n",
    "    ax1 = fig.add_subplot(141)\n",
    "    ax1.errorbar(x_tot[:,0], x_tot[:,1], yerr=np.sqrt(x_tot[:,1]*(1.-x_tot[:,1])/x_tot[:,2]), xerr=None, fmt='o')\n",
    "    ax1.plot(np.linspace(0,1,10),np.linspace(0,1,10))\n",
    "    ax1.set_aspect('equal')\n",
    "    ax1.set_title(\"acuracy X: \"+\"{:.2f}\".format(error[0]*100)+\"%\")\n",
    "    \n",
    "    ax2 = fig.add_subplot(142)\n",
    "    ax2.errorbar(y_tot[:,0], y_tot[:,1], yerr=np.sqrt(y_tot[:,1]*(1.-y_tot[:,1])/y_tot[:,2]), xerr=None, fmt='o')\n",
    "    ax2.plot(np.linspace(0,1,10),np.linspace(0,1,10))\n",
    "    ax2.set_aspect('equal')\n",
    "    ax2.set_title(\"acuracy Y: \"+\"{:.2f}\".format(error[1]*100)+\"%\")\n",
    "\n",
    "    \n",
    "    ax3 = fig.add_subplot(143)\n",
    "    ax3.errorbar(z_tot[:,0], z_tot[:,1], yerr=np.sqrt(z_tot[:,1]*(1.-z_tot[:,1])/z_tot[:,2]), xerr=None, fmt='o')\n",
    "    ax3.plot(np.linspace(0,1,10),np.linspace(0,1,10))\n",
    "    ax3.set_aspect('equal')\n",
    "    ax3.set_title(\"acuracy Z: \"+\"{:.2f}\".format(error[2]*100)+\"%\")"
   ]
  },
  {
   "cell_type": "code",
   "execution_count": null,
   "metadata": {
    "collapsed": true,
    "scrolled": false
   },
   "outputs": [],
   "source": [
    "traj_t=traj_retro\n",
    "test_label_time=test_label_retro\n",
    "error,x_tot,y_tot,z_tot=accuracy_tomo(traj_t, test_label_time,  N=31)\n",
    "\n",
    "fig = plt.figure(figsize=(14, 4))\n",
    "fig.suptitle(' acuracy total: '+\"{:.2f}\".format(error.sum()*100)+\"%\")\n",
    "\n",
    "ax1 = fig.add_subplot(141)\n",
    "ax1.errorbar(x_tot[:,0], x_tot[:,1], yerr=np.sqrt(x_tot[:,1]*(1.-x_tot[:,1])/x_tot[:,2]), xerr=None, fmt='o')\n",
    "ax1.plot(np.linspace(0,1,10),np.linspace(0,1,10))\n",
    "ax1.set_aspect('equal')\n",
    "ax1.set_title(\"acuracy X: \"+\"{:.2f}\".format(error[0]*100)+\"%\")\n",
    "\n",
    "ax2 = fig.add_subplot(142)\n",
    "ax2.errorbar(y_tot[:,0], y_tot[:,1], yerr=np.sqrt(y_tot[:,1]*(1.-y_tot[:,1])/y_tot[:,2]), xerr=None, fmt='o')\n",
    "ax2.plot(np.linspace(0,1,10),np.linspace(0,1,10))\n",
    "ax2.set_aspect('equal')\n",
    "ax2.set_title(\"acuracy Y: \"+\"{:.2f}\".format(error[1]*100)+\"%\")\n",
    "\n",
    "\n",
    "ax3 = fig.add_subplot(143)\n",
    "ax3.errorbar(z_tot[:,0], z_tot[:,1], yerr=np.sqrt(z_tot[:,1]*(1.-z_tot[:,1])/z_tot[:,2]), xerr=None, fmt='o')\n",
    "ax3.plot(np.linspace(0,1,10),np.linspace(0,1,10))\n",
    "ax3.set_aspect('equal')\n",
    "ax3.set_title(\"acuracy Z: \"+\"{:.2f}\".format(error[2]*100)+\"%\")\n",
    "\n",
    "for j in np.arange(N_time):\n",
    "    maskarray_time=(test_time==time_list[j]+n_wait)\n",
    "    traj_t_time=traj_t[maskarray_time]\n",
    "    test_label_time=test_label_retro[maskarray_time]\n",
    "\n",
    "    error,x_tot,y_tot,z_tot=accuracy_tomo(traj_t_time, test_label_time,  N=31)\n",
    "\n",
    "    fig = plt.figure(figsize=(14, 4))\n",
    "    fig.suptitle(' time:'+str(time_list[j])+' acuracy total: '+\"{:.2f}\".format(error.sum()*100)+\"%\")\n",
    "\n",
    "    \n",
    "    ax1 = fig.add_subplot(141)\n",
    "    ax1.errorbar(x_tot[:,0], x_tot[:,1], yerr=np.sqrt(x_tot[:,1]*(1.-x_tot[:,1])/x_tot[:,2]), xerr=None, fmt='o')\n",
    "    ax1.plot(np.linspace(0,1,10),np.linspace(0,1,10))\n",
    "    ax1.set_aspect('equal')\n",
    "    ax1.set_title(\"acuracy X: \"+\"{:.2f}\".format(error[0]*100)+\"%\")\n",
    "    \n",
    "    ax2 = fig.add_subplot(142)\n",
    "    ax2.errorbar(y_tot[:,0], y_tot[:,1], yerr=np.sqrt(y_tot[:,1]*(1.-y_tot[:,1])/y_tot[:,2]), xerr=None, fmt='o')\n",
    "    ax2.plot(np.linspace(0,1,10),np.linspace(0,1,10))\n",
    "    ax2.set_aspect('equal')\n",
    "    ax2.set_title(\"acuracy Y: \"+\"{:.2f}\".format(error[1]*100)+\"%\")\n",
    "\n",
    "    \n",
    "    ax3 = fig.add_subplot(143)\n",
    "    ax3.errorbar(z_tot[:,0], z_tot[:,1], yerr=np.sqrt(z_tot[:,1]*(1.-z_tot[:,1])/z_tot[:,2]), xerr=None, fmt='o')\n",
    "    ax3.plot(np.linspace(0,1,10),np.linspace(0,1,10))\n",
    "    ax3.set_aspect('equal')\n",
    "    ax3.set_title(\"acuracy Z: \"+\"{:.2f}\".format(error[2]*100)+\"%\")"
   ]
  },
  {
   "cell_type": "code",
   "execution_count": null,
   "metadata": {
    "collapsed": true,
    "scrolled": false
   },
   "outputs": [],
   "source": [
    "traj_t=traj_tomo\n",
    "traj_time=traj_t[test_time!=time_list[0]+n_wait]\n",
    "Nbin=61\n",
    "fig=plt.figure(figsize=(10,5))\n",
    "ax = fig.add_subplot(1,3,1)\n",
    "ax.add_artist(plt.Circle((0.5, 0.5), 0.5, color='red', fill=False))\n",
    "plt.hist2d(traj_time[:,1], traj_time[:,2],bins=np.linspace(0,1,Nbin),norm=LogNorm())\n",
    "ax.set_aspect('equal')\n",
    "\n",
    "ax = fig.add_subplot(1,3,2)\n",
    "ax.add_artist(plt.Circle((0.5, 0.5), 0.5, color='red', fill=False))\n",
    "plt.hist2d(traj_time[:,0], traj_time[:,2],bins=np.linspace(0,1,Nbin),norm=LogNorm())\n",
    "ax.set_aspect('equal')\n",
    "\n",
    "ax = fig.add_subplot(1,3,3)\n",
    "ax.add_artist(plt.Circle((0.5, 0.5), 0.5, color='red', fill=False))\n",
    "plt.hist2d(traj_time[:,0], traj_time[:,1],bins=np.linspace(0,1,Nbin),norm=LogNorm())\n",
    "ax.set_aspect('equal')\n",
    "\n",
    "for i in np.arange(1,20):\n",
    "    traj_time=traj_t[test_time==time_list[i]+n_wait]\n",
    "\n",
    "    fig=plt.figure(figsize=(10,5))\n",
    "    ax = fig.add_subplot(1,3,1)\n",
    "    ax.add_artist(plt.Circle((0.5, 0.5), 0.5, color='white', fill=False))\n",
    "    plt.hist2d(traj_time[:,1], traj_time[:,2],bins=np.linspace(0,1,70),norm=LogNorm())\n",
    "    ax.set_aspect('equal')\n",
    "\n",
    "    ax = fig.add_subplot(1,3,2)\n",
    "    ax.add_artist(plt.Circle((0.5, 0.5), 0.5, color='white', fill=False))\n",
    "    plt.hist2d(traj_time[:,0], traj_time[:,2],bins=np.linspace(0,1,70),norm=LogNorm())\n",
    "    ax.set_aspect('equal')\n",
    "\n",
    "    ax = fig.add_subplot(1,3,3)\n",
    "    ax.add_artist(plt.Circle((0.5, 0.5), 0.5, color='white', fill=False))\n",
    "    plt.hist2d(traj_time[:,0], traj_time[:,1],bins=np.linspace(0,1,70),norm=LogNorm())\n",
    "    ax.set_aspect('equal')\n"
   ]
  },
  {
   "cell_type": "code",
   "execution_count": null,
   "metadata": {
    "collapsed": true,
    "scrolled": false
   },
   "outputs": [],
   "source": [
    "traj_t=traj_retro\n",
    "traj_time=traj_t[test_time!=time_list[0]+n_wait]\n",
    "Nbin=61\n",
    "fig=plt.figure(figsize=(10,5))\n",
    "ax = fig.add_subplot(1,3,1)\n",
    "ax.add_artist(plt.Circle((0.5, 0.5), 0.5, color='red', fill=False))\n",
    "plt.hist2d(traj_time[:,1], traj_time[:,2],bins=np.linspace(0,1,Nbin),norm=LogNorm())\n",
    "ax.set_aspect('equal')\n",
    "\n",
    "ax = fig.add_subplot(1,3,2)\n",
    "ax.add_artist(plt.Circle((0.5, 0.5), 0.5, color='red', fill=False))\n",
    "plt.hist2d(traj_time[:,0], traj_time[:,2],bins=np.linspace(0,1,Nbin),norm=LogNorm())\n",
    "ax.set_aspect('equal')\n",
    "\n",
    "ax = fig.add_subplot(1,3,3)\n",
    "ax.add_artist(plt.Circle((0.5, 0.5), 0.5, color='red', fill=False))\n",
    "plt.hist2d(traj_time[:,0], traj_time[:,1],bins=np.linspace(0,1,Nbin),norm=LogNorm())\n",
    "ax.set_aspect('equal')\n",
    "\n",
    "for i in np.arange(1,20):\n",
    "    traj_time=traj_t[test_time==time_list[i]+n_wait]\n",
    "\n",
    "    fig=plt.figure(figsize=(10,5))\n",
    "    ax = fig.add_subplot(1,3,1)\n",
    "    ax.add_artist(plt.Circle((0.5, 0.5), 0.5, color='white', fill=False))\n",
    "    plt.hist2d(traj_time[:,1], traj_time[:,2],bins=np.linspace(0,1,70),norm=LogNorm())\n",
    "    ax.set_aspect('equal')\n",
    "\n",
    "    ax = fig.add_subplot(1,3,2)\n",
    "    ax.add_artist(plt.Circle((0.5, 0.5), 0.5, color='white', fill=False))\n",
    "    plt.hist2d(traj_time[:,0], traj_time[:,2],bins=np.linspace(0,1,70),norm=LogNorm())\n",
    "    ax.set_aspect('equal')\n",
    "\n",
    "    ax = fig.add_subplot(1,3,3)\n",
    "    ax.add_artist(plt.Circle((0.5, 0.5), 0.5, color='white', fill=False))\n",
    "    plt.hist2d(traj_time[:,0], traj_time[:,1],bins=np.linspace(0,1,70),norm=LogNorm())\n",
    "    ax.set_aspect('equal')\n"
   ]
  },
  {
   "cell_type": "markdown",
   "metadata": {
    "collapsed": true
   },
   "source": [
    "# Trajectory analysis"
   ]
  },
  {
   "cell_type": "code",
   "execution_count": 26,
   "metadata": {},
   "outputs": [
    {
     "name": "stdout",
     "output_type": "stream",
     "text": [
      "INFO:tensorflow:Restoring parameters from model/prediction_retrodiction/prediction_retrodiction_tomo_dropout_32HS_v1\n"
     ]
    },
    {
     "ename": "NotFoundError",
     "evalue": "Key bi_rnn/bidirectional_rnn/bw/multi_rnn_cell/cell_0/basic_lstm_cell/bias not found in checkpoint\n\t [[Node: save_1/RestoreV2_25 = RestoreV2[dtypes=[DT_FLOAT], _device=\"/job:localhost/replica:0/task:0/device:CPU:0\"](_arg_save_1/Const_0_0, save_1/RestoreV2_25/tensor_names, save_1/RestoreV2_25/shape_and_slices)]]\n\nCaused by op 'save_1/RestoreV2_25', defined at:\n  File \"/home/qnl/miniconda3/envs/idp/lib/python3.6/runpy.py\", line 193, in _run_module_as_main\n    \"__main__\", mod_spec)\n  File \"/home/qnl/miniconda3/envs/idp/lib/python3.6/runpy.py\", line 85, in _run_code\n    exec(code, run_globals)\n  File \"/home/qnl/miniconda3/envs/idp/lib/python3.6/site-packages/ipykernel_launcher.py\", line 16, in <module>\n    app.launch_new_instance()\n  File \"/home/qnl/miniconda3/envs/idp/lib/python3.6/site-packages/traitlets/config/application.py\", line 658, in launch_instance\n    app.start()\n  File \"/home/qnl/miniconda3/envs/idp/lib/python3.6/site-packages/ipykernel/kernelapp.py\", line 477, in start\n    ioloop.IOLoop.instance().start()\n  File \"/home/qnl/miniconda3/envs/idp/lib/python3.6/site-packages/zmq/eventloop/ioloop.py\", line 177, in start\n    super(ZMQIOLoop, self).start()\n  File \"/home/qnl/miniconda3/envs/idp/lib/python3.6/site-packages/tornado/ioloop.py\", line 888, in start\n    handler_func(fd_obj, events)\n  File \"/home/qnl/miniconda3/envs/idp/lib/python3.6/site-packages/tornado/stack_context.py\", line 277, in null_wrapper\n    return fn(*args, **kwargs)\n  File \"/home/qnl/miniconda3/envs/idp/lib/python3.6/site-packages/zmq/eventloop/zmqstream.py\", line 440, in _handle_events\n    self._handle_recv()\n  File \"/home/qnl/miniconda3/envs/idp/lib/python3.6/site-packages/zmq/eventloop/zmqstream.py\", line 472, in _handle_recv\n    self._run_callback(callback, msg)\n  File \"/home/qnl/miniconda3/envs/idp/lib/python3.6/site-packages/zmq/eventloop/zmqstream.py\", line 414, in _run_callback\n    callback(*args, **kwargs)\n  File \"/home/qnl/miniconda3/envs/idp/lib/python3.6/site-packages/tornado/stack_context.py\", line 277, in null_wrapper\n    return fn(*args, **kwargs)\n  File \"/home/qnl/miniconda3/envs/idp/lib/python3.6/site-packages/ipykernel/kernelbase.py\", line 283, in dispatcher\n    return self.dispatch_shell(stream, msg)\n  File \"/home/qnl/miniconda3/envs/idp/lib/python3.6/site-packages/ipykernel/kernelbase.py\", line 235, in dispatch_shell\n    handler(stream, idents, msg)\n  File \"/home/qnl/miniconda3/envs/idp/lib/python3.6/site-packages/ipykernel/kernelbase.py\", line 399, in execute_request\n    user_expressions, allow_stdin)\n  File \"/home/qnl/miniconda3/envs/idp/lib/python3.6/site-packages/ipykernel/ipkernel.py\", line 196, in do_execute\n    res = shell.run_cell(code, store_history=store_history, silent=silent)\n  File \"/home/qnl/miniconda3/envs/idp/lib/python3.6/site-packages/ipykernel/zmqshell.py\", line 533, in run_cell\n    return super(ZMQInteractiveShell, self).run_cell(*args, **kwargs)\n  File \"/home/qnl/miniconda3/envs/idp/lib/python3.6/site-packages/IPython/core/interactiveshell.py\", line 2698, in run_cell\n    interactivity=interactivity, compiler=compiler, result=result)\n  File \"/home/qnl/miniconda3/envs/idp/lib/python3.6/site-packages/IPython/core/interactiveshell.py\", line 2802, in run_ast_nodes\n    if self.run_code(code, result):\n  File \"/home/qnl/miniconda3/envs/idp/lib/python3.6/site-packages/IPython/core/interactiveshell.py\", line 2862, in run_code\n    exec(code_obj, self.user_global_ns, self.user_ns)\n  File \"<ipython-input-24-75e696280e6c>\", line 12, in <module>\n    saver = tf.train.Saver()\n  File \"/home/qnl/miniconda3/envs/idp/lib/python3.6/site-packages/tensorflow/python/training/saver.py\", line 1233, in __init__\n    self.build()\n  File \"/home/qnl/miniconda3/envs/idp/lib/python3.6/site-packages/tensorflow/python/training/saver.py\", line 1242, in build\n    self._build(self._filename, build_save=True, build_restore=True)\n  File \"/home/qnl/miniconda3/envs/idp/lib/python3.6/site-packages/tensorflow/python/training/saver.py\", line 1278, in _build\n    build_save=build_save, build_restore=build_restore)\n  File \"/home/qnl/miniconda3/envs/idp/lib/python3.6/site-packages/tensorflow/python/training/saver.py\", line 759, in _build_internal\n    restore_sequentially, reshape)\n  File \"/home/qnl/miniconda3/envs/idp/lib/python3.6/site-packages/tensorflow/python/training/saver.py\", line 428, in _AddRestoreOps\n    tensors = self.restore_op(filename_tensor, saveable, preferred_shard)\n  File \"/home/qnl/miniconda3/envs/idp/lib/python3.6/site-packages/tensorflow/python/training/saver.py\", line 268, in restore_op\n    [spec.tensor.dtype])[0])\n  File \"/home/qnl/miniconda3/envs/idp/lib/python3.6/site-packages/tensorflow/python/ops/gen_io_ops.py\", line 1021, in restore_v2\n    shape_and_slices=shape_and_slices, dtypes=dtypes, name=name)\n  File \"/home/qnl/miniconda3/envs/idp/lib/python3.6/site-packages/tensorflow/python/framework/op_def_library.py\", line 787, in _apply_op_helper\n    op_def=op_def)\n  File \"/home/qnl/miniconda3/envs/idp/lib/python3.6/site-packages/tensorflow/python/framework/ops.py\", line 3042, in create_op\n    op_def=op_def)\n  File \"/home/qnl/miniconda3/envs/idp/lib/python3.6/site-packages/tensorflow/python/framework/ops.py\", line 1521, in __init__\n    self._traceback = self._graph._extract_stack()  # pylint: disable=protected-access\n\nNotFoundError (see above for traceback): Key bi_rnn/bidirectional_rnn/bw/multi_rnn_cell/cell_0/basic_lstm_cell/bias not found in checkpoint\n\t [[Node: save_1/RestoreV2_25 = RestoreV2[dtypes=[DT_FLOAT], _device=\"/job:localhost/replica:0/task:0/device:CPU:0\"](_arg_save_1/Const_0_0, save_1/RestoreV2_25/tensor_names, save_1/RestoreV2_25/shape_and_slices)]]\n",
     "output_type": "error",
     "traceback": [
      "\u001b[0;31m---------------------------------------------------------------------------\u001b[0m",
      "\u001b[0;31mNotFoundError\u001b[0m                             Traceback (most recent call last)",
      "\u001b[0;32m~/miniconda3/envs/idp/lib/python3.6/site-packages/tensorflow/python/client/session.py\u001b[0m in \u001b[0;36m_do_call\u001b[0;34m(self, fn, *args)\u001b[0m\n\u001b[1;32m   1322\u001b[0m     \u001b[0;32mtry\u001b[0m\u001b[0;34m:\u001b[0m\u001b[0;34m\u001b[0m\u001b[0m\n\u001b[0;32m-> 1323\u001b[0;31m       \u001b[0;32mreturn\u001b[0m \u001b[0mfn\u001b[0m\u001b[0;34m(\u001b[0m\u001b[0;34m*\u001b[0m\u001b[0margs\u001b[0m\u001b[0;34m)\u001b[0m\u001b[0;34m\u001b[0m\u001b[0m\n\u001b[0m\u001b[1;32m   1324\u001b[0m     \u001b[0;32mexcept\u001b[0m \u001b[0merrors\u001b[0m\u001b[0;34m.\u001b[0m\u001b[0mOpError\u001b[0m \u001b[0;32mas\u001b[0m \u001b[0me\u001b[0m\u001b[0;34m:\u001b[0m\u001b[0;34m\u001b[0m\u001b[0m\n",
      "\u001b[0;32m~/miniconda3/envs/idp/lib/python3.6/site-packages/tensorflow/python/client/session.py\u001b[0m in \u001b[0;36m_run_fn\u001b[0;34m(session, feed_dict, fetch_list, target_list, options, run_metadata)\u001b[0m\n\u001b[1;32m   1301\u001b[0m                                    \u001b[0mfeed_dict\u001b[0m\u001b[0;34m,\u001b[0m \u001b[0mfetch_list\u001b[0m\u001b[0;34m,\u001b[0m \u001b[0mtarget_list\u001b[0m\u001b[0;34m,\u001b[0m\u001b[0;34m\u001b[0m\u001b[0m\n\u001b[0;32m-> 1302\u001b[0;31m                                    status, run_metadata)\n\u001b[0m\u001b[1;32m   1303\u001b[0m \u001b[0;34m\u001b[0m\u001b[0m\n",
      "\u001b[0;32m~/miniconda3/envs/idp/lib/python3.6/site-packages/tensorflow/python/framework/errors_impl.py\u001b[0m in \u001b[0;36m__exit__\u001b[0;34m(self, type_arg, value_arg, traceback_arg)\u001b[0m\n\u001b[1;32m    472\u001b[0m             \u001b[0mcompat\u001b[0m\u001b[0;34m.\u001b[0m\u001b[0mas_text\u001b[0m\u001b[0;34m(\u001b[0m\u001b[0mc_api\u001b[0m\u001b[0;34m.\u001b[0m\u001b[0mTF_Message\u001b[0m\u001b[0;34m(\u001b[0m\u001b[0mself\u001b[0m\u001b[0;34m.\u001b[0m\u001b[0mstatus\u001b[0m\u001b[0;34m.\u001b[0m\u001b[0mstatus\u001b[0m\u001b[0;34m)\u001b[0m\u001b[0;34m)\u001b[0m\u001b[0;34m,\u001b[0m\u001b[0;34m\u001b[0m\u001b[0m\n\u001b[0;32m--> 473\u001b[0;31m             c_api.TF_GetCode(self.status.status))\n\u001b[0m\u001b[1;32m    474\u001b[0m     \u001b[0;31m# Delete the underlying status object from memory otherwise it stays alive\u001b[0m\u001b[0;34m\u001b[0m\u001b[0;34m\u001b[0m\u001b[0m\n",
      "\u001b[0;31mNotFoundError\u001b[0m: Key bi_rnn/bidirectional_rnn/bw/multi_rnn_cell/cell_0/basic_lstm_cell/bias not found in checkpoint\n\t [[Node: save_1/RestoreV2_25 = RestoreV2[dtypes=[DT_FLOAT], _device=\"/job:localhost/replica:0/task:0/device:CPU:0\"](_arg_save_1/Const_0_0, save_1/RestoreV2_25/tensor_names, save_1/RestoreV2_25/shape_and_slices)]]",
      "\nDuring handling of the above exception, another exception occurred:\n",
      "\u001b[0;31mNotFoundError\u001b[0m                             Traceback (most recent call last)",
      "\u001b[0;32m<ipython-input-26-4867e92b7503>\u001b[0m in \u001b[0;36m<module>\u001b[0;34m()\u001b[0m\n\u001b[1;32m      6\u001b[0m \u001b[0;34m\u001b[0m\u001b[0m\n\u001b[1;32m      7\u001b[0m     \u001b[0;31m#saver.restore(sess, logs_path+model_name )\u001b[0m\u001b[0;34m\u001b[0m\u001b[0;34m\u001b[0m\u001b[0m\n\u001b[0;32m----> 8\u001b[0;31m     \u001b[0msaver\u001b[0m\u001b[0;34m.\u001b[0m\u001b[0mrestore\u001b[0m\u001b[0;34m(\u001b[0m\u001b[0msess\u001b[0m\u001b[0;34m,\u001b[0m \u001b[0mlogs_path\u001b[0m\u001b[0;34m+\u001b[0m\u001b[0minit_model\u001b[0m\u001b[0;34m)\u001b[0m\u001b[0;34m\u001b[0m\u001b[0m\n\u001b[0m\u001b[1;32m      9\u001b[0m \u001b[0;34m\u001b[0m\u001b[0m\n\u001b[1;32m     10\u001b[0m     \u001b[0mprint\u001b[0m\u001b[0;34m(\u001b[0m\u001b[0;34m\"Model restored.\"\u001b[0m\u001b[0;34m)\u001b[0m\u001b[0;34m\u001b[0m\u001b[0m\n",
      "\u001b[0;32m~/miniconda3/envs/idp/lib/python3.6/site-packages/tensorflow/python/training/saver.py\u001b[0m in \u001b[0;36mrestore\u001b[0;34m(self, sess, save_path)\u001b[0m\n\u001b[1;32m   1678\u001b[0m     \u001b[0;32mif\u001b[0m \u001b[0mcontext\u001b[0m\u001b[0;34m.\u001b[0m\u001b[0min_graph_mode\u001b[0m\u001b[0;34m(\u001b[0m\u001b[0;34m)\u001b[0m\u001b[0;34m:\u001b[0m\u001b[0;34m\u001b[0m\u001b[0m\n\u001b[1;32m   1679\u001b[0m       sess.run(self.saver_def.restore_op_name,\n\u001b[0;32m-> 1680\u001b[0;31m                {self.saver_def.filename_tensor_name: save_path})\n\u001b[0m\u001b[1;32m   1681\u001b[0m     \u001b[0;32melse\u001b[0m\u001b[0;34m:\u001b[0m\u001b[0;34m\u001b[0m\u001b[0m\n\u001b[1;32m   1682\u001b[0m       \u001b[0mself\u001b[0m\u001b[0;34m.\u001b[0m\u001b[0m_build_eager\u001b[0m\u001b[0;34m(\u001b[0m\u001b[0msave_path\u001b[0m\u001b[0;34m,\u001b[0m \u001b[0mbuild_save\u001b[0m\u001b[0;34m=\u001b[0m\u001b[0;32mFalse\u001b[0m\u001b[0;34m,\u001b[0m \u001b[0mbuild_restore\u001b[0m\u001b[0;34m=\u001b[0m\u001b[0;32mTrue\u001b[0m\u001b[0;34m)\u001b[0m\u001b[0;34m\u001b[0m\u001b[0m\n",
      "\u001b[0;32m~/miniconda3/envs/idp/lib/python3.6/site-packages/tensorflow/python/client/session.py\u001b[0m in \u001b[0;36mrun\u001b[0;34m(self, fetches, feed_dict, options, run_metadata)\u001b[0m\n\u001b[1;32m    887\u001b[0m     \u001b[0;32mtry\u001b[0m\u001b[0;34m:\u001b[0m\u001b[0;34m\u001b[0m\u001b[0m\n\u001b[1;32m    888\u001b[0m       result = self._run(None, fetches, feed_dict, options_ptr,\n\u001b[0;32m--> 889\u001b[0;31m                          run_metadata_ptr)\n\u001b[0m\u001b[1;32m    890\u001b[0m       \u001b[0;32mif\u001b[0m \u001b[0mrun_metadata\u001b[0m\u001b[0;34m:\u001b[0m\u001b[0;34m\u001b[0m\u001b[0m\n\u001b[1;32m    891\u001b[0m         \u001b[0mproto_data\u001b[0m \u001b[0;34m=\u001b[0m \u001b[0mtf_session\u001b[0m\u001b[0;34m.\u001b[0m\u001b[0mTF_GetBuffer\u001b[0m\u001b[0;34m(\u001b[0m\u001b[0mrun_metadata_ptr\u001b[0m\u001b[0;34m)\u001b[0m\u001b[0;34m\u001b[0m\u001b[0m\n",
      "\u001b[0;32m~/miniconda3/envs/idp/lib/python3.6/site-packages/tensorflow/python/client/session.py\u001b[0m in \u001b[0;36m_run\u001b[0;34m(self, handle, fetches, feed_dict, options, run_metadata)\u001b[0m\n\u001b[1;32m   1118\u001b[0m     \u001b[0;32mif\u001b[0m \u001b[0mfinal_fetches\u001b[0m \u001b[0;32mor\u001b[0m \u001b[0mfinal_targets\u001b[0m \u001b[0;32mor\u001b[0m \u001b[0;34m(\u001b[0m\u001b[0mhandle\u001b[0m \u001b[0;32mand\u001b[0m \u001b[0mfeed_dict_tensor\u001b[0m\u001b[0;34m)\u001b[0m\u001b[0;34m:\u001b[0m\u001b[0;34m\u001b[0m\u001b[0m\n\u001b[1;32m   1119\u001b[0m       results = self._do_run(handle, final_targets, final_fetches,\n\u001b[0;32m-> 1120\u001b[0;31m                              feed_dict_tensor, options, run_metadata)\n\u001b[0m\u001b[1;32m   1121\u001b[0m     \u001b[0;32melse\u001b[0m\u001b[0;34m:\u001b[0m\u001b[0;34m\u001b[0m\u001b[0m\n\u001b[1;32m   1122\u001b[0m       \u001b[0mresults\u001b[0m \u001b[0;34m=\u001b[0m \u001b[0;34m[\u001b[0m\u001b[0;34m]\u001b[0m\u001b[0;34m\u001b[0m\u001b[0m\n",
      "\u001b[0;32m~/miniconda3/envs/idp/lib/python3.6/site-packages/tensorflow/python/client/session.py\u001b[0m in \u001b[0;36m_do_run\u001b[0;34m(self, handle, target_list, fetch_list, feed_dict, options, run_metadata)\u001b[0m\n\u001b[1;32m   1315\u001b[0m     \u001b[0;32mif\u001b[0m \u001b[0mhandle\u001b[0m \u001b[0;32mis\u001b[0m \u001b[0;32mNone\u001b[0m\u001b[0;34m:\u001b[0m\u001b[0;34m\u001b[0m\u001b[0m\n\u001b[1;32m   1316\u001b[0m       return self._do_call(_run_fn, self._session, feeds, fetches, targets,\n\u001b[0;32m-> 1317\u001b[0;31m                            options, run_metadata)\n\u001b[0m\u001b[1;32m   1318\u001b[0m     \u001b[0;32melse\u001b[0m\u001b[0;34m:\u001b[0m\u001b[0;34m\u001b[0m\u001b[0m\n\u001b[1;32m   1319\u001b[0m       \u001b[0;32mreturn\u001b[0m \u001b[0mself\u001b[0m\u001b[0;34m.\u001b[0m\u001b[0m_do_call\u001b[0m\u001b[0;34m(\u001b[0m\u001b[0m_prun_fn\u001b[0m\u001b[0;34m,\u001b[0m \u001b[0mself\u001b[0m\u001b[0;34m.\u001b[0m\u001b[0m_session\u001b[0m\u001b[0;34m,\u001b[0m \u001b[0mhandle\u001b[0m\u001b[0;34m,\u001b[0m \u001b[0mfeeds\u001b[0m\u001b[0;34m,\u001b[0m \u001b[0mfetches\u001b[0m\u001b[0;34m)\u001b[0m\u001b[0;34m\u001b[0m\u001b[0m\n",
      "\u001b[0;32m~/miniconda3/envs/idp/lib/python3.6/site-packages/tensorflow/python/client/session.py\u001b[0m in \u001b[0;36m_do_call\u001b[0;34m(self, fn, *args)\u001b[0m\n\u001b[1;32m   1334\u001b[0m         \u001b[0;32mexcept\u001b[0m \u001b[0mKeyError\u001b[0m\u001b[0;34m:\u001b[0m\u001b[0;34m\u001b[0m\u001b[0m\n\u001b[1;32m   1335\u001b[0m           \u001b[0;32mpass\u001b[0m\u001b[0;34m\u001b[0m\u001b[0m\n\u001b[0;32m-> 1336\u001b[0;31m       \u001b[0;32mraise\u001b[0m \u001b[0mtype\u001b[0m\u001b[0;34m(\u001b[0m\u001b[0me\u001b[0m\u001b[0;34m)\u001b[0m\u001b[0;34m(\u001b[0m\u001b[0mnode_def\u001b[0m\u001b[0;34m,\u001b[0m \u001b[0mop\u001b[0m\u001b[0;34m,\u001b[0m \u001b[0mmessage\u001b[0m\u001b[0;34m)\u001b[0m\u001b[0;34m\u001b[0m\u001b[0m\n\u001b[0m\u001b[1;32m   1337\u001b[0m \u001b[0;34m\u001b[0m\u001b[0m\n\u001b[1;32m   1338\u001b[0m   \u001b[0;32mdef\u001b[0m \u001b[0m_extend_graph\u001b[0m\u001b[0;34m(\u001b[0m\u001b[0mself\u001b[0m\u001b[0;34m)\u001b[0m\u001b[0;34m:\u001b[0m\u001b[0;34m\u001b[0m\u001b[0m\n",
      "\u001b[0;31mNotFoundError\u001b[0m: Key bi_rnn/bidirectional_rnn/bw/multi_rnn_cell/cell_0/basic_lstm_cell/bias not found in checkpoint\n\t [[Node: save_1/RestoreV2_25 = RestoreV2[dtypes=[DT_FLOAT], _device=\"/job:localhost/replica:0/task:0/device:CPU:0\"](_arg_save_1/Const_0_0, save_1/RestoreV2_25/tensor_names, save_1/RestoreV2_25/shape_and_slices)]]\n\nCaused by op 'save_1/RestoreV2_25', defined at:\n  File \"/home/qnl/miniconda3/envs/idp/lib/python3.6/runpy.py\", line 193, in _run_module_as_main\n    \"__main__\", mod_spec)\n  File \"/home/qnl/miniconda3/envs/idp/lib/python3.6/runpy.py\", line 85, in _run_code\n    exec(code, run_globals)\n  File \"/home/qnl/miniconda3/envs/idp/lib/python3.6/site-packages/ipykernel_launcher.py\", line 16, in <module>\n    app.launch_new_instance()\n  File \"/home/qnl/miniconda3/envs/idp/lib/python3.6/site-packages/traitlets/config/application.py\", line 658, in launch_instance\n    app.start()\n  File \"/home/qnl/miniconda3/envs/idp/lib/python3.6/site-packages/ipykernel/kernelapp.py\", line 477, in start\n    ioloop.IOLoop.instance().start()\n  File \"/home/qnl/miniconda3/envs/idp/lib/python3.6/site-packages/zmq/eventloop/ioloop.py\", line 177, in start\n    super(ZMQIOLoop, self).start()\n  File \"/home/qnl/miniconda3/envs/idp/lib/python3.6/site-packages/tornado/ioloop.py\", line 888, in start\n    handler_func(fd_obj, events)\n  File \"/home/qnl/miniconda3/envs/idp/lib/python3.6/site-packages/tornado/stack_context.py\", line 277, in null_wrapper\n    return fn(*args, **kwargs)\n  File \"/home/qnl/miniconda3/envs/idp/lib/python3.6/site-packages/zmq/eventloop/zmqstream.py\", line 440, in _handle_events\n    self._handle_recv()\n  File \"/home/qnl/miniconda3/envs/idp/lib/python3.6/site-packages/zmq/eventloop/zmqstream.py\", line 472, in _handle_recv\n    self._run_callback(callback, msg)\n  File \"/home/qnl/miniconda3/envs/idp/lib/python3.6/site-packages/zmq/eventloop/zmqstream.py\", line 414, in _run_callback\n    callback(*args, **kwargs)\n  File \"/home/qnl/miniconda3/envs/idp/lib/python3.6/site-packages/tornado/stack_context.py\", line 277, in null_wrapper\n    return fn(*args, **kwargs)\n  File \"/home/qnl/miniconda3/envs/idp/lib/python3.6/site-packages/ipykernel/kernelbase.py\", line 283, in dispatcher\n    return self.dispatch_shell(stream, msg)\n  File \"/home/qnl/miniconda3/envs/idp/lib/python3.6/site-packages/ipykernel/kernelbase.py\", line 235, in dispatch_shell\n    handler(stream, idents, msg)\n  File \"/home/qnl/miniconda3/envs/idp/lib/python3.6/site-packages/ipykernel/kernelbase.py\", line 399, in execute_request\n    user_expressions, allow_stdin)\n  File \"/home/qnl/miniconda3/envs/idp/lib/python3.6/site-packages/ipykernel/ipkernel.py\", line 196, in do_execute\n    res = shell.run_cell(code, store_history=store_history, silent=silent)\n  File \"/home/qnl/miniconda3/envs/idp/lib/python3.6/site-packages/ipykernel/zmqshell.py\", line 533, in run_cell\n    return super(ZMQInteractiveShell, self).run_cell(*args, **kwargs)\n  File \"/home/qnl/miniconda3/envs/idp/lib/python3.6/site-packages/IPython/core/interactiveshell.py\", line 2698, in run_cell\n    interactivity=interactivity, compiler=compiler, result=result)\n  File \"/home/qnl/miniconda3/envs/idp/lib/python3.6/site-packages/IPython/core/interactiveshell.py\", line 2802, in run_ast_nodes\n    if self.run_code(code, result):\n  File \"/home/qnl/miniconda3/envs/idp/lib/python3.6/site-packages/IPython/core/interactiveshell.py\", line 2862, in run_code\n    exec(code_obj, self.user_global_ns, self.user_ns)\n  File \"<ipython-input-24-75e696280e6c>\", line 12, in <module>\n    saver = tf.train.Saver()\n  File \"/home/qnl/miniconda3/envs/idp/lib/python3.6/site-packages/tensorflow/python/training/saver.py\", line 1233, in __init__\n    self.build()\n  File \"/home/qnl/miniconda3/envs/idp/lib/python3.6/site-packages/tensorflow/python/training/saver.py\", line 1242, in build\n    self._build(self._filename, build_save=True, build_restore=True)\n  File \"/home/qnl/miniconda3/envs/idp/lib/python3.6/site-packages/tensorflow/python/training/saver.py\", line 1278, in _build\n    build_save=build_save, build_restore=build_restore)\n  File \"/home/qnl/miniconda3/envs/idp/lib/python3.6/site-packages/tensorflow/python/training/saver.py\", line 759, in _build_internal\n    restore_sequentially, reshape)\n  File \"/home/qnl/miniconda3/envs/idp/lib/python3.6/site-packages/tensorflow/python/training/saver.py\", line 428, in _AddRestoreOps\n    tensors = self.restore_op(filename_tensor, saveable, preferred_shard)\n  File \"/home/qnl/miniconda3/envs/idp/lib/python3.6/site-packages/tensorflow/python/training/saver.py\", line 268, in restore_op\n    [spec.tensor.dtype])[0])\n  File \"/home/qnl/miniconda3/envs/idp/lib/python3.6/site-packages/tensorflow/python/ops/gen_io_ops.py\", line 1021, in restore_v2\n    shape_and_slices=shape_and_slices, dtypes=dtypes, name=name)\n  File \"/home/qnl/miniconda3/envs/idp/lib/python3.6/site-packages/tensorflow/python/framework/op_def_library.py\", line 787, in _apply_op_helper\n    op_def=op_def)\n  File \"/home/qnl/miniconda3/envs/idp/lib/python3.6/site-packages/tensorflow/python/framework/ops.py\", line 3042, in create_op\n    op_def=op_def)\n  File \"/home/qnl/miniconda3/envs/idp/lib/python3.6/site-packages/tensorflow/python/framework/ops.py\", line 1521, in __init__\n    self._traceback = self._graph._extract_stack()  # pylint: disable=protected-access\n\nNotFoundError (see above for traceback): Key bi_rnn/bidirectional_rnn/bw/multi_rnn_cell/cell_0/basic_lstm_cell/bias not found in checkpoint\n\t [[Node: save_1/RestoreV2_25 = RestoreV2[dtypes=[DT_FLOAT], _device=\"/job:localhost/replica:0/task:0/device:CPU:0\"](_arg_save_1/Const_0_0, save_1/RestoreV2_25/tensor_names, save_1/RestoreV2_25/shape_and_slices)]]\n"
     ]
    }
   ],
   "source": [
    "with tf.Session() as sess:\n",
    "    sess.run(init)\n",
    "    \n",
    "    #init_model=\"prediction_retrodiction_tomo_dropout_32HS\"\n",
    "\n",
    "    \n",
    "    #saver.restore(sess, logs_path+model_name )\n",
    "    saver.restore(sess, logs_path+init_model)\n",
    "\n",
    "    print(\"Model restored.\")\n",
    "    \n",
    "    \n",
    "    #test_data, test_label, test_time, test_rho,\n",
    "    #                                         test_data_retro,test_label_retro,test_time_retro,test_rho_retro,batch_size    \n",
    "    \n",
    "    \n",
    "    Neval=15\n",
    "    file_list=np.arange(49)\n",
    "    train_data,train_data_retro,train_labels,train_time,train_prep = load_prepdata(file_list[n_file],Neval,time_list,thresholds,n_wait,nshift,shuffledata,filename_start,file_list,plothist=False,plotgraphs=False)\n",
    "    train_labels_retro,train_prep_retro = convert_retro(train_labels,train_prep)\n",
    "\n",
    "    test_data = train_data.reshape((-1, n_steps, n_input))\n",
    "    test_data_retro = train_data_retro.reshape((-1, n_steps, n_input))\n",
    "\n",
    "    test_label = train_labels\n",
    "    test_label_retro=train_labels_retro\n",
    "    \n",
    "    test_time=train_time\n",
    "    test_time_retro=train_time\n",
    "    \n",
    "    test_rho=train_prep\n",
    "    test_rho_retro=train_prep_retro*0+0.5\n",
    "    \n",
    "    \n",
    "    \n",
    "    traj_retro=get_traj_op(rho_traj_retro, test_data, test_label, test_time, test_rho,\n",
    "                                             test_data_retro,test_label_retro,test_time_retro,test_rho_retro,batch_size)\n",
    "    \n",
    "    traj_pred=get_traj_op(rho_traj_pred, test_data, test_label, test_time, test_rho,\n",
    "                                             test_data_retro,test_label_retro,test_time_retro,test_rho_retro,batch_size)\n",
    "    \n",
    "    traj_label_tomo,traj_label_retro,loss,loss_retro=get_traj_pred_retro(test_data, test_label, test_time, test_rho,\n",
    "                                             test_data_retro,test_label_retro,test_time_retro,test_rho_retro,batch_size)\n",
    "    \n",
    "    \n",
    "    #traj=sess.run(rho_traj_pred, feed_dict={x: test_data, y: test_label,t:test_time,rho: test_rho*0.+0.5})\n",
    "    tx_pred=traj_pred[:,:,0]\n",
    "    ty_pred=traj_pred[:,:,1]\n",
    "    tz_pred=traj_pred[:,:,2]\n",
    "    \n",
    "    tx_retro=traj_retro[:,:,0]\n",
    "    ty_retro=traj_retro[:,:,1]\n",
    "    tz_retro=traj_retro[:,:,2]"
   ]
  },
  {
   "cell_type": "code",
   "execution_count": null,
   "metadata": {
    "collapsed": true,
    "scrolled": false
   },
   "outputs": [],
   "source": [
    "prep=(np.array([[0,0,1],[0,1,0],[0,0,-1],[0,-1,0],[1,0,0],[-1,0,0]])+1.)/2.*0+0.5\n",
    "\n",
    "i=-1\n",
    "mask_time=(test_time==time_list[i]-1)\n",
    "\n",
    "j=0\n",
    "mask_prep=(np.zeros(test_rho_retro.shape[0])==0)\n",
    "for i in np.arange(test_rho_retro.shape[0]):\n",
    "    mask_prep[i]=np.array_equal(test_rho_retro[i],prep[j])\n",
    "\n",
    "mask=np.logical_and(mask_time,mask_prep)\n",
    "\n",
    "tx_part=tx_retro[mask].T\n",
    "ty_part=ty_retro[mask].T\n",
    "tz_part=tz_retro[mask].T\n",
    "\n",
    "\n",
    "t_start=0\n",
    "\n",
    "plt.figure(figsize=(10,10))\n",
    "ax=plt.subplot(3,1,1)\n",
    "plt.plot(tx_part[t_start:,:100])\n",
    "ax.set_ylim([0,1])\n",
    "\n",
    "ax=plt.subplot(3,1,2)\n",
    "plt.plot(ty_part[t_start:,:100])\n",
    "ax.set_ylim([0,1])\n",
    "\n",
    "\n",
    "ax=plt.subplot(3,1,3)\n",
    "plt.plot(tz_part[t_start:,:100])\n",
    "ax.set_ylim([0,1])\n",
    "\n",
    "\n",
    "plt.figure()\n",
    "plt.plot(tx_part[t_start:,:].mean(-1))\n",
    "plt.plot(ty_part[t_start:,:].mean(-1))\n",
    "plt.plot(tz_part[t_start:,:].mean(-1))\n",
    "plt.ylim([0,1])\n",
    "\n",
    "plt.figure()\n",
    "ax=plt.subplot(1,1,1)\n",
    "plt.plot(ty_part[t_start:,:].mean(-1),tz_part[t_start:,:].mean(-1))\n",
    "ax.set_aspect('equal')\n",
    "\n",
    "nbins=21\n",
    "hist_x=[]\n",
    "hist_y=[]\n",
    "hist_z=[]\n",
    "for i in np.arange(n_steps-n_offset):\n",
    "    h,_=np.histogram(tx_part[i],bins=np.linspace(0,1,nbins))\n",
    "    hist_x.append(h)\n",
    "    h,_=np.histogram(ty_part[i],bins=np.linspace(0,1,nbins))\n",
    "    hist_y.append(h)\n",
    "    h,_=np.histogram(tz_part[i],bins=np.linspace(0,1,nbins))\n",
    "    hist_z.append(h)\n",
    "hist_x=np.stack(hist_x).T\n",
    "hist_y=np.stack(hist_y).T\n",
    "hist_z=np.stack(hist_z).T\n",
    "\n",
    "plt.figure(figsize=(20,10))\n",
    "plt.imshow(hist_x**(0.7),interpolation='nearest',cmap=\"hot\")\n",
    "plt.figure(figsize=(20,10))\n",
    "plt.imshow(hist_y**(0.7),interpolation='nearest',cmap=\"hot\")\n",
    "plt.figure(figsize=(20,10))\n",
    "plt.imshow(hist_z**(0.7),interpolation='nearest',cmap=\"hot\")\n",
    "\n",
    "fig = plt.figure(figsize=(50, 20))\n",
    "ax = fig.add_subplot(131, title='imshow: square bins')\n",
    "plt.imshow(hist_z[:,0:98]**(0.6), interpolation='nearest', origin='low',extent=[0, 97, 0, 1],cmap=\"hot\")\n",
    "plt.plot(tz_part[0:98,6],color=\"white\",linewidth=3)\n",
    "plt.plot(tz_part[0:98,30],color=\"lightgrey\",linewidth=3)\n",
    "ax.set_ylim([0,1])\n",
    "ax.set_aspect(20)\n",
    "\n",
    "fig = plt.figure(figsize=(50, 20))\n",
    "ax = fig.add_subplot(131, title='imshow: square bins')\n",
    "plt.imshow(hist_y[:,0:98]**(0.6), interpolation='nearest', origin='low',extent=[0, 97, 0, 1],cmap=\"hot\")\n",
    "plt.plot(ty_part[0:98,6],color=\"white\",linewidth=3)\n",
    "plt.plot(ty_part[0:98,30],color=\"lightgrey\",linewidth=3)\n",
    "ax.set_ylim([0,1])\n",
    "ax.set_aspect(20)"
   ]
  },
  {
   "cell_type": "code",
   "execution_count": null,
   "metadata": {
    "collapsed": true,
    "scrolled": false
   },
   "outputs": [],
   "source": [
    "prep=(np.array([[0,0,1],[0,1,0],[0,0,-1],[0,-1,0],[1,0,0],[-1,0,0]])+1.)/2.\n",
    "\n",
    "i=-1\n",
    "mask_time=(test_time==time_list[i]-1)\n",
    "\n",
    "j=0\n",
    "mask_prep=(np.zeros(test_rho.shape[0])==0)\n",
    "for i in np.arange(test_rho.shape[0]):\n",
    "    mask_prep[i]=np.array_equal(test_rho[i],prep[j])\n",
    "\n",
    "mask=np.logical_and(mask_time,mask_prep)\n",
    "\n",
    "tx_part=tx_pred[mask].T\n",
    "ty_part=ty_pred[mask].T\n",
    "tz_part=tz_pred[mask].T\n",
    "\n",
    "t_start=0\n",
    "\n",
    "plt.figure(figsize=(10,10))\n",
    "ax=plt.subplot(3,1,1)\n",
    "plt.plot(tx_part[t_start:,:100])\n",
    "ax.set_ylim([0,1])\n",
    "\n",
    "ax=plt.subplot(3,1,2)\n",
    "plt.plot(ty_part[t_start:,:100])\n",
    "ax.set_ylim([0,1])\n",
    "\n",
    "\n",
    "ax=plt.subplot(3,1,3)\n",
    "plt.plot(tz_part[t_start:,:100])\n",
    "ax.set_ylim([0,1])\n",
    "\n",
    "\n",
    "plt.figure()\n",
    "plt.plot(tx_part[t_start:,:].mean(-1))\n",
    "plt.plot(ty_part[t_start:,:].mean(-1))\n",
    "plt.plot(tz_part[t_start:,:].mean(-1))\n",
    "plt.ylim([0,1])\n",
    "\n",
    "plt.figure()\n",
    "ax=plt.subplot(1,1,1)\n",
    "plt.plot(ty_part[t_start:,:].mean(-1),tz_part[t_start:,:].mean(-1))\n",
    "ax.set_aspect('equal')\n",
    "\n",
    "nbins=31\n",
    "hist_x=[]\n",
    "hist_y=[]\n",
    "hist_z=[]\n",
    "bins=np.linspace(0,1,nbins)\n",
    "for i in np.arange(n_steps-n_offset):\n",
    "    h,_=np.histogram(tx_part[i],bins=bins)\n",
    "    hist_x.append(h)\n",
    "    h,_=np.histogram(ty_part[i],bins=bins)\n",
    "    hist_y.append(h)\n",
    "    h,_=np.histogram(tz_part[i],bins=bins)\n",
    "    hist_z.append(h)\n",
    "hist_x=np.stack(hist_x).T\n",
    "hist_y=np.stack(hist_y).T\n",
    "hist_z=np.stack(hist_z).T\n",
    "\n",
    "plt.figure(figsize=(20,10))\n",
    "plt.imshow(hist_x**(0.7),interpolation='nearest',cmap=\"hot\")\n",
    "plt.figure(figsize=(20,10))\n",
    "plt.imshow(hist_y**(0.7),interpolation='nearest',cmap=\"hot\")\n",
    "plt.figure(figsize=(20,10))\n",
    "plt.imshow(hist_z**(0.7),interpolation='nearest',cmap=\"hot\")\n",
    "\n",
    "\n",
    "fig = plt.figure(figsize=(50, 20))\n",
    "ax = fig.add_subplot(131, title='imshow: square bins')\n",
    "plt.imshow(hist_z[:,1:98]**(0.6), interpolation='nearest', origin='low',extent=[0, 96, 0, 1],cmap=\"hot\")\n",
    "plt.plot(tz_part[1:98,6],color=\"white\",linewidth=3)\n",
    "plt.plot(tz_part[1:98,30],color=\"lightgrey\",linewidth=3)\n",
    "ax.set_ylim([0,1])\n",
    "ax.set_aspect(20)\n",
    "\n",
    "fig = plt.figure(figsize=(50, 20))\n",
    "ax = fig.add_subplot(131, title='imshow: square bins')\n",
    "plt.imshow(hist_y[:,1:98]**(0.6), interpolation='nearest', origin='low',extent=[0, 96, 0, 1],cmap=\"hot\")\n",
    "plt.plot(ty_part[1:98,6],color=\"white\",linewidth=3)\n",
    "plt.plot(ty_part[1:98,30],color=\"lightgrey\",linewidth=3)\n",
    "ax.set_ylim([0,1])\n",
    "ax.set_aspect(20)"
   ]
  },
  {
   "cell_type": "code",
   "execution_count": null,
   "metadata": {
    "collapsed": true
   },
   "outputs": [],
   "source": [
    "plt.figure(figsize=(10,5))\n",
    "time_axis=np.linspace(0,4,96)\n",
    "plt.plot(time_axis,tx_part[t_start:-8,:].mean(-1),color=\"Black\")\n",
    "plt.plot(time_axis,ty_part[t_start:-8,:].mean(-1),color=\"Crimson\")\n",
    "plt.plot(time_axis,tz_part[t_start:-8,:].mean(-1),color=\"RoyalBlue\")\n",
    "plt.ylim([0,1])\n",
    "plt.xlim([0,4])\n",
    "\n",
    "plt.yticks([0,1], fontsize = 20)\n",
    "plt.xticks([0,1,2,3,4], fontsize = 20)"
   ]
  },
  {
   "cell_type": "code",
   "execution_count": null,
   "metadata": {
    "collapsed": true
   },
   "outputs": [],
   "source": [
    "import scipy.optimize as sp\n",
    "ZMean=tz_part[t_start:-8,:].mean(-1)\n",
    "\n",
    "def exp_decay(t,gamma,f,a,b,phi):\n",
    "    return a*np.exp(-gamma*t)*np.cos(2*np.pi*f*t+phi)+b\n",
    "\n",
    "result,_=sp.curve_fit(exp_decay,time_axis,ZMean, [1.,0.5,1,0.5,0])\n",
    "plt.plot(time_axis,exp_decay(time_axis,*result))\n",
    "plt.plot(time_axis,ZMean,color=\"RoyalBlue\")\n",
    "print(result)\n"
   ]
  },
  {
   "cell_type": "code",
   "execution_count": null,
   "metadata": {
    "collapsed": true
   },
   "outputs": [],
   "source": [
    "prep=(np.array([[0,0,1],[0,1,0],[0,0,-1],[0,-1,0],[1,0,0],[-1,0,0]])+1.)/2.\n",
    "\n",
    "i=-1\n",
    "mask_time=(test_time==time_list[i]-1)\n",
    "\n",
    "j=0\n",
    "mask_prep=(np.zeros(test_rho.shape[0])==0)\n",
    "for i in np.arange(test_rho.shape[0]):\n",
    "    mask_prep[i]=np.array_equal(test_rho[i],prep[j])\n",
    "\n",
    "mask=np.logical_and(mask_time,mask_prep)\n",
    "\n",
    "tx_part=tx_pred[mask].T\n",
    "ty_part=ty_pred[mask].T\n",
    "tz_part=tz_pred[mask].T\n",
    "tV_part=train_data[mask].T\n",
    "\n",
    "tx_retro_part=tx_retro[mask].T\n",
    "ty_retro_part=ty_retro[mask].T\n",
    "tz_retro_part=tz_retro[mask].T\n",
    "\n",
    "tx_smoothing_part=tx_part*tx_retro_part/(tx_part*tx_retro_part+(1-tx_part)*(1-tx_retro_part))\n",
    "ty_smoothing_part=ty_part*ty_retro_part/(ty_part*ty_retro_part+(1-ty_part)*(1-ty_retro_part))\n",
    "tz_smoothing_part=tz_part*tz_retro_part/(tz_part*tz_retro_part+(1-tz_part)*(1-tz_retro_part))\n",
    "\n",
    "\n",
    "tx_LG_part=tx_part*tx_retro_part/(tx_part*tx_retro_part+(1-tx_part)*(1-tx_retro_part))\n",
    "ty_LG_part=ty_part*ty_retro_part/(ty_part*ty_retro_part+(1-ty_part)*(1-ty_retro_part))\n",
    "tz_LG_part=tz_part*tz_retro_part/(tz_part*tz_retro_part+(1-tz_part)*(1-tz_retro_part))\n",
    "\n",
    "\n",
    "n=30\n",
    "m=10\n",
    "\n",
    "C1=tx_part[:-n]\n",
    "C2=tx_part[n:]\n",
    "C3=tx_part[m:m-n]\n",
    "tx_LG_part=C1*C2+C2*C3-C1*C3\n",
    "\n",
    "C1=ty_part[:-n]\n",
    "C2=ty_part[n:]\n",
    "C3=ty_part[m:m-n]\n",
    "ty_LG_part=C1*C2+C2*C3-C1*C3\n",
    "\n",
    "C1=tz_part[:-n]\n",
    "C2=tz_part[n:]\n",
    "C3=tz_part[m:m-n]\n",
    "tz_LG_part=C1*C2+C2*C3-C1*C3\n",
    "\n",
    "nbins=31\n",
    "\n",
    "hist_x=[]\n",
    "hist_y=[]\n",
    "hist_z=[]\n",
    "\n",
    "hist_retro_x=[]\n",
    "hist_retro_y=[]\n",
    "hist_retro_z=[]\n",
    "\n",
    "hist_smoothing_x=[]\n",
    "hist_smoothing_y=[]\n",
    "hist_smoothing_z=[]\n",
    "\n",
    "hist_V=[]\n",
    "\n",
    "\n",
    "bins=np.linspace(0,1,nbins)\n",
    "binsV=np.linspace(-3,3,nbins)\n",
    "\n",
    "\n",
    "#bins=np.linspace(0,1,nbins)\n",
    "for i in np.arange(n_steps-n_offset):\n",
    "    h,_=np.histogram(tx_part[i],bins=bins)\n",
    "    hist_x.append(h)\n",
    "    h,_=np.histogram(ty_part[i],bins=bins)\n",
    "    hist_y.append(h)\n",
    "    h,_=np.histogram(tz_part[i],bins=bins)\n",
    "    hist_z.append(h)\n",
    "    h,_=np.histogram(tx_retro_part[i],bins=bins)\n",
    "    hist_retro_x.append(h)\n",
    "    h,_=np.histogram(ty_retro_part[i],bins=bins)\n",
    "    hist_retro_y.append(h)\n",
    "    h,_=np.histogram(tz_retro_part[i],bins=bins)\n",
    "    hist_retro_z.append(h)\n",
    "    \n",
    "    h,_=np.histogram(tx_smoothing_part[i],bins=bins)\n",
    "    hist_smoothing_x.append(h)\n",
    "    h,_=np.histogram(ty_smoothing_part[i],bins=bins)\n",
    "    hist_smoothing_y.append(h)\n",
    "    h,_=np.histogram(tz_smoothing_part[i],bins=bins)\n",
    "    hist_smoothing_z.append(h)\n",
    "    \n",
    "    h,_=np.histogram(tV_part[i],bins=binsV)\n",
    "    hist_V.append(h)\n",
    "    \n",
    "hist_V=np.stack(hist_V).T\n",
    "\n",
    "hist_x=np.stack(hist_x).T\n",
    "hist_y=np.stack(hist_y).T\n",
    "hist_z=np.stack(hist_z).T\n",
    "\n",
    "hist_retro_x=np.stack(hist_retro_x).T\n",
    "hist_retro_y=np.stack(hist_retro_y).T\n",
    "hist_retro_z=np.stack(hist_retro_z).T\n",
    "\n",
    "hist_smoothing_x=np.stack(hist_smoothing_x).T\n",
    "hist_smoothing_y=np.stack(hist_smoothing_y).T\n",
    "hist_smoothing_z=np.stack(hist_smoothing_z).T\n",
    "\n",
    "exponant=0.5\n",
    "vmax=np.max([hist_x,hist_y,hist_z,hist_retro_x,hist_retro_y,hist_retro_z])**exponant\n",
    "\n",
    "trace_1=10\n",
    "trace_2=114\n",
    "aspect_ratio=12\n",
    "\n",
    "fig = plt.figure(figsize=(50, 20))\n",
    "ax = fig.add_subplot(131)\n",
    "plt.imshow(hist_z[:,1:98]**exponant, interpolation='nearest', origin='low',extent=[0, 96, 0, 1],cmap=\"hot\",norm=None)\n",
    "plt.plot(tz_part[1:98,trace_1],color=\"white\",linewidth=3)\n",
    "plt.plot(tz_part[1:98,trace_2],color=\"lightgrey\",linewidth=3)\n",
    "ax.set_ylim([0,1])\n",
    "ax.set_aspect(aspect_ratio)\n",
    "plt.yticks([0,1], fontsize = 20)\n",
    "plt.xticks(np.linspace(0,96,5), fontsize = 20)\n",
    "ax.set_xticklabels([0,1,2,3,4])\n",
    "\n",
    "fig = plt.figure(figsize=(50, 20))\n",
    "ax = fig.add_subplot(131)\n",
    "plt.imshow(hist_y[:,1:98]**exponant, interpolation='nearest', origin='low',extent=[0, 96, 0, 1],cmap=\"hot\",vmax=vmax,vmin=0)\n",
    "plt.plot(ty_part[1:98,trace_1],color=\"white\",linewidth=3)\n",
    "plt.plot(ty_part[1:98,trace_2],color=\"lightgrey\",linewidth=3)\n",
    "ax.set_ylim([0,1])\n",
    "ax.set_aspect(aspect_ratio)\n",
    "plt.yticks([0,1], fontsize = 20)\n",
    "plt.xticks(np.linspace(0,96,5), fontsize = 20)\n",
    "ax.set_xticklabels([0,1,2,3,4])\n",
    "\n",
    "fig = plt.figure(figsize=(50, 20))\n",
    "ax = fig.add_subplot(131)\n",
    "plt.imshow(hist_retro_z[:,1:98]**exponant, interpolation='nearest', origin='low',extent=[0, 96, 0, 1],cmap=\"hot\",vmax=vmax,vmin=0)\n",
    "plt.plot(tz_retro_part[1:98,trace_1],color=\"white\",linewidth=3)\n",
    "plt.plot(tz_retro_part[1:98,trace_2],color=\"lightgrey\",linewidth=3)\n",
    "ax.set_ylim([0,1])\n",
    "ax.set_aspect(aspect_ratio)\n",
    "plt.yticks([0,1], fontsize = 20)\n",
    "plt.xticks(np.linspace(0,96,5), fontsize = 20)\n",
    "ax.set_xticklabels([0,1,2,3,4])\n",
    "\n",
    "fig = plt.figure(figsize=(50, 20))\n",
    "ax = fig.add_subplot(131)\n",
    "plt.imshow(hist_retro_y[:,1:98]**exponant, interpolation='nearest', origin='low',extent=[0, 96, 0, 1],cmap=\"hot\",vmax=vmax,vmin=0)\n",
    "plt.plot(ty_retro_part[1:98,trace_1],color=\"white\",linewidth=3)\n",
    "plt.plot(ty_retro_part[1:98,trace_2],color=\"lightgrey\",linewidth=3)\n",
    "ax.set_ylim([0,1])\n",
    "ax.set_aspect(aspect_ratio)\n",
    "plt.yticks([0,1], fontsize = 20)\n",
    "plt.xticks(np.linspace(0,96,5), fontsize = 20)\n",
    "ax.set_xticklabels([0,1,2,3,4])\n",
    "\n",
    "\n",
    "\n",
    "\n",
    "fig = plt.figure(figsize=(50, 20))\n",
    "ax = fig.add_subplot(131)\n",
    "plt.imshow(hist_smoothing_z[:,1:98]**exponant, interpolation='nearest', origin='low',extent=[0, 96, 0, 1],cmap=\"hot\",vmax=vmax,vmin=0)\n",
    "plt.plot(tz_smoothing_part[1:98,trace_1],color=\"white\",linewidth=3)\n",
    "plt.plot(tz_smoothing_part[1:98,trace_2],color=\"lightgrey\",linewidth=3)\n",
    "ax.set_ylim([0,1])\n",
    "ax.set_aspect(aspect_ratio)\n",
    "plt.yticks([0,1], fontsize = 20)\n",
    "plt.xticks(np.linspace(0,96,5), fontsize = 20)\n",
    "ax.set_xticklabels([0,1,2,3,4])\n",
    "\n",
    "fig = plt.figure(figsize=(50, 20))\n",
    "ax = fig.add_subplot(131)\n",
    "plt.imshow(hist_smoothing_y[:,1:98]**exponant, interpolation='nearest', origin='low',extent=[0, 96, 0, 1],cmap=\"hot\",vmax=vmax,vmin=0)\n",
    "plt.plot(ty_smoothing_part[1:98,trace_1],color=\"white\",linewidth=3)\n",
    "plt.plot(ty_smoothing_part[1:98,trace_2],color=\"lightgrey\",linewidth=3)\n",
    "ax.set_ylim([0,1])\n",
    "ax.set_aspect(aspect_ratio)\n",
    "plt.yticks([0,1], fontsize = 20)\n",
    "plt.xticks(np.linspace(0,96,5), fontsize = 20)\n",
    "ax.set_xticklabels([0,1,2,3,4])\n",
    "\n",
    "\n",
    "fig = plt.figure(figsize=(50, 20))\n",
    "ax = fig.add_subplot(131)\n",
    "plt.imshow(hist_V[:,1:98]**exponant, interpolation='nearest', origin='low',extent=[0, 96, binsV[0], binsV[-1]],cmap=\"Blues\")\n",
    "plt.plot(tV_part[1:98,trace_1],color=\"white\",linewidth=3)\n",
    "plt.plot(tV_part[1:98,trace_2],color=\"lightgrey\",linewidth=3)\n",
    "#ax.set_ylim([0,1])\n",
    "ax.set_aspect(aspect_ratio/(binsV[-1]-binsV[0]))\n",
    "plt.yticks([-2,0,2], fontsize = 20)\n",
    "plt.xticks(np.linspace(0,96,5), fontsize = 20)\n",
    "ax.set_xticklabels([0,1,2,3,4])"
   ]
  },
  {
   "cell_type": "code",
   "execution_count": null,
   "metadata": {
    "collapsed": true
   },
   "outputs": [],
   "source": [
    "prep=(np.array([[0,0,1],[0,1,0],[0,0,-1],[0,-1,0],[1,0,0],[-1,0,0]])+1.)/2.\n",
    "\n",
    "i=10\n",
    "mask_time=(test_time==time_list[i]-1)\n",
    "\n",
    "j=0\n",
    "mask_prep=(np.zeros(test_rho.shape[0])==0)\n",
    "for k in np.arange(test_rho.shape[0]):\n",
    "    mask_prep[k]=np.array_equal(test_rho[k],prep[j])\n",
    "\n",
    "    \n",
    "mask_z=(tz_pred[:,time_list[i]-6]>0.8)*(tz_pred[:,time_list[i]-6]<0.85)\n",
    "mask_z=(tz_pred[:,time_list[i]-6]>0.2)*(tz_pred[:,time_list[i]-6]<0.25)\n",
    "\n",
    "\n",
    "mask=mask_prep*mask_time*mask_z\n",
    "\n",
    "tx_part=tx_pred[mask].T\n",
    "ty_part=ty_pred[mask].T\n",
    "tz_part=tz_pred[mask].T\n",
    "tV_part=train_data[mask].T\n",
    "\n",
    "tx_retro_part=tx_retro[mask].T\n",
    "ty_retro_part=ty_retro[mask].T\n",
    "tz_retro_part=tz_retro[mask].T\n",
    "\n",
    "tx_smoothing_part=tx_part*tx_retro_part/(tx_part*tx_retro_part+(1-tx_part)*(1-tx_retro_part))\n",
    "ty_smoothing_part=ty_part*ty_retro_part/(ty_part*ty_retro_part+(1-ty_part)*(1-ty_retro_part))\n",
    "tz_smoothing_part=tz_part*tz_retro_part/(tz_part*tz_retro_part+(1-tz_part)*(1-tz_retro_part))\n",
    "\n",
    "\n",
    "tx_LG_part=tx_part*tx_retro_part/(tx_part*tx_retro_part+(1-tx_part)*(1-tx_retro_part))\n",
    "ty_LG_part=ty_part*ty_retro_part/(ty_part*ty_retro_part+(1-ty_part)*(1-ty_retro_part))\n",
    "tz_LG_part=tz_part*tz_retro_part/(tz_part*tz_retro_part+(1-tz_part)*(1-tz_retro_part))\n",
    "\n",
    "\n",
    "n=30\n",
    "m=10\n",
    "\n",
    "C1=tx_part[:-n]\n",
    "C2=tx_part[n:]\n",
    "C3=tx_part[m:m-n]\n",
    "tx_LG_part=C1*C2+C2*C3-C1*C3\n",
    "\n",
    "C1=ty_part[:-n]\n",
    "C2=ty_part[n:]\n",
    "C3=ty_part[m:m-n]\n",
    "ty_LG_part=C1*C2+C2*C3-C1*C3\n",
    "\n",
    "C1=tz_part[:-n]\n",
    "C2=tz_part[n:]\n",
    "C3=tz_part[m:m-n]\n",
    "tz_LG_part=C1*C2+C2*C3-C1*C3\n",
    "\n",
    "nbins=31\n",
    "\n",
    "hist_x=[]\n",
    "hist_y=[]\n",
    "hist_z=[]\n",
    "\n",
    "hist_retro_x=[]\n",
    "hist_retro_y=[]\n",
    "hist_retro_z=[]\n",
    "\n",
    "hist_smoothing_x=[]\n",
    "hist_smoothing_y=[]\n",
    "hist_smoothing_z=[]\n",
    "\n",
    "hist_V=[]\n",
    "\n",
    "\n",
    "bins=np.linspace(0,1,nbins)\n",
    "binsV=np.linspace(-3,3,nbins)\n",
    "\n",
    "\n",
    "#bins=np.linspace(0,1,nbins)\n",
    "for i in np.arange(n_steps-n_offset):\n",
    "    h,_=np.histogram(tx_part[i],bins=bins)\n",
    "    hist_x.append(h)\n",
    "    h,_=np.histogram(ty_part[i],bins=bins)\n",
    "    hist_y.append(h)\n",
    "    h,_=np.histogram(tz_part[i],bins=bins)\n",
    "    hist_z.append(h)\n",
    "    h,_=np.histogram(tx_retro_part[i],bins=bins)\n",
    "    hist_retro_x.append(h)\n",
    "    h,_=np.histogram(ty_retro_part[i],bins=bins)\n",
    "    hist_retro_y.append(h)\n",
    "    h,_=np.histogram(tz_retro_part[i],bins=bins)\n",
    "    hist_retro_z.append(h)\n",
    "    \n",
    "    h,_=np.histogram(tx_smoothing_part[i],bins=bins)\n",
    "    hist_smoothing_x.append(h)\n",
    "    h,_=np.histogram(ty_smoothing_part[i],bins=bins)\n",
    "    hist_smoothing_y.append(h)\n",
    "    h,_=np.histogram(tz_smoothing_part[i],bins=bins)\n",
    "    hist_smoothing_z.append(h)\n",
    "    \n",
    "    h,_=np.histogram(tV_part[i],bins=binsV)\n",
    "    hist_V.append(h)\n",
    "    \n",
    "hist_V=np.stack(hist_V).T\n",
    "\n",
    "hist_x=np.stack(hist_x).T\n",
    "hist_y=np.stack(hist_y).T\n",
    "hist_z=np.stack(hist_z).T\n",
    "\n",
    "hist_retro_x=np.stack(hist_retro_x).T\n",
    "hist_retro_y=np.stack(hist_retro_y).T\n",
    "hist_retro_z=np.stack(hist_retro_z).T\n",
    "\n",
    "hist_smoothing_x=np.stack(hist_smoothing_x).T\n",
    "hist_smoothing_y=np.stack(hist_smoothing_y).T\n",
    "hist_smoothing_z=np.stack(hist_smoothing_z).T\n",
    "\n",
    "exponant=0.5\n",
    "vmax=np.max([hist_x,hist_y,hist_z,hist_retro_x,hist_retro_y,hist_retro_z])**exponant\n",
    "\n",
    "trace_1=10\n",
    "trace_2=114\n",
    "aspect_ratio=12\n",
    "\n",
    "fig = plt.figure(figsize=(50, 20))\n",
    "ax = fig.add_subplot(131)\n",
    "plt.imshow(hist_z[:,1:98]**exponant, interpolation='nearest', origin='low',extent=[0, 96, 0, 1],cmap=\"hot\",norm=None)\n",
    "plt.plot(tz_part[1:98,trace_1],color=\"white\",linewidth=3)\n",
    "plt.plot(tz_part[1:98,trace_2],color=\"lightgrey\",linewidth=3)\n",
    "ax.set_ylim([0,1])\n",
    "ax.set_aspect(aspect_ratio)\n",
    "plt.yticks([0,1], fontsize = 20)\n",
    "plt.xticks(np.linspace(0,96,5), fontsize = 20)\n",
    "ax.set_xticklabels([0,1,2,3,4])\n",
    "\n",
    "fig = plt.figure(figsize=(50, 20))\n",
    "ax = fig.add_subplot(131)\n",
    "plt.imshow(hist_y[:,1:98]**exponant, interpolation='nearest', origin='low',extent=[0, 96, 0, 1],cmap=\"hot\",vmax=vmax,vmin=0)\n",
    "plt.plot(ty_part[1:98,trace_1],color=\"white\",linewidth=3)\n",
    "plt.plot(ty_part[1:98,trace_2],color=\"lightgrey\",linewidth=3)\n",
    "ax.set_ylim([0,1])\n",
    "ax.set_aspect(aspect_ratio)\n",
    "plt.yticks([0,1], fontsize = 20)\n",
    "plt.xticks(np.linspace(0,96,5), fontsize = 20)\n",
    "ax.set_xticklabels([0,1,2,3,4])\n",
    "\n",
    "fig = plt.figure(figsize=(50, 20))\n",
    "ax = fig.add_subplot(131)\n",
    "plt.imshow(hist_retro_z[:,1:98]**exponant, interpolation='nearest', origin='low',extent=[0, 96, 0, 1],cmap=\"hot\",vmax=vmax,vmin=0)\n",
    "plt.plot(tz_retro_part[1:98,trace_1],color=\"white\",linewidth=3)\n",
    "plt.plot(tz_retro_part[1:98,trace_2],color=\"lightgrey\",linewidth=3)\n",
    "ax.set_ylim([0,1])\n",
    "ax.set_aspect(aspect_ratio)\n",
    "plt.yticks([0,1], fontsize = 20)\n",
    "plt.xticks(np.linspace(0,96,5), fontsize = 20)\n",
    "ax.set_xticklabels([0,1,2,3,4])\n",
    "\n",
    "fig = plt.figure(figsize=(50, 20))\n",
    "ax = fig.add_subplot(131)\n",
    "plt.imshow(hist_retro_y[:,1:98]**exponant, interpolation='nearest', origin='low',extent=[0, 96, 0, 1],cmap=\"hot\",vmax=vmax,vmin=0)\n",
    "plt.plot(ty_retro_part[1:98,trace_1],color=\"white\",linewidth=3)\n",
    "plt.plot(ty_retro_part[1:98,trace_2],color=\"lightgrey\",linewidth=3)\n",
    "ax.set_ylim([0,1])\n",
    "ax.set_aspect(aspect_ratio)\n",
    "plt.yticks([0,1], fontsize = 20)\n",
    "plt.xticks(np.linspace(0,96,5), fontsize = 20)\n",
    "ax.set_xticklabels([0,1,2,3,4])\n",
    "\n",
    "\n",
    "\n",
    "\n",
    "fig = plt.figure(figsize=(50, 20))\n",
    "ax = fig.add_subplot(131)\n",
    "plt.imshow(hist_smoothing_z[:,1:98]**exponant, interpolation='nearest', origin='low',extent=[0, 96, 0, 1],cmap=\"Greens\",vmax=vmax,vmin=0)\n",
    "plt.plot(tz_smoothing_part[1:98,trace_1],color=\"white\",linewidth=3)\n",
    "plt.plot(tz_smoothing_part[1:98,trace_2],color=\"lightgrey\",linewidth=3)\n",
    "ax.set_ylim([0,1])\n",
    "ax.set_aspect(aspect_ratio)\n",
    "plt.yticks([0,1], fontsize = 20)\n",
    "plt.xticks(np.linspace(0,96,5), fontsize = 20)\n",
    "ax.set_xticklabels([0,1,2,3,4])\n",
    "\n",
    "fig = plt.figure(figsize=(50, 20))\n",
    "ax = fig.add_subplot(131)\n",
    "plt.imshow(hist_smoothing_y[:,1:98]**exponant, interpolation='nearest', origin='low',extent=[0, 96, 0, 1],cmap=\"Greens\",vmax=vmax,vmin=0)\n",
    "plt.plot(ty_smoothing_part[1:98,trace_1],color=\"white\",linewidth=3)\n",
    "plt.plot(ty_smoothing_part[1:98,trace_2],color=\"lightgrey\",linewidth=3)\n",
    "ax.set_ylim([0,1])\n",
    "ax.set_aspect(aspect_ratio)\n",
    "plt.yticks([0,1], fontsize = 20)\n",
    "plt.xticks(np.linspace(0,96,5), fontsize = 20)\n",
    "ax.set_xticklabels([0,1,2,3,4])\n",
    "\n",
    "\n",
    "fig = plt.figure(figsize=(50, 20))\n",
    "ax = fig.add_subplot(131)\n",
    "plt.imshow(hist_V[:,1:98]**exponant, interpolation='nearest', origin='low',extent=[0, 96, binsV[0], binsV[-1]],cmap=\"Blues\")\n",
    "plt.plot(tV_part[1:98,trace_1],color=\"white\",linewidth=3)\n",
    "plt.plot(tV_part[1:98,trace_2],color=\"lightgrey\",linewidth=3)\n",
    "#ax.set_ylim([0,1])\n",
    "ax.set_aspect(aspect_ratio/(binsV[-1]-binsV[0]))\n",
    "plt.yticks([-2,0,2], fontsize = 20)\n",
    "plt.xticks(np.linspace(0,96,5), fontsize = 20)\n",
    "ax.set_xticklabels([0,1,2,3,4])"
   ]
  },
  {
   "cell_type": "code",
   "execution_count": null,
   "metadata": {
    "collapsed": true
   },
   "outputs": [],
   "source": []
  },
  {
   "cell_type": "code",
   "execution_count": null,
   "metadata": {
    "collapsed": true
   },
   "outputs": [],
   "source": [
    "mask=mask_time*mask_prep*mask_z\n",
    "print(mask.sum())"
   ]
  },
  {
   "cell_type": "code",
   "execution_count": null,
   "metadata": {
    "collapsed": true
   },
   "outputs": [],
   "source": [
    "i=-1\n",
    "mask_time=(test_time==time_list[i]-1)\n",
    "\n",
    "j=0\n",
    "mask_prep=(np.zeros(test_rho.shape[0])==0)\n",
    "for k in np.arange(test_rho.shape[0]):\n",
    "    mask_prep[k]=np.array_equal(test_rho[k],prep[j])\n",
    "\n",
    "    \n",
    "mask_z=(tz_pred[:,time_list[i]-6]>0.8)*(tz_pred[:,time_list[i]-6]<0.9)\n",
    "print((mask_prep*mask_time*mask_z).sum())"
   ]
  },
  {
   "cell_type": "code",
   "execution_count": null,
   "metadata": {
    "collapsed": true
   },
   "outputs": [],
   "source": [
    "for i in np.arange(20):\n",
    "    mask_z=(tz_pred[:,time_list[i]-1]>0.8)*(tz_pred[:,time_list[i]-1]<0.9)\n",
    "    mask=mask_prep*mask_time*mask_z\n",
    "    \n",
    "    print(mask.sum())\n",
    "    #print(mask_z.sum())"
   ]
  },
  {
   "cell_type": "code",
   "execution_count": null,
   "metadata": {
    "collapsed": true
   },
   "outputs": [],
   "source": [
    "def accuracy_traj(actualtraj_x,actualtraj_y,actualtraj_z,traj_t, test_label, test_time,  delta):\n",
    "\n",
    "    \n",
    "\n",
    "    \n",
    "    tx_RO=traj_t[:,0]\n",
    "    ty_RO=traj_t[:,1]\n",
    "    tz_RO=traj_t[:,2]\n",
    "\n",
    "\n",
    "    \n",
    "    N=time_list.shape[0]\n",
    "    \n",
    "    num_x=np.zeros(N)\n",
    "    num_y=np.zeros(N)\n",
    "    num_z=np.zeros(N)\n",
    "    x_tot=np.zeros((N,3))\n",
    "    y_tot=np.zeros((N,3))\n",
    "    z_tot=np.zeros((N,3))\n",
    "\n",
    "    for i in np.arange(N):\n",
    "\n",
    "        mask_array_x=(tx_RO[i]>actualtraj_x[time_list[i]+n_wait]-delta/2.)*(tx_RO<actualtraj_x[time_list[i]+n_wait]+delta/2.)*(test_time==time_list[i]+n_wait)\n",
    "        mask_array_y=(ty_RO[i]>actualtraj_y[time_list[i]+n_wait]-delta/2.)*(ty_RO<actualtraj_y[time_list[i]+n_wait]+delta/2.)*(test_time==time_list[i]+n_wait)\n",
    "        mask_array_z=(tz_RO[i]>actualtraj_z[time_list[i]+n_wait]-delta/2.)*(tz_RO<actualtraj_z[time_list[i]+n_wait]+delta/2.)*(test_time==time_list[i]+n_wait)\n",
    "\n",
    "        labeltest=(test_label[:,:,0]-test_label[:,:,1])\n",
    "\n",
    "        num_x=1.*np.abs(labeltest[mask_array_x][:,0]).sum()\n",
    "        num_y=1.*np.abs(labeltest[mask_array_y][:,1]).sum()\n",
    "        num_z=1.*np.abs(labeltest[mask_array_z][:,2]).sum()\n",
    "\n",
    "        if num_x==0:\n",
    "            num_x=1.\n",
    "        if num_y==0:\n",
    "            num_y=1.\n",
    "        if num_z==0:\n",
    "            num_z=1.\n",
    "        \n",
    "        x_tomo=((1.*labeltest[mask_array_x][:,0]).sum()/num_x+1.)/2.\n",
    "        y_tomo=((1.*labeltest[mask_array_y][:,1]).sum()/num_y+1.)/2.\n",
    "        z_tomo=((1.*labeltest[mask_array_z][:,2]).sum()/num_z+1.)/2.\n",
    "\n",
    "        x_tot[i]=actualtraj_x[time_list[i]+n_wait], x_tomo, num_x\n",
    "        y_tot[i]=actualtraj_y[time_list[i]+n_wait], y_tomo, num_y\n",
    "        z_tot[i]=actualtraj_z[time_list[i]+n_wait], z_tomo, num_z\n",
    "\n",
    "\n",
    "    #x_tot=x_tot[x_tot[:,2]>10]\n",
    "    #y_tot=y_tot[y_tot[:,2]>10]\n",
    "    #z_tot=z_tot[z_tot[:,2]>10]\n",
    "\n",
    "    print(x_tot.shape)\n",
    "    \n",
    "    x_error=np.sqrt(np.sum((x_tot[:,0]-x_tot[:,1])**2*x_tot[:,2])/x_tot[:,2].sum())\n",
    "    y_error=np.sqrt(np.sum((y_tot[:,0]-y_tot[:,1])**2*y_tot[:,2])/y_tot[:,2].sum())\n",
    "    z_error=np.sqrt(np.sum((z_tot[:,0]-z_tot[:,1])**2*z_tot[:,2])/z_tot[:,2].sum())\n",
    "\n",
    "\n",
    "    return np.array([x_error,y_error,z_error]),x_tot,y_tot,z_tot\n"
   ]
  },
  {
   "cell_type": "code",
   "execution_count": null,
   "metadata": {
    "collapsed": true
   },
   "outputs": [],
   "source": [
    "_,x_test,y_test,z_test=accuracy_traj(tx_part[:,trace_1],ty_part[:,trace_1],tz_part[:,trace_1], traj_label_tomo, test_label, test_time, 0.5)"
   ]
  },
  {
   "cell_type": "code",
   "execution_count": null,
   "metadata": {
    "collapsed": true
   },
   "outputs": [],
   "source": [
    "plt.plot(y_test[:,0])\n",
    "plt.plot(y_test[:,1])\n"
   ]
  },
  {
   "cell_type": "code",
   "execution_count": null,
   "metadata": {
    "collapsed": true
   },
   "outputs": [],
   "source": [
    "plt.plot(z_test[:,2])"
   ]
  },
  {
   "cell_type": "code",
   "execution_count": null,
   "metadata": {
    "collapsed": true
   },
   "outputs": [],
   "source": [
    "test_time"
   ]
  },
  {
   "cell_type": "code",
   "execution_count": null,
   "metadata": {
    "collapsed": true
   },
   "outputs": [],
   "source": [
    "time_list[-1]+n_wait"
   ]
  },
  {
   "cell_type": "code",
   "execution_count": null,
   "metadata": {
    "collapsed": true
   },
   "outputs": [],
   "source": [
    "m=9\n",
    "n=2*m\n",
    "\n",
    "plt.figure()\n",
    "for m in np.arange(12,18):\n",
    "    \n",
    "    n=2*m\n",
    "    \n",
    "    C1=tx_part[:-n]*2-1\n",
    "    C2=tx_part[m:m-n]*2-1\n",
    "    C3=tx_part[n:]*2-1\n",
    "\n",
    "    tx_LG_part=C1*C2+C2*C3-C1*C3\n",
    "\n",
    "    C1=ty_part[:-n]*2-1\n",
    "    C3=ty_part[n:]*2-1\n",
    "    C2=ty_part[m:m-n]*2-1\n",
    "\n",
    "    ty_LG_part=C1*C2+C2*C3-C1*C3\n",
    "\n",
    "    C1=tz_part[:-n]*2-1\n",
    "    C2=tz_part[m:m-n]*2-1\n",
    "    C3=tz_part[n:]*2-1\n",
    "\n",
    "    tz_LG_part=C1*C2+C2*C3-C1*C3\n",
    "\n",
    "    plt.plot(tz_LG_part.mean(-1))"
   ]
  },
  {
   "cell_type": "code",
   "execution_count": null,
   "metadata": {
    "collapsed": true
   },
   "outputs": [],
   "source": [
    "m=9\n",
    "n=2*m\n",
    "\n",
    "plt.figure()\n",
    "for m in np.arange(12,18):\n",
    "    \n",
    "    n=2*m\n",
    "    \n",
    "    C1=tx_part[:-2*m]*2-1\n",
    "    C2=tx_part[m:-m]*2-1\n",
    "    C3=tx_part[2*m:]*2-1\n",
    "\n",
    "    tx_LG_part=C1*C2+C2*C3-C1*C3\n",
    "\n",
    "    C1=ty_part[:-2*m]*2-1\n",
    "    C3=ty_part[2*m:]*2-1\n",
    "    C2=ty_part[m:-m]*2-1\n",
    "\n",
    "    ty_LG_part=C1*C2+C2*C3-C1*C3\n",
    "\n",
    "    C1=tz_part[:-2*m]*2-1\n",
    "    C2=tz_part[m:-m]*2-1\n",
    "    C3=tz_part[2*m:]*2-1\n",
    "\n",
    "    tz_LG_part=C1*C2+C2*C3-C1*C3\n",
    "\n",
    "    plt.plot(tz_LG_part.mean(-1))"
   ]
  },
  {
   "cell_type": "code",
   "execution_count": null,
   "metadata": {
    "collapsed": true
   },
   "outputs": [],
   "source": [
    "\n",
    "m_tot=50\n",
    "\n",
    "tx_LG_part=np.zeros((m_tot,tx_part.shape[1]))\n",
    "ty_LG_part=np.zeros((m_tot,tx_part.shape[1]))\n",
    "tz_LG_part=np.zeros((m_tot,tx_part.shape[1]))\n",
    "\n",
    "\n",
    "plt.figure()\n",
    "for m in np.arange(m_tot):\n",
    "        \n",
    "    C1=tx_part[0]*2-1\n",
    "    C2=tx_part[m]*2-1\n",
    "    C3=tx_part[2*m]*2-1\n",
    "\n",
    "    tx_LG_part[m]=C1*C2-C2*C3+C1*C3\n",
    "\n",
    "    C1=ty_part[0]*2-1\n",
    "    C2=ty_part[m]*2-1\n",
    "    C3=ty_part[2*m]*2-1\n",
    "\n",
    "    ty_LG_part[m]=C1*C2+C2*C3-C1*C3\n",
    "\n",
    "    C1=tz_part[0]*2-1\n",
    "    C2=tz_part[m]*2-1\n",
    "    C3=tz_part[2*m]*2-1\n",
    "\n",
    "    tz_LG_part[m]=C1*C2+C2*C3-C1*C3\n",
    "\n",
    "plt.plot(tx_LG_part.mean(-1))\n",
    "plt.plot(ty_LG_part.mean(-1))\n",
    "plt.plot(tz_LG_part.mean(-1))"
   ]
  },
  {
   "cell_type": "code",
   "execution_count": null,
   "metadata": {
    "collapsed": true
   },
   "outputs": [],
   "source": [
    "\n",
    "m_tot=50\n",
    "\n",
    "tx_LG_part=np.zeros((m_tot,tx_part.shape[1]))\n",
    "ty_LG_part=np.zeros((m_tot,tx_part.shape[1]))\n",
    "tz_LG_part=np.zeros((m_tot,tx_part.shape[1]))\n",
    "\n",
    "\n",
    "plt.figure()\n",
    "for m in np.arange(m_tot):\n",
    "        \n",
    "    C1=tx_part[0]*2-1\n",
    "    C2=tx_part[m]*2-1\n",
    "    C3=tx_part[2*m]*2-1\n",
    "\n",
    "    tx_LG_part[m]=C1*C2-C2*C3+C1*C3\n",
    "\n",
    "    C1=ty_part[0]*2-1\n",
    "    C2=ty_part[m]*2-1\n",
    "    C3=ty_part[2*m]*2-1\n",
    "\n",
    "    ty_LG_part[m]=C1*C2+C2*C3-C1*C3\n",
    "\n",
    "    C1=tz_part[0]*2-1\n",
    "    C2=tz_part[m]*2-1\n",
    "    C3=tz_part[2*m]*2-1\n",
    "\n",
    "    tz_LG_part[m]=C1*C2+C2*C3-C1*C3\n",
    "\n",
    "plt.plot(time_axis[:m_tot],tz_LG_part.mean(-1)+ty_LG_part.mean(-1)+tx_LG_part.mean(-1))\n",
    "plt.yticks([-1,0,1])\n",
    "plt.xticks([0,1,2])\n",
    "plt.xlim([0,2])\n",
    "plt.ylim([-1.8,1.5])"
   ]
  },
  {
   "cell_type": "code",
   "execution_count": null,
   "metadata": {
    "collapsed": true
   },
   "outputs": [],
   "source": [
    "\n",
    "m_tot=50\n",
    "\n",
    "tx_LG_part=np.zeros((m_tot,tx_part.shape[1]))\n",
    "ty_LG_part=np.zeros((m_tot,tx_part.shape[1]))\n",
    "tz_LG_part=np.zeros((m_tot,tx_part.shape[1]))\n",
    "\n",
    "\n",
    "plt.figure()\n",
    "for m in np.arange(m_tot):\n",
    "        \n",
    "    C1=tx_part[0]*2-1\n",
    "    C2=tx_part[m]*2-1\n",
    "    C3=tx_part[2*m]*2-1\n",
    "\n",
    "    tx_LG_part[m]=C1*C2-C2*C3+C1*C3\n",
    "\n",
    "    C1=ty_part[0]*2-1\n",
    "    C2=ty_part[m]*2-1\n",
    "    C3=ty_part[2*m]*2-1\n",
    "\n",
    "    ty_LG_part[m]=C1*C2+C2*C3-C1*C3\n",
    "\n",
    "    C1=tz_part[0]*2-1\n",
    "    C2=tz_part[m]*2-1\n",
    "    C3=tz_part[2*m]*2-1\n",
    "\n",
    "    tz_LG_part[m]=C1*C2+C2*C3-C1*C3\n",
    "\n",
    "plt.plot(tx_LG_part.mean(-1))\n",
    "plt.plot(ty_LG_part.mean(-1))\n",
    "plt.plot(tz_LG_part.mean(-1))"
   ]
  },
  {
   "cell_type": "code",
   "execution_count": null,
   "metadata": {
    "collapsed": true
   },
   "outputs": [],
   "source": [
    "t_axis=np.linspace(0,10,100)\n",
    "plt.plot(2*np.cos(t_axis)-np.cos(2.*t_axis))\n",
    "plt.plot(np.cos(t_axis)+np.cos(t_axis)*np.cos(2*t_axis)-np.cos(2.*t_axis))"
   ]
  },
  {
   "cell_type": "code",
   "execution_count": null,
   "metadata": {
    "collapsed": true
   },
   "outputs": [],
   "source": []
  },
  {
   "cell_type": "code",
   "execution_count": null,
   "metadata": {
    "collapsed": true
   },
   "outputs": [],
   "source": [
    "np.cos(t)"
   ]
  },
  {
   "cell_type": "code",
   "execution_count": null,
   "metadata": {
    "collapsed": true
   },
   "outputs": [],
   "source": []
  },
  {
   "cell_type": "code",
   "execution_count": null,
   "metadata": {
    "collapsed": true
   },
   "outputs": [],
   "source": []
  },
  {
   "cell_type": "code",
   "execution_count": null,
   "metadata": {
    "collapsed": true
   },
   "outputs": [],
   "source": [
    "m=16\n",
    "n=2*m\n",
    "\n",
    "C1=tx_part[:-n]*2-1\n",
    "C2=tx_part[m:m-n]*2-1\n",
    "C3=tx_part[n:]*2-1\n",
    "\n",
    "tx_LG_part=C1*C2+C2*C3-C1*C3\n",
    "\n",
    "C1=ty_part[:-n]*2-1\n",
    "C3=ty_part[n:]*2-1\n",
    "C2=ty_part[m:m-n]*2-1\n",
    "\n",
    "ty_LG_part=C1*C2+C2*C3-C1*C3\n",
    "\n",
    "C1=tz_part[:-n]*2-1\n",
    "C2=tz_part[m:m-n]*2-1\n",
    "C3=tz_part[n:]*2-1\n",
    "\n",
    "tz_LG_part=-(C1*C2+C2*C3-C1*C3)\n",
    "\n",
    "plt.plot(tx_LG_part.mean(-1))\n",
    "plt.plot(ty_LG_part.mean(-1))\n",
    "plt.plot(tz_LG_part.mean(-1))"
   ]
  },
  {
   "cell_type": "code",
   "execution_count": null,
   "metadata": {
    "collapsed": true
   },
   "outputs": [],
   "source": [
    "m=16\n",
    "\n",
    "plt.figure()\n",
    "for m in np.arange(12,18):\n",
    "\n",
    "    n=2*m\n",
    "\n",
    "\n",
    "    C1=tx_smoothing_part[:-n]*2-1\n",
    "    C2=ty_smoothing_part[m:m-n]*2-1\n",
    "    C3=tz_smoothing_part[n:]*2-1\n",
    "\n",
    "    tx_LG_part=C1*C2+C2*C3-C1*C3\n",
    "\n",
    "    C1=tx_smoothing_part[:-n]*2-1\n",
    "    C3=ty_smoothing_part[n:]*2-1\n",
    "    C2=tz_smoothing_part[m:m-n]*2-1\n",
    "\n",
    "    ty_LG_part=C1*C2+C2*C3-C1*C3\n",
    "\n",
    "    C1=tx_smoothing_part[:-n]*2-1\n",
    "    C2=ty_smoothing_part[m:m-n]*2-1\n",
    "    C3=tz_smoothing_part[n:]*2-1\n",
    "\n",
    "    tz_LG_part=-(C1*C2+C2*C3-C1*C3)\n",
    "\n",
    "    plt.plot(tx_LG_part.mean(-1))\n",
    "    plt.plot(ty_LG_part.mean(-1))\n",
    "    plt.plot(tz_LG_part.mean(-1))"
   ]
  },
  {
   "cell_type": "code",
   "execution_count": null,
   "metadata": {
    "collapsed": true
   },
   "outputs": [],
   "source": [
    "bins=np.linspace(-2,2,nbins)\n",
    "\n",
    "\n",
    "hist_LG_x=[]\n",
    "hist_LG_y=[]\n",
    "hist_LG_z=[]\n",
    "for i in np.arange(tx_LG_part.shape[0]):\n",
    "    \n",
    "    h,_=np.histogram(tx_LG_part[i],bins=bins)\n",
    "    hist_LG_x.append(h)\n",
    "    h,_=np.histogram(ty_LG_part[i],bins=bins)\n",
    "    hist_LG_y.append(h)\n",
    "    h,_=np.histogram(tz_LG_part[i],bins=bins)\n",
    "    hist_LG_z.append(h)\n",
    "    \n",
    "    \n",
    "\n",
    "hist_LG_x=np.stack(hist_LG_x).T\n",
    "hist_LG_y=np.stack(hist_LG_y).T\n",
    "hist_LG_z=np.stack(hist_LG_z).T\n",
    "\n",
    "\n",
    "exponant=0.5\n",
    "vmax=np.max([hist_LG_x,hist_LG_y,hist_LG_z])**exponant\n",
    "\n",
    "trace_1=10\n",
    "trace_2=114\n",
    "aspect_ratio=12\n",
    "\n",
    "fig = plt.figure(figsize=(50, 20))\n",
    "ax = fig.add_subplot(131)\n",
    "plt.imshow(hist_LG_x[:,1:98]**exponant, interpolation='nearest', origin='low',extent=[0, tx_LG_part.shape[0], -2, 2],cmap=\"hot\",norm=None)\n",
    "plt.plot(tx_LG_part.mean(-1),color=\"white\",linewidth=3)\n",
    "plt.plot(tx_LG_part[1:98,trace_2],color=\"lightgrey\",linewidth=3)\n",
    "ax.set_ylim([-2,2])\n",
    "ax.set_aspect(aspect_ratio/2.)\n",
    "plt.yticks([0,1], fontsize = 20)\n",
    "plt.xticks(np.linspace(0,96,5), fontsize = 20)\n",
    "ax.set_xticklabels([0,1,2,3,4])\n",
    "\n",
    "fig = plt.figure(figsize=(50, 20))\n",
    "ax = fig.add_subplot(131)\n",
    "plt.imshow(hist_LG_y[:,1:98]**exponant, interpolation='nearest', origin='low',extent=[0, tx_LG_part.shape[0], -2, 2],cmap=\"hot\",vmax=vmax,vmin=0)\n",
    "plt.plot(ty_LG_part.mean(-1),color=\"white\",linewidth=3)\n",
    "plt.plot(ty_LG_part[1:98,trace_2],color=\"lightgrey\",linewidth=3)\n",
    "ax.set_ylim([-2,2])\n",
    "ax.set_aspect(aspect_ratio/2.)\n",
    "plt.yticks([0,1], fontsize = 20)\n",
    "plt.xticks(np.linspace(0,96,5), fontsize = 20)\n",
    "ax.set_xticklabels([0,1,2,3,4])\n",
    "\n",
    "fig = plt.figure(figsize=(50, 20))\n",
    "ax = fig.add_subplot(131)\n",
    "plt.imshow(hist_LG_z[:,1:98]**exponant, interpolation='nearest', origin='low',extent=[0, tx_LG_part.shape[0], -2, 2],cmap=\"hot\",vmax=vmax,vmin=0)\n",
    "plt.plot(tz_LG_part.mean(-1),color=\"white\",linewidth=3)\n",
    "plt.plot(tz_LG_part[1:98,trace_2],color=\"lightgrey\",linewidth=3)\n",
    "ax.set_ylim([-2,2])\n",
    "ax.set_aspect(aspect_ratio/2.)\n",
    "plt.yticks([0,1], fontsize = 20)\n",
    "plt.xticks(np.linspace(0,96,5), fontsize = 20)\n",
    "ax.set_xticklabels([0,1,2,3,4])\n"
   ]
  },
  {
   "cell_type": "markdown",
   "metadata": {
    "collapsed": true
   },
   "source": [
    "# 2D Analysis of disturbance and evolution from trajectories"
   ]
  },
  {
   "cell_type": "code",
   "execution_count": null,
   "metadata": {
    "collapsed": true,
    "scrolled": false
   },
   "outputs": [],
   "source": [
    "prep=(np.array([[0,0,1],[0,1,0],[0,0,-1],[0,-1,0],[1,0,0],[-1,0,0]])+1.)/2.\n",
    "\n",
    "i=-1\n",
    "mask_time=(test_time==time_list[i]-1)\n",
    "\n",
    "j=2\n",
    "mask_prep=(np.zeros(test_rho.shape[0])==0)\n",
    "for k in np.arange(test_rho.shape[0]):\n",
    "    mask_prep[i]=np.array_equal(test_rho[k],prep[j])\n",
    "mask=np.logical_and(mask_time,mask_prep)\n",
    "\n",
    "mask=mask_time\n",
    "\n",
    "first_time=time_list[0]-n_offset+5\n",
    "last_time=time_list[i]-1-n_offset-5\n",
    "\n",
    "tx_part=tx_pred[mask,first_time:last_time].T\n",
    "ty_part=ty_pred[mask,first_time:last_time].T\n",
    "tz_part=tz_pred[mask,first_time:last_time].T\n",
    "\n",
    "n=1\n",
    "\n",
    "\n",
    "a=np.stack([tx_part[:,:],ty_part[:,:],tz_part[:,:]],axis=2)\n",
    "amean=(a[n:]+a[:-n])/2.#a[n:]\n",
    "da=a[n:]-a[:-n]\n",
    "\n",
    "rho=amean.reshape(da.shape[0]*da.shape[1],da.shape[2])\n",
    "drho=da.reshape(da.shape[0]*da.shape[1],da.shape[2])\n",
    "\n",
    "\n",
    "#N=41\n",
    "N=26\n",
    "delta=1./(N-1)\n",
    "target=np.linspace(0.,1.,N)\n",
    "\n",
    "drho_grid=np.zeros((N,N,3))\n",
    "num_grid=np.zeros((N,N))\n",
    "drho_dist_grid=np.zeros((N,N,3))\n",
    "drho_covmat_grid=np.zeros((3,N,N,2,2))\n",
    "drho_covmat_grid_test=np.zeros((N,N,3,3))\n",
    "\n",
    "\n",
    "mask_array_x=np.logical_and((rho[:,0]>0.45),(rho[:,0]<0.55))\n",
    "for j in np.arange(N):\n",
    "    mask_array_y=np.logical_and((rho[:,1]>target[j]-delta/2.),(rho[:,1]<target[j]+delta/2.))\n",
    "    for k in np.arange(N):\n",
    "        mask_array_z=np.logical_and((rho[:,2]>target[k]-delta/2.),(rho[:,2]<target[k]+delta/2.))\n",
    "\n",
    "\n",
    "        num_grid[j,k]=(mask_array_x*mask_array_y*mask_array_z).sum()\n",
    "        if num_grid[j,k]>20:\n",
    "            \n",
    "            drho_masked=drho[mask_array_x*mask_array_y*mask_array_z]\n",
    "            drho_grid[j,k]=drho_masked.mean(0)\n",
    "            \n",
    "\n",
    "            #drho_dist_grid[j,k]=np.sqrt(((drho[np.logical_and(mask_array_y,mask_array_z)])**2).mean(0)-\\\n",
    "            #((drho[np.logical_and(mask_array_y,mask_array_z)]).mean(0))**2)\n",
    "            \n",
    "            drho_covmat_grid[0,j,k]=np.cov(drho_masked[:,(0,1)].T)\n",
    "            drho_covmat_grid[1,j,k]=np.cov(drho_masked[:,(0,2)].T)\n",
    "            drho_covmat_grid[2,j,k]=np.cov(drho_masked[:,(1,2)].T)\n",
    "        \n",
    "            drho_covmat_grid_test[j,k]=np.cov(drho_masked.T)"
   ]
  },
  {
   "cell_type": "code",
   "execution_count": null,
   "metadata": {
    "collapsed": true
   },
   "outputs": [],
   "source": [
    "plt.figure(figsize=(15,5))\n",
    "\n",
    "Y, X = np.meshgrid(np.linspace(-1, 1, N), np.linspace(-1, 1, N))\n",
    "U = drho_grid[:,:,1]\n",
    "V = drho_grid[:,:,0]\n",
    "ax=plt.subplot(1,3,1)\n",
    "plt.quiver(X, Y, U, V, np.sqrt(U**2+V**2), units='width',scale=1.)\n",
    "ax.set_aspect('equal')\n",
    "\n",
    "U = drho_grid[:,:,0]\n",
    "V = drho_grid[:,:,2]\n",
    "ax=plt.subplot(1,3,2)\n",
    "plt.quiver(X, Y, U, V, np.sqrt(U**2+V**2), units='width',scale=1.)\n",
    "ax.set_aspect('equal')\n",
    "\n",
    "U = drho_grid[:,:,1]\n",
    "V = drho_grid[:,:,2]\n",
    "ax=plt.subplot(1,3,3)\n",
    "plt.quiver(X, Y, U, V,np.sqrt(U**2+V**2), units='width',scale=1.)\n",
    "ax.set_aspect('equal')\n",
    "\n",
    "plt.figure(figsize=(15,5))\n",
    "\n",
    "for i in np.arange(3):\n",
    "    lambda_, v = np.linalg.eig(drho_covmat_grid[i])\n",
    "\n",
    "    Y, X = np.meshgrid(np.linspace(-1, 1, N), np.linspace(-1, 1, N))\n",
    "\n",
    "    scale=0.5\n",
    "    U1 = np.sqrt(lambda_[:,:,1])*v[:,:,0,1]*scale\n",
    "    V1 = np.sqrt(lambda_[:,:,1])*v[:,:,1,1]*scale\n",
    "\n",
    "    U2 = np.sqrt(lambda_[:,:,0])*v[:,:,0,0]*scale\n",
    "    V2 = np.sqrt(lambda_[:,:,0])*v[:,:,1,0]*scale\n",
    "\n",
    "    M=np.sqrt(lambda_[:,:,0]+lambda_[:,:,1])*5\n",
    "    \n",
    "    ax=plt.subplot(1,3,1+i)\n",
    "    plt.quiver(X, Y, V1, U1, M, units='width',scale=1.)\n",
    "    plt.quiver(X, Y, -V1, -U1, M, units='width',scale=1.)\n",
    "\n",
    "    plt.quiver(X, Y, V2, U2, M, units='width',scale=1.)\n",
    "    plt.quiver(X, Y, -V2, -U2, M, units='width',scale=1.)\n",
    "    ax.set_aspect('equal')\n",
    "\n"
   ]
  },
  {
   "cell_type": "code",
   "execution_count": null,
   "metadata": {
    "collapsed": true
   },
   "outputs": [],
   "source": [
    "plt.figure(figsize=(20,10))\n",
    "\n",
    "\n",
    "Y, X = np.meshgrid(np.linspace(-1, 1, N), np.linspace(-1, 1, N))\n",
    "scale=1.5\n",
    "\n",
    "\n",
    "U = drho_grid[:,:,1]*scale\n",
    "V = drho_grid[:,:,2]*scale\n",
    "ax=plt.subplot(1,2,1)\n",
    "plt.quiver(X, Y, U, V,np.sqrt(U**2+V**2), units='width',scale=1.)\n",
    "ax.set_aspect('equal')\n",
    "plt.ylim([-1,1])\n",
    "plt.xlim([-1,1])\n",
    "plt.yticks([-1,1],fontsize=20)\n",
    "ax.set_yticklabels([0,1])\n",
    "plt.xticks([-1,1],fontsize=20)\n",
    "ax.set_xticklabels([\"\",1])\n",
    "\n",
    "\n",
    "\n",
    "lambda_, v = np.linalg.eig(drho_covmat_grid[2])\n",
    "\n",
    "U1 = np.sqrt(lambda_[:,:,1])*v[:,:,0,1]*scale\n",
    "V1 = np.sqrt(lambda_[:,:,1])*v[:,:,1,1]*scale\n",
    "\n",
    "U2 = np.sqrt(lambda_[:,:,0])*v[:,:,0,0]*scale\n",
    "V2 = np.sqrt(lambda_[:,:,0])*v[:,:,1,0]*scale\n",
    "\n",
    "M=np.sqrt(lambda_[:,:,0]+lambda_[:,:,1])*5\n",
    "\n",
    "ax=plt.subplot(1,2,2)\n",
    "plt.quiver(X, Y, U1, V1, M, units='width',scale=1.)\n",
    "plt.quiver(X, Y, -U1, -V1, M, units='width',scale=1.)\n",
    "\n",
    "plt.quiver(X, Y, U2, V2, M, units='width',scale=1.)\n",
    "plt.quiver(X, Y, -U2, -V2, M, units='width',scale=1.)\n",
    "ax.set_aspect('equal')\n",
    "plt.ylim([-1,1])\n",
    "plt.xlim([-1,1])\n",
    "plt.yticks([-1,1],fontsize=20)\n",
    "ax.set_yticklabels([0,1])\n",
    "plt.xticks([-1,1],fontsize=20)\n",
    "ax.set_xticklabels([\"\",1])"
   ]
  },
  {
   "cell_type": "code",
   "execution_count": null,
   "metadata": {
    "collapsed": true
   },
   "outputs": [],
   "source": [
    "drho_grid\n",
    "rho=np.stack([X*0,X,Y],axis=-1)\n",
    "\n",
    "\n",
    "h=np.array([0,1,0])\n",
    "l=np.array([1,0,0])\n",
    "   \n",
    "num_threshold=50\n",
    "\n",
    "dt=4/100.\n",
    "\n",
    "\n",
    "def drho(rho,arg):\n",
    "    h=arg[:3]\n",
    "    l=arg[3:]\n",
    "    l[0]=0\n",
    "    l[1]=0\n",
    "    mask=(np.stack([num_grid>num_threshold]*3,axis=-1))*1.\n",
    "    return (np.cross(rho,h)-np.cross(l,np.cross(rho,l)))*mask\n",
    "\n",
    "#loss=((drho(rho,h,l)-drho_grid)**2).sum()\n",
    "\n",
    "def loss_vec(arg):\n",
    "    \n",
    "    num=(np.stack([num_grid]*3,axis=-1))*1.\n",
    "    return (num*(drho(rho,arg)-drho_grid)**2).sum()\n",
    "\n",
    "\n",
    "def drho_covfull(rho,arg):\n",
    "    \n",
    "    h=arg[:3]\n",
    "    l=arg[3:]\n",
    "    mask=(np.stack([num_grid>num_threshold]*3,axis=-1))*1.\n",
    "    purity=(rho**2).sum(-1).reshape(N,N,1)\n",
    "    drho_dist=((1-purity)*l-np.cross(rho,np.cross(rho,l)))*mask\n",
    "    covmat=np.matmul(drho_dist.reshape(N,N,3,1),drho_dist.reshape(N,N,1,3))\n",
    "    return covmat\n",
    "\n",
    "def loss_distfull(arg):\n",
    "    \n",
    "    #mask=(np.stack([num_grid>num_threshold]*3,axis=-1))*1.\n",
    "    \n",
    "    return ((drho_covfull(rho,arg)-drho_covmat_grid_test)**2).sum()\n",
    "\n",
    "def drho_cov(rho,arg):\n",
    "    \n",
    "    h=arg[:3]\n",
    "    l=arg[3:]\n",
    "    mask=(np.stack([num_grid>num_threshold]*3,axis=-1))*1.\n",
    "    purity=(rho**2).sum(-1).reshape(N,N,1)\n",
    "    drho_dist=((1-purity)*l-np.cross(rho,np.cross(rho,l)))*mask\n",
    "    \n",
    "    return drho_dist\n",
    "\n",
    "def loss_dist(arg):\n",
    "    \n",
    "    num=(np.stack([num_grid]*3,axis=-1))*1.\n",
    "    \n",
    "    cov_mat=np.sqrt(drho_covmat_grid_test.diagonal(axis1=2, axis2=3))\n",
    "    return (num*(drho_cov(rho,arg)-cov_mat)**2).sum()"
   ]
  },
  {
   "cell_type": "code",
   "execution_count": null,
   "metadata": {
    "collapsed": true
   },
   "outputs": [],
   "source": [
    "import scipy.optimize as sp\n",
    "result=sp.minimize(loss_vec, [0.76,0,0,0,0,0.4])\n",
    "#print(result)\n",
    "\n",
    "print(loss_vec(result['x']))\n",
    "print(result['x'])\n",
    "op_vec=result['x']\n",
    "\n",
    "\n",
    "\n",
    "\n",
    "\n",
    "plt.figure(figsize=(10,5))\n",
    "\n",
    "Y, X = np.meshgrid(np.linspace(-1, 1, N), np.linspace(-1, 1, N))\n",
    "scale=2.\n",
    "\n",
    "result_test=[-0.1,0,0,0,0,0.2]\n",
    "\n",
    "U = drho(rho,result['x'])[:,:,1]*scale\n",
    "V = drho(rho,result['x'])[:,:,2]*scale\n",
    "\n",
    "\n",
    "U = drho(rho,result_test)[:,:,1]*scale\n",
    "V = drho(rho,result_test)[:,:,2]*scale\n",
    "\n",
    "ax=plt.subplot(1,2,1)\n",
    "plt.quiver(X, Y, U, V,np.sqrt(U**2+V**2), units='width',scale=1.)\n",
    "ax.set_aspect('equal')\n",
    "plt.ylim([-1,1])\n",
    "plt.xlim([-1,1])\n",
    "plt.yticks([-1,1],fontsize=20)\n",
    "ax.set_yticklabels([0,1])\n",
    "plt.xticks([-1,1],fontsize=20)\n",
    "ax.set_xticklabels([\"\",1])\n",
    "\n",
    "plt.figure(figsize=(10,5))\n",
    "\n",
    "\n",
    "U = drho_grid[:,:,1]*scale\n",
    "V = drho_grid[:,:,2]*scale\n",
    "ax=plt.subplot(1,2,1)\n",
    "plt.quiver(X, Y, U, V,np.sqrt(U**2+V**2), units='width',scale=1.)\n",
    "ax.set_aspect('equal')\n",
    "plt.ylim([-1,1])\n",
    "plt.xlim([-1,1])\n",
    "plt.yticks([-1,1],fontsize=20)\n",
    "ax.set_yticklabels([0,1])\n",
    "plt.xticks([-1,1],fontsize=20)\n",
    "ax.set_xticklabels([\"\",1])\n",
    "scale=1."
   ]
  },
  {
   "cell_type": "code",
   "execution_count": null,
   "metadata": {
    "collapsed": true
   },
   "outputs": [],
   "source": [
    "Omega=np.abs(op_vec[:3]/dt/(2.*np.pi)*2)\n",
    "Gamma=np.abs(op_vec[3:]/dt/(2.*np.pi))\n",
    "Gamma=np.abs((op_vec[3:]/dt/(2.*np.pi)))**2\n",
    "\n",
    "\n",
    "Gamma_m=np.abs(op_dist[3:]/dt/(2.*np.pi))**2\n",
    "\n",
    "efficiency=Gamma_m/Gamma\n",
    "\n",
    "print(Omega)\n",
    "print(Gamma)\n",
    "print(Gamma_m)\n",
    "print(efficiency)"
   ]
  },
  {
   "cell_type": "code",
   "execution_count": null,
   "metadata": {
    "collapsed": true
   },
   "outputs": [],
   "source": [
    "[ 0.43973278  0.76794975  0.47734746  0.49460782 -0.27230914]"
   ]
  },
  {
   "cell_type": "code",
   "execution_count": null,
   "metadata": {
    "collapsed": true
   },
   "outputs": [],
   "source": [
    "import scipy.optimize as sp\n",
    "result=sp.minimize(loss_distfull, [1,0,0,0,0,1])\n",
    "\n",
    "print(result['x'])\n",
    "op_dist=result['x']\n",
    "\n",
    "\n",
    "plt.figure(figsize=(10,5))\n",
    "\n",
    "\n",
    "scale=2.\n",
    "\n",
    "\n",
    "\n",
    "lambda_, v = np.linalg.eig(drho_covfull(rho,result['x'])[:,:,1:,1:])\n",
    "\n",
    "U1 = np.sqrt(lambda_[:,:,1])*v[:,:,0,1]*scale\n",
    "V1 = np.sqrt(lambda_[:,:,1])*v[:,:,1,1]*scale\n",
    "\n",
    "U2 = np.sqrt(lambda_[:,:,0])*v[:,:,0,0]*scale\n",
    "V2 = np.sqrt(lambda_[:,:,0])*v[:,:,1,0]*scale\n",
    "\n",
    "M=np.sqrt(lambda_[:,:,0]+lambda_[:,:,1])*5\n",
    "\n",
    "ax=plt.subplot(1,2,2)\n",
    "plt.quiver(X, Y, U1, V1, M, units='width',scale=1.)\n",
    "plt.quiver(X, Y, -U1, -V1, M, units='width',scale=1.)\n",
    "\n",
    "plt.quiver(X, Y, U2, V2, M, units='width',scale=1.)\n",
    "plt.quiver(X, Y, -U2, -V2, M, units='width',scale=1.)\n",
    "ax.set_aspect('equal')\n",
    "plt.ylim([-1,1])\n",
    "plt.xlim([-1,1])\n",
    "plt.yticks([-1,1],fontsize=20)\n",
    "ax.set_yticklabels([0,1])\n",
    "plt.xticks([-1,1],fontsize=20)\n",
    "ax.set_xticklabels([\"\",1])\n",
    "\n",
    "plt.figure(figsize=(10,5))\n",
    "\n",
    "\n",
    "\n",
    "\n",
    "lambda_, v = np.linalg.eig(drho_covmat_grid[2])\n",
    "\n",
    "U1 = np.sqrt(np.abs(lambda_[:,:,1]))*v[:,:,0,1]*scale\n",
    "V1 = np.sqrt(np.abs(lambda_[:,:,1]))*v[:,:,1,1]*scale\n",
    "\n",
    "U2 = np.sqrt(np.abs(lambda_[:,:,0]))*v[:,:,0,0]*scale\n",
    "V2 = np.sqrt(np.abs(lambda_[:,:,0]))*v[:,:,1,0]*scale\n",
    "\n",
    "M=np.sqrt(np.abs(lambda_[:,:,0]+lambda_[:,:,1]))*5\n",
    "\n",
    "ax=plt.subplot(1,2,2)\n",
    "plt.quiver(X, Y, U1, V1, M, units='width',scale=1.)\n",
    "plt.quiver(X, Y, -U1, -V1, M, units='width',scale=1.)\n",
    "\n",
    "plt.quiver(X, Y, U2, V2, M, units='width',scale=1.)\n",
    "plt.quiver(X, Y, -U2, -V2, M, units='width',scale=1.)\n",
    "ax.set_aspect('equal')\n",
    "plt.ylim([-1,1])\n",
    "plt.xlim([-1,1])\n",
    "plt.yticks([-1,1],fontsize=20)\n",
    "ax.set_yticklabels([0,1])\n",
    "plt.xticks([-1,1],fontsize=20)\n",
    "ax.set_xticklabels([\"\",1])"
   ]
  },
  {
   "cell_type": "code",
   "execution_count": null,
   "metadata": {
    "collapsed": true
   },
   "outputs": [],
   "source": [
    "(0.07952117/0.13049958)**2"
   ]
  },
  {
   "cell_type": "code",
   "execution_count": null,
   "metadata": {
    "collapsed": true
   },
   "outputs": [],
   "source": [
    "import scipy.optimize as sp\n",
    "result=sp.minimize(loss_dist, [1,0,0,0,0,1])\n",
    "\n",
    "print(loss_vec(result['x']))\n",
    "print(result['x'])\n",
    "op_dist=result['x']\n",
    "\n",
    "plt.figure(figsize=(10,5))\n",
    "\n",
    "Y, X = np.meshgrid(np.linspace(-1, 1, N), np.linspace(-1, 1, N))\n",
    "scale=0.5\n",
    "\n",
    "cov_mat=np.sqrt(drho_covmat_grid_test.diagonal(axis1=2, axis2=3))\n",
    "\n",
    "U1 = np.sign(drho_covmat_grid_test[:,:,1,2])*np.sqrt(drho_covmat_grid_test[:,:,1,1])*scale\n",
    "V1 = np.sqrt(drho_covmat_grid_test[:,:,2,2])*scale\n",
    "\n",
    "#U2 = np.sqrt(lambda_[:,:,0])*v[:,:,0,0]*scale\n",
    "#V2 = np.sqrt(lambda_[:,:,0])*v[:,:,1,0]*scale\n",
    "\n",
    "#M=np.sqrt(lambda_[:,:,0]+lambda_[:,:,1])*5\n",
    "\n",
    "ax=plt.subplot(1,2,2)\n",
    "plt.quiver(X, Y, U1, V1, np.sqrt(U1**2+V1**2), units='width',scale=1.)\n",
    "plt.quiver(X, Y, -U1, -V1, np.sqrt(U1**2+V1**2), units='width',scale=1.)\n",
    "\n",
    "ax.set_aspect('equal')\n",
    "plt.ylim([-1,1])\n",
    "plt.xlim([-1,1])\n",
    "plt.yticks([-1,1],fontsize=20)\n",
    "ax.set_yticklabels([0,1])\n",
    "plt.xticks([-1,1],fontsize=20)\n",
    "ax.set_xticklabels([\"\",1])\n",
    "\n",
    "\n",
    "plt.figure(figsize=(10,5))\n",
    "\n",
    "cov_mat=drho_cov(rho,result['x'])\n",
    "#cov_mat=drho_cov(rho,[0,0,0,0,0,0.1])\n",
    "\n",
    "\n",
    "U1 = cov_mat[:,:,1]*scale\n",
    "V1 = cov_mat[:,:,2]*scale\n",
    "\n",
    "\n",
    "ax=plt.subplot(1,2,2)\n",
    "plt.quiver(X, Y, U1, V1, np.sqrt(U1**2+V1**2), units='width',scale=1.)\n",
    "plt.quiver(X, Y, -U1, -V1, np.sqrt(U1**2+V1**2), units='width',scale=1.)\n",
    "\n",
    "ax.set_aspect('equal')\n",
    "plt.ylim([-1,1])\n",
    "plt.xlim([-1,1])\n",
    "plt.yticks([-1,1],fontsize=20)\n",
    "ax.set_yticklabels([0,1])\n",
    "plt.xticks([-1,1],fontsize=20)\n",
    "ax.set_xticklabels([\"\",1])"
   ]
  },
  {
   "cell_type": "markdown",
   "metadata": {
    "collapsed": true
   },
   "source": [
    "# 3D Analysis of disturbance and evolution from trajectories"
   ]
  },
  {
   "cell_type": "code",
   "execution_count": null,
   "metadata": {
    "collapsed": true,
    "scrolled": false
   },
   "outputs": [],
   "source": [
    "prep=(np.array([[0,0,1],[0,1,0],[0,0,-1],[0,-1,0],[1,0,0],[-1,0,0]])+1.)/2.\n",
    "\n",
    "rho=[]\n",
    "drho=[]\n",
    "\n",
    "i=-1\n",
    "for i in np.arange(20):\n",
    "    mask_time=(test_time==time_list[i]-1)\n",
    "\n",
    "    #j=2\n",
    "    #mask_prep=(np.zeros(test_rho.shape[0])==0)\n",
    "    #for k in np.arange(test_rho.shape[0]):\n",
    "    #    mask_prep[i]=np.array_equal(test_rho[k],prep[j])\n",
    "    #mask=np.logical_and(mask_time,mask_prep)\n",
    "\n",
    "    mask=mask_time\n",
    "\n",
    "    first_time=0#time_list[0]-n_offset\n",
    "    last_time=time_list[i]-1-n_offset\n",
    "\n",
    "    tx_part=tx_pred[mask,first_time:last_time].T\n",
    "    ty_part=ty_pred[mask,first_time:last_time].T\n",
    "    tz_part=tz_pred[mask,first_time:last_time].T\n",
    "    \n",
    "    n=1\n",
    "\n",
    "    a=np.stack([tx_part[:,:],ty_part[:,:],tz_part[:,:]],axis=2)\n",
    "    amean=(a[n:]+a[:-n])/2.\n",
    "    da=a[n:]-a[:-n]\n",
    "\n",
    "    rho_tmp=amean.reshape(da.shape[0]*da.shape[1],da.shape[2])\n",
    "    drho_tmp=da.reshape(da.shape[0]*da.shape[1],da.shape[2])\n",
    "\n",
    "    rho.append(rho_tmp)\n",
    "    drho.append(drho_tmp)\n",
    "\n",
    "rho =np.concatenate(rho)\n",
    "drho=np.concatenate(drho)\n",
    "\n",
    "\n",
    "Nx=11\n",
    "Ny=11\n",
    "Nz=11\n",
    "delta_x=1./(Nx-1)\n",
    "delta_y=1./(Ny-1)\n",
    "delta_z=1./(Nz-1)\n",
    "\n",
    "target_x=np.linspace(0.,1.,Nx)\n",
    "target_y=np.linspace(0.,1.,Ny)\n",
    "target_z=np.linspace(0.,1.,Nz)\n",
    "\n",
    "\n",
    "num_grid=np.zeros((Nx,Ny,Nz))\n",
    "drho_grid=np.zeros((Nx,Ny,Nz,3))\n",
    "drho_covmat_grid=np.zeros((Nx,Ny,Nz,3,3))\n",
    "\n",
    "for i in np.arange(target_x.shape[0]):\n",
    "    mask_array_x=np.logical_and((rho[:,0]>target_x[i]-delta_x/2.),(rho[:,0]<target_x[i]+delta_x/2.))\n",
    "    for j in np.arange(target_y.shape[0]):\n",
    "        mask_array_y=np.logical_and((rho[:,1]>target_y[j]-delta_y/2.),(rho[:,1]<target_y[j]+delta_y/2.))\n",
    "        for k in np.arange(target_z.shape[0]):\n",
    "            mask_array_z=np.logical_and((rho[:,2]>target_z[k]-delta_z/2.),(rho[:,2]<target_z[k]+delta_z/2.))\n",
    "\n",
    "\n",
    "            num_grid[i,j,k]=(mask_array_x*mask_array_y*mask_array_z).sum()\n",
    "            if num_grid[i,j,k]>50:\n",
    "\n",
    "                drho_masked=drho[mask_array_x*mask_array_y*mask_array_z]\n",
    "                drho_grid[i,j,k]=drho_masked.mean(0)\n",
    "\n",
    "                drho_covmat_grid[i,j,k]=np.cov(drho_masked.T)\n",
    "        "
   ]
  },
  {
   "cell_type": "code",
   "execution_count": null,
   "metadata": {
    "collapsed": true
   },
   "outputs": [],
   "source": [
    "from mpl_toolkits.mplot3d import axes3d\n",
    "import matplotlib.pyplot as plt\n",
    "\n",
    "fig = plt.figure(figsize=(15,10))\n",
    "ax = fig.gca(projection='3d')\n",
    "\n",
    "\n",
    "X, Y, Z = np.meshgrid(target_x*2-1.,target_y*2-1., target_z*2-1.)\n",
    "\n",
    "U = drho_grid[:,:,:,0]\n",
    "V = drho_grid[:,:,:,1]\n",
    "W = drho_grid[:,:,:,2]\n",
    "\n",
    "#ax=plt.subplot(1,2,1)\n",
    "plt.quiver(X, Y, Z, U, V, W)\n",
    "ax.set_aspect('equal')\n",
    "\n",
    "\n",
    "fig = plt.figure(figsize=(15,10))\n",
    "ax = fig.gca(projection='3d')\n",
    "\n",
    "lambda_, v = np.linalg.eig(drho_covmat_grid)\n",
    "\n",
    "scale=1.\n",
    "\n",
    "U0 = np.sqrt(lambda_[:,:,:,0])*v[:,:,:,0,0]*scale\n",
    "V0 = np.sqrt(lambda_[:,:,:,0])*v[:,:,:,1,0]*scale\n",
    "W0 = np.sqrt(lambda_[:,:,:,0])*v[:,:,:,2,0]*scale\n",
    "\n",
    "U1 = np.sqrt(lambda_[:,:,:,1])*v[:,:,:,0,1]*scale\n",
    "V1 = np.sqrt(lambda_[:,:,:,1])*v[:,:,:,1,1]*scale\n",
    "W1 = np.sqrt(lambda_[:,:,:,1])*v[:,:,:,2,1]*scale\n",
    "\n",
    "\n",
    "U2 = np.sqrt(lambda_[:,:,:,2])*v[:,:,:,0,2]*scale\n",
    "V2 = np.sqrt(lambda_[:,:,:,2])*v[:,:,:,1,2]*scale\n",
    "W2 = np.sqrt(lambda_[:,:,:,2])*v[:,:,:,2,2]*scale\n",
    "\n",
    "\n",
    "#M=np.sqrt(lambda_[:,:,0]+lambda_[:,:,1])*5\n",
    "\n",
    "#ax=plt.subplot(1,2,2)\n",
    "plt.quiver(X, Y, Z, U0, V0, W0)\n",
    "plt.quiver(X, Y, Z, -U0, -V0, -W0)\n",
    "\n",
    "plt.quiver(X, Y, Z, U1, V1, W1)\n",
    "plt.quiver(X, Y, Z, -U1, -V1, -W1)\n",
    "\n",
    "plt.quiver(X, Y, Z, U2, V2, W2)\n",
    "plt.quiver(X, Y, Z, -U2, -V2, -W2)\n",
    "\n",
    "ax.set_aspect('equal')\n"
   ]
  },
  {
   "cell_type": "code",
   "execution_count": null,
   "metadata": {
    "collapsed": true
   },
   "outputs": [],
   "source": []
  },
  {
   "cell_type": "code",
   "execution_count": null,
   "metadata": {
    "collapsed": true
   },
   "outputs": [],
   "source": [
    "from mpl_toolkits.mplot3d import axes3d\n",
    "import matplotlib.pyplot as plt\n",
    "\n",
    "fig = plt.figure(figsize=(15,10))\n",
    "ax = fig.gca(projection='3d')\n",
    "\n",
    "N=11\n",
    "scale=0.1\n",
    "\n",
    "X, Y, Z = np.meshgrid(target_x*2-1.,target_y*2-1., target_z*2-1.)\n",
    "a=0.1*np.array([0.,0.,1.])\n",
    "b=np.array([1.,0.,0.])\n",
    "rho=np.stack([X,Y,Z],axis=-1)\n",
    "mask=(np.stack([num_grid>0,num_grid>0,num_grid>0],axis=-1))*1.\n",
    "drho=(np.cross(rho,b)+np.cross(a,np.cross(rho,a)))*mask\n",
    "\n",
    "\n",
    "U=drho[:,:,:,0]*scale\n",
    "V=drho[:,:,:,1]*scale\n",
    "W=drho[:,:,:,2]*scale\n",
    "\n",
    "plt.quiver(X, Y, Z, U, V, W)\n",
    "ax.set_aspect('equal')"
   ]
  },
  {
   "cell_type": "code",
   "execution_count": null,
   "metadata": {
    "collapsed": true
   },
   "outputs": [],
   "source": [
    "drho_grid\n",
    "rho=np.stack([X,Y,Z],axis=-1)\n",
    "\n",
    "\n",
    "h=np.array([0,1,0])\n",
    "l=np.array([1,0,0])\n",
    "    \n",
    "def drho(rho,arg):\n",
    "    h=arg[:3]\n",
    "    l=arg[3:]\n",
    "    mask=(np.stack([num_grid>50,num_grid>50,num_grid>50],axis=-1))*1.\n",
    "    return (np.cross(rho,h)-np.cross(l,np.cross(rho,l)))*mask\n",
    "\n",
    "#loss=((drho(rho,h,l)-drho_grid)**2).sum()\n",
    "\n",
    "def loss_vec(arg):\n",
    "    \n",
    "    h=arg[:3]\n",
    "    l=arg[3:]\n",
    "\n",
    "    rho=np.stack([X,Y,Z],axis=-1)\n",
    "    #mask=(np.stack([num_grid>50,num_grid>50,num_grid>50],axis=-1))*1.\n",
    "    \n",
    "    drho_ME=drho(rho,arg)\n",
    "    \n",
    "\n",
    "    return (num_grid.reshape(N,N,N,1)*(drho_ME-drho_grid)**2).sum()\n",
    "\n",
    "def drho_cov(rho,arg):\n",
    "    h=arg[:3]\n",
    "    l=arg[3:]\n",
    "    mask=(np.stack([num_grid>50,num_grid>50,num_grid>50],axis=-1))*1.\n",
    "    \n",
    "    purity=(rho**2).sum(-1).reshape(N,N,N,1)\n",
    "    drho_dist=(np.cross(rho,np.cross(rho,l))-(1-purity)*l)*mask\n",
    "    #cov_mat=np.sqrt(drho_dist)\n",
    "    return drho_dist\n",
    "\n",
    "def loss_dist(arg):\n",
    "    \n",
    "    h=arg[:3]\n",
    "    l=arg[3:]\n",
    "    rho=np.stack([X,Y,Z],axis=-1)\n",
    "    mask=(np.stack([num_grid>50,num_grid>50,num_grid>50],axis=-1))*1.\n",
    "    \n",
    "    purity=(rho**2).sum(-1).reshape(N,N,N,1)\n",
    "    drho_dist=(np.cross(rho,np.cross(rho,l))-(1-purity)*l)*mask\n",
    "    cov_mat=np.sqrt(drho_covmat_grid.diagonal(axis1=3, axis2=4))\n",
    "    return (num_grid.reshape(N,N,N,1)*(drho_dist-cov_mat)**2).sum()"
   ]
  },
  {
   "cell_type": "code",
   "execution_count": null,
   "metadata": {
    "collapsed": true
   },
   "outputs": [],
   "source": [
    "result_dist=sp.minimize(loss_dist, [0,0,0,0,0,-1])\n",
    "\n",
    "print(loss_dist(result_dist['x']))\n",
    "print(result_dist['x'])\n",
    "\n",
    "\n",
    "\n",
    "fig = plt.figure(figsize=(15,10))\n",
    "ax = fig.gca(projection='3d')\n",
    "\n",
    "\n",
    "X, Y, Z = np.meshgrid(target_x*2-1.,target_y*2-1., target_z*2-1.)\n",
    "\n",
    "scale=1\n",
    "U=np.sqrt(drho_covmat_grid[:,:,:,0,0])*scale\n",
    "V=np.sqrt(drho_covmat_grid[:,:,:,1,1])*scale\n",
    "W=np.sqrt(drho_covmat_grid[:,:,:,2,2])*scale\n",
    "\n",
    "#ax=plt.subplot(1,2,1)\n",
    "plt.quiver(X, Y, Z, U, V, W,color='red')\n",
    "plt.quiver(X, Y, Z, -U, -V, -W,color='red')\n",
    "\n",
    "\n",
    "drho_cov2=drho_cov(rho,result_dist['x'])\n",
    "\n",
    "scale=1\n",
    "U1=drho_cov2[:,:,:,0]*scale\n",
    "V1=drho_cov2[:,:,:,1]*scale\n",
    "W1=drho_cov2[:,:,:,2]*scale\n",
    "\n",
    "#ax=plt.subplot(1,2,1)\n",
    "plt.quiver(X, Y, Z, U1, V1, W1)\n",
    "plt.quiver(X, Y, Z, -U1, -V1, -W1)\n",
    "\n",
    "ax.set_aspect('equal')"
   ]
  },
  {
   "cell_type": "code",
   "execution_count": null,
   "metadata": {
    "collapsed": true
   },
   "outputs": [],
   "source": [
    "import scipy.optimize as sp\n",
    "result=sp.minimize(loss_vec, [-1,0,0,0,0,-1])\n",
    "#print(result)\n",
    "\n",
    "print(loss_vec(result['x']))\n",
    "print(result['x'])\n",
    "\n",
    "fig = plt.figure(figsize=(15,10))\n",
    "ax = fig.gca(projection='3d')\n",
    "\n",
    "N=11\n",
    "scale=1\n",
    "\n",
    "X, Y, Z = np.meshgrid(target_x*2-1.,target_y*2-1., target_z*2-1.)\n",
    "rho=np.stack([X,Y,Z],axis=-1)\n",
    "drho_test=drho(rho,result['x'])\n",
    "\n",
    "\n",
    "U=drho_test[:,:,:,0]*scale\n",
    "V=drho_test[:,:,:,1]*scale\n",
    "W=drho_test[:,:,:,2]*scale\n",
    "\n",
    "plt.quiver(X, Y, Z, U, V, W,color='blue')\n",
    "ax.set_aspect('equal')\n",
    "\n",
    "scale=0\n",
    "\n",
    "\n",
    "\n",
    "U_fit = drho_grid[:,:,:,0]*scale\n",
    "V_fit = drho_grid[:,:,:,1]*scale\n",
    "W_fit = drho_grid[:,:,:,2]*scale\n",
    "\n",
    "plt.quiver(X, Y, Z, U_fit, V_fit, W_fit,color='red')\n",
    "ax.set_aspect('equal')\n",
    "\n",
    "ax.view_init(0, 0)\n"
   ]
  },
  {
   "cell_type": "code",
   "execution_count": null,
   "metadata": {
    "collapsed": true
   },
   "outputs": [],
   "source": []
  },
  {
   "cell_type": "code",
   "execution_count": null,
   "metadata": {
    "collapsed": true
   },
   "outputs": [],
   "source": [
    "from mpl_toolkits.mplot3d import axes3d\n",
    "import matplotlib.pyplot as plt\n",
    "\n",
    "fig = plt.figure(figsize=(15,10))\n",
    "ax = fig.gca(projection='3d')\n",
    "\n",
    "\n",
    "X, Y, Z = np.meshgrid(target_x*2-1.,target_y*2-1., target_z*2-1.)\n",
    "\n",
    "U = drho_grid[:,:,:,0]\n",
    "V = drho_grid[:,:,:,1]\n",
    "W = drho_grid[:,:,:,2]\n",
    "\n",
    "#ax=plt.subplot(1,2,1)\n",
    "plt.quiver(X, Y, Z, U, V, W)\n",
    "ax.set_aspect('equal')\n",
    "\n",
    "\n",
    "fig = plt.figure(figsize=(15,10))\n",
    "ax = fig.gca(projection='3d')\n",
    "\n",
    "lambda_, v = np.linalg.eig(drho_covmat_grid)\n",
    "\n",
    "scale=1.\n",
    "\n",
    "U0 = np.sqrt(lambda_[:,:,:,0])*v[:,:,:,0,0]*scale\n",
    "V0 = np.sqrt(lambda_[:,:,:,0])*v[:,:,:,1,0]*scale\n",
    "W0 = np.sqrt(lambda_[:,:,:,0])*v[:,:,:,2,0]*scale\n",
    "\n",
    "U1 = np.sqrt(lambda_[:,:,:,1])*v[:,:,:,0,1]*scale\n",
    "V1 = np.sqrt(lambda_[:,:,:,1])*v[:,:,:,1,1]*scale\n",
    "W1 = np.sqrt(lambda_[:,:,:,1])*v[:,:,:,2,1]*scale\n",
    "\n",
    "\n",
    "U2 = np.sqrt(lambda_[:,:,:,2])*v[:,:,:,0,2]*scale\n",
    "V2 = np.sqrt(lambda_[:,:,:,2])*v[:,:,:,1,2]*scale\n",
    "W2 = np.sqrt(lambda_[:,:,:,2])*v[:,:,:,2,2]*scale\n",
    "\n",
    "\n",
    "#M=np.sqrt(lambda_[:,:,0]+lambda_[:,:,1])*5\n",
    "\n",
    "#ax=plt.subplot(1,2,2)\n",
    "plt.quiver(X, Y, Z, U0, V0, W0)\n",
    "plt.quiver(X, Y, Z, -U0, -V0, -W0)\n",
    "\n",
    "plt.quiver(X, Y, Z, U1, V1, W1)\n",
    "plt.quiver(X, Y, Z, -U1, -V1, -W1)\n",
    "\n",
    "plt.quiver(X, Y, Z, U2, V2, W2)\n",
    "plt.quiver(X, Y, Z, -U2, -V2, -W2)\n",
    "\n",
    "ax.set_aspect('equal')\n"
   ]
  },
  {
   "cell_type": "code",
   "execution_count": null,
   "metadata": {
    "collapsed": true
   },
   "outputs": [],
   "source": []
  },
  {
   "cell_type": "code",
   "execution_count": null,
   "metadata": {
    "collapsed": true
   },
   "outputs": [],
   "source": [
    "\n",
    "\n",
    "fig = plt.figure(figsize=(15,10))\n",
    "ax = fig.gca(projection='3d')\n",
    "\n",
    "\n",
    "X, Y, Z = np.meshgrid(target_x*2-1.,target_y*2-1., target_z*2-1.)\n",
    "\n",
    "scale=1\n",
    "U=np.sqrt(drho_covmat_grid[:,:,:,0,0])*scale\n",
    "V=np.sqrt(drho_covmat_grid[:,:,:,1,1])*scale\n",
    "W=np.sqrt(drho_covmat_grid[:,:,:,2,2])*scale\n",
    "\n",
    "#ax=plt.subplot(1,2,1)\n",
    "plt.quiver(X, Y, Z, U, V, W)\n",
    "plt.quiver(X, Y, Z, -U, -V, -W)\n",
    "\n",
    "ax.set_aspect('equal')"
   ]
  },
  {
   "cell_type": "code",
   "execution_count": null,
   "metadata": {
    "collapsed": true
   },
   "outputs": [],
   "source": [
    "drho_covmat_grid.diagonal(axis1=3, axis2=4)"
   ]
  },
  {
   "cell_type": "code",
   "execution_count": null,
   "metadata": {
    "collapsed": true
   },
   "outputs": [],
   "source": []
  }
 ],
 "metadata": {
  "kernelspec": {
   "display_name": "Python 3",
   "language": "python",
   "name": "python3"
  },
  "language_info": {
   "codemirror_mode": {
    "name": "ipython",
    "version": 3
   },
   "file_extension": ".py",
   "mimetype": "text/x-python",
   "name": "python",
   "nbconvert_exporter": "python",
   "pygments_lexer": "ipython3",
   "version": "3.6.2"
  }
 },
 "nbformat": 4,
 "nbformat_minor": 1
}
